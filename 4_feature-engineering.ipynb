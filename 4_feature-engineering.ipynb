{
 "cells": [
  {
   "cell_type": "code",
   "execution_count": 1,
   "id": "adc126bf",
   "metadata": {},
   "outputs": [],
   "source": [
    "import pandas as pd\n",
    "import numpy as np"
   ]
  },
  {
   "cell_type": "code",
   "execution_count": 2,
   "id": "4485170b",
   "metadata": {},
   "outputs": [],
   "source": [
    "df = pd.read_csv('./data/all-data.csv', names = ['labels','messages'],encoding='ISO-8859-1')"
   ]
  },
  {
   "cell_type": "code",
   "execution_count": 3,
   "id": "21559908",
   "metadata": {},
   "outputs": [
    {
     "data": {
      "text/plain": [
       "labels      0\n",
       "messages    0\n",
       "dtype: int64"
      ]
     },
     "execution_count": 3,
     "metadata": {},
     "output_type": "execute_result"
    }
   ],
   "source": [
    "df.isnull().sum()"
   ]
  },
  {
   "cell_type": "code",
   "execution_count": 4,
   "id": "aa8cfc67",
   "metadata": {},
   "outputs": [
    {
     "data": {
      "text/html": [
       "<div>\n",
       "<style scoped>\n",
       "    .dataframe tbody tr th:only-of-type {\n",
       "        vertical-align: middle;\n",
       "    }\n",
       "\n",
       "    .dataframe tbody tr th {\n",
       "        vertical-align: top;\n",
       "    }\n",
       "\n",
       "    .dataframe thead th {\n",
       "        text-align: right;\n",
       "    }\n",
       "</style>\n",
       "<table border=\"1\" class=\"dataframe\">\n",
       "  <thead>\n",
       "    <tr style=\"text-align: right;\">\n",
       "      <th></th>\n",
       "      <th>labels</th>\n",
       "      <th>messages</th>\n",
       "    </tr>\n",
       "  </thead>\n",
       "  <tbody>\n",
       "    <tr>\n",
       "      <th>0</th>\n",
       "      <td>neutral</td>\n",
       "      <td>According to Gran , the company has no plans t...</td>\n",
       "    </tr>\n",
       "    <tr>\n",
       "      <th>1</th>\n",
       "      <td>neutral</td>\n",
       "      <td>Technopolis plans to develop in stages an area...</td>\n",
       "    </tr>\n",
       "    <tr>\n",
       "      <th>2</th>\n",
       "      <td>negative</td>\n",
       "      <td>The international electronic industry company ...</td>\n",
       "    </tr>\n",
       "    <tr>\n",
       "      <th>3</th>\n",
       "      <td>positive</td>\n",
       "      <td>With the new production plant the company woul...</td>\n",
       "    </tr>\n",
       "    <tr>\n",
       "      <th>4</th>\n",
       "      <td>positive</td>\n",
       "      <td>According to the company 's updated strategy f...</td>\n",
       "    </tr>\n",
       "  </tbody>\n",
       "</table>\n",
       "</div>"
      ],
      "text/plain": [
       "     labels                                           messages\n",
       "0   neutral  According to Gran , the company has no plans t...\n",
       "1   neutral  Technopolis plans to develop in stages an area...\n",
       "2  negative  The international electronic industry company ...\n",
       "3  positive  With the new production plant the company woul...\n",
       "4  positive  According to the company 's updated strategy f..."
      ]
     },
     "execution_count": 4,
     "metadata": {},
     "output_type": "execute_result"
    }
   ],
   "source": [
    "df_copy = df.copy()\n",
    "df_copy.head()"
   ]
  },
  {
   "cell_type": "code",
   "execution_count": 5,
   "id": "1195df2f",
   "metadata": {},
   "outputs": [
    {
     "data": {
      "text/html": [
       "<div>\n",
       "<style scoped>\n",
       "    .dataframe tbody tr th:only-of-type {\n",
       "        vertical-align: middle;\n",
       "    }\n",
       "\n",
       "    .dataframe tbody tr th {\n",
       "        vertical-align: top;\n",
       "    }\n",
       "\n",
       "    .dataframe thead th {\n",
       "        text-align: right;\n",
       "    }\n",
       "</style>\n",
       "<table border=\"1\" class=\"dataframe\">\n",
       "  <thead>\n",
       "    <tr style=\"text-align: right;\">\n",
       "      <th></th>\n",
       "      <th>labels</th>\n",
       "      <th>messages</th>\n",
       "      <th>target</th>\n",
       "    </tr>\n",
       "  </thead>\n",
       "  <tbody>\n",
       "    <tr>\n",
       "      <th>0</th>\n",
       "      <td>neutral</td>\n",
       "      <td>According to Gran , the company has no plans t...</td>\n",
       "      <td>0</td>\n",
       "    </tr>\n",
       "    <tr>\n",
       "      <th>1</th>\n",
       "      <td>neutral</td>\n",
       "      <td>Technopolis plans to develop in stages an area...</td>\n",
       "      <td>0</td>\n",
       "    </tr>\n",
       "    <tr>\n",
       "      <th>2</th>\n",
       "      <td>negative</td>\n",
       "      <td>The international electronic industry company ...</td>\n",
       "      <td>1</td>\n",
       "    </tr>\n",
       "    <tr>\n",
       "      <th>3</th>\n",
       "      <td>positive</td>\n",
       "      <td>With the new production plant the company woul...</td>\n",
       "      <td>2</td>\n",
       "    </tr>\n",
       "    <tr>\n",
       "      <th>4</th>\n",
       "      <td>positive</td>\n",
       "      <td>According to the company 's updated strategy f...</td>\n",
       "      <td>2</td>\n",
       "    </tr>\n",
       "  </tbody>\n",
       "</table>\n",
       "</div>"
      ],
      "text/plain": [
       "     labels                                           messages  target\n",
       "0   neutral  According to Gran , the company has no plans t...       0\n",
       "1   neutral  Technopolis plans to develop in stages an area...       0\n",
       "2  negative  The international electronic industry company ...       1\n",
       "3  positive  With the new production plant the company woul...       2\n",
       "4  positive  According to the company 's updated strategy f...       2"
      ]
     },
     "execution_count": 5,
     "metadata": {},
     "output_type": "execute_result"
    }
   ],
   "source": [
    "def func(df_new):\n",
    "    if df_new == 'neutral':\n",
    "        return 0\n",
    "    elif df_new == 'negative':\n",
    "        return 1\n",
    "    else:\n",
    "        return 2\n",
    "df_copy['target'] = df_copy.labels.apply(func)\n",
    "df_copy.head()"
   ]
  },
  {
   "cell_type": "code",
   "execution_count": 6,
   "id": "9acd0c95",
   "metadata": {},
   "outputs": [],
   "source": [
    "# Maptplolib\n",
    "import matplotlib.pyplot as plt \n",
    "\n",
    "# Seaborn\n",
    "import seaborn as sns "
   ]
  },
  {
   "cell_type": "code",
   "execution_count": 7,
   "id": "14d56cc2",
   "metadata": {},
   "outputs": [
    {
     "data": {
      "image/png": "[encoded data removed]",
      "text/plain": [
       "<Figure size 648x504 with 1 Axes>"
      ]
     },
     "metadata": {
      "needs_background": "light"
     },
     "output_type": "display_data"
    }
   ],
   "source": [
    "# Count plot for labels feature\n",
    "plt.figure(figsize=(9,7))\n",
    "df_copy.labels.value_counts().plot(kind='bar',color=['blue','lime','red'])\n",
    "plt.xlabel(\"News Type\")\n",
    "plt.ylabel(\"count\")\n",
    "plt.title(\"Count Plot for labels\");"
   ]
  },
  {
   "cell_type": "code",
   "execution_count": 8,
   "id": "42ca96bd",
   "metadata": {},
   "outputs": [],
   "source": [
    "#nltk\n",
    "import nltk\n",
    "from nltk.corpus import stopwords\n",
    "from nltk.stem import PorterStemmer"
   ]
  },
  {
   "cell_type": "code",
   "execution_count": 9,
   "id": "173c7210",
   "metadata": {},
   "outputs": [],
   "source": [
    "import re"
   ]
  },
  {
   "cell_type": "code",
   "execution_count": 10,
   "id": "7cde8c5e",
   "metadata": {},
   "outputs": [],
   "source": [
    "# Text preprocessing\n",
    "corpous = list()\n",
    "\n",
    "#Object for porterstem\n",
    "ps = PorterStemmer()\n",
    "\n",
    "for i in range(len(df_copy)):\n",
    "    text = re.sub(r'[^a-zA-Z]',' ',df_copy.messages[i])\n",
    "    text = text.lower()\n",
    "    text = text.split()\n",
    "    text = [ps.stem(word) for word in text if word not in set(stopwords.words('english'))]\n",
    "    text = ' '.join(text)\n",
    "    corpous.append(text)"
   ]
  },
  {
   "cell_type": "code",
   "execution_count": 11,
   "id": "6fff3125",
   "metadata": {},
   "outputs": [],
   "source": [
    "from sklearn.feature_extraction.text import CountVectorizer\n",
    "cv = CountVectorizer(max_features=5000,ngram_range=(1,3))\n",
    "X = cv.fit_transform(corpous).toarray()"
   ]
  },
  {
   "cell_type": "code",
   "execution_count": 12,
   "id": "8208716b",
   "metadata": {},
   "outputs": [],
   "source": [
    "# Dependent Feature\n",
    "y = df_copy.target"
   ]
  },
  {
   "cell_type": "code",
   "execution_count": 13,
   "id": "18607f14",
   "metadata": {},
   "outputs": [],
   "source": [
    "from sklearn.model_selection import train_test_split\n",
    "X_train,X_test,y_train,y_test = train_test_split(X,y,test_size=0.2,random_state=43)"
   ]
  },
  {
   "cell_type": "code",
   "execution_count": 14,
   "id": "a26ddde8",
   "metadata": {},
   "outputs": [
    {
     "data": {
      "text/plain": [
       "array(['ab', 'ab sto', 'abb', ..., 'york', 'zinc', 'zone'], dtype=object)"
      ]
     },
     "execution_count": 14,
     "metadata": {},
     "output_type": "execute_result"
    }
   ],
   "source": [
    "cv.get_feature_names_out()"
   ]
  },
  {
   "cell_type": "code",
   "execution_count": 15,
   "id": "9a0bd765",
   "metadata": {},
   "outputs": [],
   "source": [
    "# Scikit-learn\n",
    "from sklearn.metrics import confusion_matrix,classification_report\n",
    "from sklearn.naive_bayes import MultinomialNB\n",
    "from sklearn.linear_model import LogisticRegression\n",
    "from sklearn.svm import SVC\n",
    "from sklearn.ensemble import RandomForestClassifier"
   ]
  },
  {
   "cell_type": "code",
   "execution_count": 16,
   "id": "2fbcb1f4",
   "metadata": {},
   "outputs": [],
   "source": [
    "# Build Models\n",
    "\n",
    "models = {\n",
    "    MultinomialNB():'Multinomial Naive Bayes',\n",
    "    LogisticRegression(max_iter=300):'Logistic Regression',\n",
    "    SVC(C=1.0, kernel='linear', degree=3, gamma='auto'):\"Support Vector Machine\"\n",
    "}\n",
    "for m in models.keys():\n",
    "    m.fit(X_train,y_train)"
   ]
  },
  {
   "cell_type": "code",
   "execution_count": 17,
   "id": "e64ebd39",
   "metadata": {},
   "outputs": [
    {
     "name": "stdout",
     "output_type": "stream",
     "text": [
      "Accuracy Score for Multinomial Naive Bayes is :  69.38144329896907 %\n",
      "Accuracy Score for Logistic Regression is :  75.87628865979381 %\n",
      "Accuracy Score for Support Vector Machine is :  71.75257731958763 %\n"
     ]
    }
   ],
   "source": [
    "# Check Accuracy for each model\n",
    "for model,name in models.items():\n",
    "     print(f\"Accuracy Score for {name} is : \",model.score(X_test,y_test)*100,\"%\")"
   ]
  },
  {
   "cell_type": "markdown",
   "id": "99823a62",
   "metadata": {},
   "source": [
    "### \"Sentiment-Analysis\" Pipeline"
   ]
  },
  {
   "cell_type": "code",
   "execution_count": 18,
   "id": "bed4859e",
   "metadata": {},
   "outputs": [],
   "source": [
    "#### Pretrained pipeline applied to data:\n",
    "\n",
    "from transformers import pipeline"
   ]
  },
  {
   "cell_type": "code",
   "execution_count": 20,
   "id": "cb1a3863",
   "metadata": {},
   "outputs": [
    {
     "data": {
      "application/vnd.jupyter.widget-view+json": {
       "model_id": "8daf84de1a3044bb866afd790fd7bc4a",
       "version_major": 2,
       "version_minor": 0
      },
      "text/plain": [
       "Downloading pytorch_model.bin:   0%|          | 0.00/255M [00:00<?, ?B/s]"
      ]
     },
     "metadata": {},
     "output_type": "display_data"
    }
   ],
   "source": [
    "checkpoint = 'distilbert-base-uncased-finetuned-sst-2-english'\n",
    "classifier = pipeline(\"sentiment-analysis\", checkpoint)"
   ]
  },
  {
   "cell_type": "code",
   "execution_count": 21,
   "id": "fe77e9a3",
   "metadata": {},
   "outputs": [],
   "source": [
    "df['sentiment'] = df.messages.apply(classifier)"
   ]
  },
  {
   "cell_type": "code",
   "execution_count": 22,
   "id": "48f9a253",
   "metadata": {},
   "outputs": [
    {
     "data": {
      "text/plain": [
       "[{'label': 'NEGATIVE', 'score': 0.9906287789344788}]"
      ]
     },
     "execution_count": 22,
     "metadata": {},
     "output_type": "execute_result"
    }
   ],
   "source": [
    "classifier(df.messages[0])"
   ]
  },
  {
   "cell_type": "code",
   "execution_count": 23,
   "id": "4b000583",
   "metadata": {
    "scrolled": true
   },
   "outputs": [],
   "source": [
    "score_ls = [df.sentiment[i][0]['score'] for i in range(len(df.sentiment))]"
   ]
  },
  {
   "cell_type": "code",
   "execution_count": 24,
   "id": "6a66fde7",
   "metadata": {},
   "outputs": [],
   "source": [
    "df['score'] = score_ls"
   ]
  },
  {
   "cell_type": "code",
   "execution_count": 25,
   "id": "b6e17a2a",
   "metadata": {},
   "outputs": [],
   "source": [
    "df['pred_sentiment'] = [df.sentiment[i][0]['label'] for i in range(len(df.sentiment))]"
   ]
  },
  {
   "cell_type": "code",
   "execution_count": 26,
   "id": "9f3827c7",
   "metadata": {},
   "outputs": [
    {
     "data": {
      "text/plain": [
       "array(['NEGATIVE', 'POSITIVE'], dtype=object)"
      ]
     },
     "execution_count": 26,
     "metadata": {},
     "output_type": "execute_result"
    }
   ],
   "source": [
    "df.pred_sentiment.unique()"
   ]
  },
  {
   "cell_type": "code",
   "execution_count": 27,
   "id": "47b8601a",
   "metadata": {},
   "outputs": [
    {
     "data": {
      "text/html": [
       "<div>\n",
       "<style scoped>\n",
       "    .dataframe tbody tr th:only-of-type {\n",
       "        vertical-align: middle;\n",
       "    }\n",
       "\n",
       "    .dataframe tbody tr th {\n",
       "        vertical-align: top;\n",
       "    }\n",
       "\n",
       "    .dataframe thead th {\n",
       "        text-align: right;\n",
       "    }\n",
       "</style>\n",
       "<table border=\"1\" class=\"dataframe\">\n",
       "  <thead>\n",
       "    <tr style=\"text-align: right;\">\n",
       "      <th></th>\n",
       "      <th>labels</th>\n",
       "      <th>messages</th>\n",
       "      <th>sentiment</th>\n",
       "      <th>score</th>\n",
       "      <th>pred_sentiment</th>\n",
       "    </tr>\n",
       "  </thead>\n",
       "  <tbody>\n",
       "    <tr>\n",
       "      <th>0</th>\n",
       "      <td>neutral</td>\n",
       "      <td>According to Gran , the company has no plans t...</td>\n",
       "      <td>[{'label': 'NEGATIVE', 'score': 0.990628778934...</td>\n",
       "      <td>0.990629</td>\n",
       "      <td>NEGATIVE</td>\n",
       "    </tr>\n",
       "    <tr>\n",
       "      <th>1</th>\n",
       "      <td>neutral</td>\n",
       "      <td>Technopolis plans to develop in stages an area...</td>\n",
       "      <td>[{'label': 'POSITIVE', 'score': 0.563786029815...</td>\n",
       "      <td>0.563786</td>\n",
       "      <td>POSITIVE</td>\n",
       "    </tr>\n",
       "    <tr>\n",
       "      <th>2</th>\n",
       "      <td>negative</td>\n",
       "      <td>The international electronic industry company ...</td>\n",
       "      <td>[{'label': 'NEGATIVE', 'score': 0.967324018478...</td>\n",
       "      <td>0.967324</td>\n",
       "      <td>NEGATIVE</td>\n",
       "    </tr>\n",
       "    <tr>\n",
       "      <th>3</th>\n",
       "      <td>positive</td>\n",
       "      <td>With the new production plant the company woul...</td>\n",
       "      <td>[{'label': 'POSITIVE', 'score': 0.997083485126...</td>\n",
       "      <td>0.997083</td>\n",
       "      <td>POSITIVE</td>\n",
       "    </tr>\n",
       "    <tr>\n",
       "      <th>4</th>\n",
       "      <td>positive</td>\n",
       "      <td>According to the company 's updated strategy f...</td>\n",
       "      <td>[{'label': 'POSITIVE', 'score': 0.861706733703...</td>\n",
       "      <td>0.861707</td>\n",
       "      <td>POSITIVE</td>\n",
       "    </tr>\n",
       "  </tbody>\n",
       "</table>\n",
       "</div>"
      ],
      "text/plain": [
       "     labels                                           messages  \\\n",
       "0   neutral  According to Gran , the company has no plans t...   \n",
       "1   neutral  Technopolis plans to develop in stages an area...   \n",
       "2  negative  The international electronic industry company ...   \n",
       "3  positive  With the new production plant the company woul...   \n",
       "4  positive  According to the company 's updated strategy f...   \n",
       "\n",
       "                                           sentiment     score pred_sentiment  \n",
       "0  [{'label': 'NEGATIVE', 'score': 0.990628778934...  0.990629       NEGATIVE  \n",
       "1  [{'label': 'POSITIVE', 'score': 0.563786029815...  0.563786       POSITIVE  \n",
       "2  [{'label': 'NEGATIVE', 'score': 0.967324018478...  0.967324       NEGATIVE  \n",
       "3  [{'label': 'POSITIVE', 'score': 0.997083485126...  0.997083       POSITIVE  \n",
       "4  [{'label': 'POSITIVE', 'score': 0.861706733703...  0.861707       POSITIVE  "
      ]
     },
     "execution_count": 27,
     "metadata": {},
     "output_type": "execute_result"
    }
   ],
   "source": [
    "df.head()"
   ]
  },
  {
   "cell_type": "code",
   "execution_count": 28,
   "id": "7fdcf00f",
   "metadata": {},
   "outputs": [],
   "source": [
    "df['accurate'] = 0"
   ]
  },
  {
   "cell_type": "code",
   "execution_count": 29,
   "id": "c757e3c1",
   "metadata": {},
   "outputs": [],
   "source": [
    "for i, row in df.iterrows():\n",
    "    accurate_val = 0\n",
    "    if row.labels == row.pred_sentiment.lower():\n",
    "        accurate_val = 1\n",
    "    df.at[i,'accurate'] = accurate_val"
   ]
  },
  {
   "cell_type": "code",
   "execution_count": 30,
   "id": "bf6939ea",
   "metadata": {},
   "outputs": [
    {
     "data": {
      "text/html": [
       "<div>\n",
       "<style scoped>\n",
       "    .dataframe tbody tr th:only-of-type {\n",
       "        vertical-align: middle;\n",
       "    }\n",
       "\n",
       "    .dataframe tbody tr th {\n",
       "        vertical-align: top;\n",
       "    }\n",
       "\n",
       "    .dataframe thead th {\n",
       "        text-align: right;\n",
       "    }\n",
       "</style>\n",
       "<table border=\"1\" class=\"dataframe\">\n",
       "  <thead>\n",
       "    <tr style=\"text-align: right;\">\n",
       "      <th></th>\n",
       "      <th>labels</th>\n",
       "      <th>messages</th>\n",
       "      <th>sentiment</th>\n",
       "      <th>score</th>\n",
       "      <th>pred_sentiment</th>\n",
       "      <th>accurate</th>\n",
       "    </tr>\n",
       "  </thead>\n",
       "  <tbody>\n",
       "    <tr>\n",
       "      <th>0</th>\n",
       "      <td>neutral</td>\n",
       "      <td>According to Gran , the company has no plans t...</td>\n",
       "      <td>[{'label': 'NEGATIVE', 'score': 0.990628778934...</td>\n",
       "      <td>0.990629</td>\n",
       "      <td>NEGATIVE</td>\n",
       "      <td>0</td>\n",
       "    </tr>\n",
       "    <tr>\n",
       "      <th>1</th>\n",
       "      <td>neutral</td>\n",
       "      <td>Technopolis plans to develop in stages an area...</td>\n",
       "      <td>[{'label': 'POSITIVE', 'score': 0.563786029815...</td>\n",
       "      <td>0.563786</td>\n",
       "      <td>POSITIVE</td>\n",
       "      <td>0</td>\n",
       "    </tr>\n",
       "    <tr>\n",
       "      <th>2</th>\n",
       "      <td>negative</td>\n",
       "      <td>The international electronic industry company ...</td>\n",
       "      <td>[{'label': 'NEGATIVE', 'score': 0.967324018478...</td>\n",
       "      <td>0.967324</td>\n",
       "      <td>NEGATIVE</td>\n",
       "      <td>1</td>\n",
       "    </tr>\n",
       "    <tr>\n",
       "      <th>3</th>\n",
       "      <td>positive</td>\n",
       "      <td>With the new production plant the company woul...</td>\n",
       "      <td>[{'label': 'POSITIVE', 'score': 0.997083485126...</td>\n",
       "      <td>0.997083</td>\n",
       "      <td>POSITIVE</td>\n",
       "      <td>1</td>\n",
       "    </tr>\n",
       "    <tr>\n",
       "      <th>4</th>\n",
       "      <td>positive</td>\n",
       "      <td>According to the company 's updated strategy f...</td>\n",
       "      <td>[{'label': 'POSITIVE', 'score': 0.861706733703...</td>\n",
       "      <td>0.861707</td>\n",
       "      <td>POSITIVE</td>\n",
       "      <td>1</td>\n",
       "    </tr>\n",
       "  </tbody>\n",
       "</table>\n",
       "</div>"
      ],
      "text/plain": [
       "     labels                                           messages  \\\n",
       "0   neutral  According to Gran , the company has no plans t...   \n",
       "1   neutral  Technopolis plans to develop in stages an area...   \n",
       "2  negative  The international electronic industry company ...   \n",
       "3  positive  With the new production plant the company woul...   \n",
       "4  positive  According to the company 's updated strategy f...   \n",
       "\n",
       "                                           sentiment     score pred_sentiment  \\\n",
       "0  [{'label': 'NEGATIVE', 'score': 0.990628778934...  0.990629       NEGATIVE   \n",
       "1  [{'label': 'POSITIVE', 'score': 0.563786029815...  0.563786       POSITIVE   \n",
       "2  [{'label': 'NEGATIVE', 'score': 0.967324018478...  0.967324       NEGATIVE   \n",
       "3  [{'label': 'POSITIVE', 'score': 0.997083485126...  0.997083       POSITIVE   \n",
       "4  [{'label': 'POSITIVE', 'score': 0.861706733703...  0.861707       POSITIVE   \n",
       "\n",
       "   accurate  \n",
       "0         0  \n",
       "1         0  \n",
       "2         1  \n",
       "3         1  \n",
       "4         1  "
      ]
     },
     "execution_count": 30,
     "metadata": {},
     "output_type": "execute_result"
    }
   ],
   "source": [
    "df.head()"
   ]
  },
  {
   "cell_type": "code",
   "execution_count": 31,
   "id": "70e2e759",
   "metadata": {},
   "outputs": [
    {
     "data": {
      "text/plain": [
       "0    3398\n",
       "1    1448\n",
       "Name: accurate, dtype: int64"
      ]
     },
     "execution_count": 31,
     "metadata": {},
     "output_type": "execute_result"
    }
   ],
   "source": [
    "## Check how many predictions the pipeline accurately predicted the sentiment\n",
    "\n",
    "df.accurate.value_counts()"
   ]
  },
  {
   "cell_type": "code",
   "execution_count": 32,
   "id": "930038be",
   "metadata": {},
   "outputs": [
    {
     "data": {
      "text/plain": [
       "neutral     2879\n",
       "positive    1363\n",
       "negative     604\n",
       "Name: labels, dtype: int64"
      ]
     },
     "execution_count": 32,
     "metadata": {},
     "output_type": "execute_result"
    }
   ],
   "source": [
    "df.labels.value_counts()"
   ]
  },
  {
   "cell_type": "markdown",
   "id": "0d9e386b",
   "metadata": {},
   "source": [
    "The pipeline misidentified  3398 of 4846, however, with 2879 neutral sentiments of 4846, this is unsurprising."
   ]
  },
  {
   "cell_type": "code",
   "execution_count": 33,
   "id": "3d159c3a",
   "metadata": {},
   "outputs": [
    {
     "data": {
      "image/png": "[encoded data removed]",
      "text/plain": [
       "<Figure size 432x288 with 1 Axes>"
      ]
     },
     "metadata": {
      "needs_background": "light"
     },
     "output_type": "display_data"
    }
   ],
   "source": [
    "df[df.labels=='negative'].accurate.value_counts().plot(kind='barh')\n",
    "plt.title('Count of accurate negative predictions')\n",
    "plt.yticks(ticks = [1, 0], labels=['Innacurate', 'Accurate'])\n",
    "plt.show()"
   ]
  },
  {
   "cell_type": "code",
   "execution_count": 34,
   "id": "5ce5e51e",
   "metadata": {},
   "outputs": [
    {
     "data": {
      "image/png": "[encoded data removed]",
      "text/plain": [
       "<Figure size 432x288 with 1 Axes>"
      ]
     },
     "metadata": {
      "needs_background": "light"
     },
     "output_type": "display_data"
    }
   ],
   "source": [
    "df[df.labels=='positive'].accurate.value_counts().plot(kind='barh')\n",
    "plt.title('Count of accurate positive predictions')\n",
    "plt.yticks(ticks = [1, 0], labels=['Innacurate', 'Accurate'])\n",
    "plt.show()"
   ]
  },
  {
   "cell_type": "markdown",
   "id": "57802db5",
   "metadata": {},
   "source": [
    "The sentiment pipeline does a relatively decent job detecting negative sentiment, with a 97 % accuracy; on the other hand, it misses positive scores at a significantly higher rate, with a 63% accuracy. "
   ]
  },
  {
   "cell_type": "markdown",
   "id": "fc46d55f",
   "metadata": {},
   "source": [
    "### Transfer Learning + Soft Max for Categorical Target"
   ]
  },
  {
   "cell_type": "markdown",
   "id": "23a2b85d",
   "metadata": {},
   "source": [
    "Representatives of the encoders:\n",
    "    \n",
    "    Albert\n",
    "    Bert\n",
    "    DistilBERT\n",
    "    ELECTRA\n",
    "    RoBERTa"
   ]
  },
  {
   "cell_type": "code",
   "execution_count": 35,
   "id": "0f8ff7cb",
   "metadata": {},
   "outputs": [],
   "source": [
    "from transformers import AutoTokenizer\n",
    "from datasets import load_dataset, Dataset\n",
    "\n",
    "checkpoint = \"bert-base-uncased\"\n",
    "tokenizer = AutoTokenizer.from_pretrained(checkpoint)"
   ]
  },
  {
   "cell_type": "code",
   "execution_count": null,
   "id": "6580b329",
   "metadata": {},
   "outputs": [],
   "source": [
    "df_copy.target.replace([1, 2], [2, 4], inplace=True)"
   ]
  },
  {
   "cell_type": "code",
   "execution_count": null,
   "id": "606efcd2",
   "metadata": {},
   "outputs": [],
   "source": [
    "df_copy.drop('labels', axis=1, inplace=True)"
   ]
  },
  {
   "cell_type": "code",
   "execution_count": null,
   "id": "6dd31927",
   "metadata": {},
   "outputs": [],
   "source": [
    "X = df_copy.drop(\"target\", axis=1).values\n",
    "y = df_copy.target.values"
   ]
  },
  {
   "cell_type": "markdown",
   "id": "df139d02",
   "metadata": {},
   "source": [
    "**explanation**\n",
    "\n",
    "The data needs to be formatted so that it can be processed properly. In addition to loading the df into Dataset, we will also split train/test. Typically, data will be loaded and not generated from local memory. "
   ]
  },
  {
   "cell_type": "code",
   "execution_count": null,
   "id": "df20b4f5",
   "metadata": {},
   "outputs": [],
   "source": [
    "dataset = Dataset.from_pandas(df_copy)"
   ]
  },
  {
   "cell_type": "code",
   "execution_count": null,
   "id": "94dd859b",
   "metadata": {},
   "outputs": [],
   "source": [
    "dataset = dataset.train_test_split(test_size=0.2, seed=42)"
   ]
  },
  {
   "cell_type": "code",
   "execution_count": null,
   "id": "f7ef4875",
   "metadata": {},
   "outputs": [],
   "source": [
    "dataset['train']"
   ]
  },
  {
   "cell_type": "markdown",
   "id": "03800f09",
   "metadata": {},
   "source": [
    "The function below takes in a dictionary and returns a new dictionary. When using the dataset.map() function, we can retain the initial structure of the dictionary and add the input_ids as well as the attention mask as additional keys in the dictionary. This will later be used to create our tensorflow train and validation datasets after some further processing."
   ]
  },
  {
   "cell_type": "code",
   "execution_count": null,
   "id": "2d567498",
   "metadata": {},
   "outputs": [],
   "source": [
    "## padding = True ensures that all vectors are the same length\n",
    "## truncation = True cuts off sentences too long; since headline, not likely\n",
    "## return_tensors = tf means TensorFlow tensors are returned.\n",
    "\n",
    "def tokenize_func(datasets):\n",
    "    return tokenizer(dataset['train']['messages'])\n",
    "    return tokenizer(dataset['test']['messages'])\n",
    "\n",
    "tokenized_datasets = dataset.map(tokenize_func)"
   ]
  },
  {
   "cell_type": "code",
   "execution_count": null,
   "id": "fafb51ca",
   "metadata": {},
   "outputs": [],
   "source": [
    "tokenized_datasets"
   ]
  },
  {
   "cell_type": "code",
   "execution_count": null,
   "id": "f46e0925",
   "metadata": {},
   "outputs": [],
   "source": [
    "---"
   ]
  },
  {
   "cell_type": "code",
   "execution_count": null,
   "id": "16cef0c0",
   "metadata": {},
   "outputs": [],
   "source": [
    "tokenized_datasets['train']['input_ids'][0]"
   ]
  },
  {
   "cell_type": "code",
   "execution_count": null,
   "id": "1bba2031",
   "metadata": {},
   "outputs": [],
   "source": [
    "from transformers import TFAutoModelForSequenceClassification\n",
    "\n",
    "model = TFAutoModelForSequenceClassification.from_pretrained(checkpoint, num_labels=3)"
   ]
  },
  {
   "cell_type": "code",
   "execution_count": null,
   "id": "bf8a95c6",
   "metadata": {},
   "outputs": [],
   "source": []
  }
 ],
 "metadata": {
  "kernelspec": {
   "display_name": "Python 3 (ipykernel)",
   "language": "python",
   "name": "python3"
  },
  "language_info": {
   "codemirror_mode": {
    "name": "ipython",
    "version": 3
   },
   "file_extension": ".py",
   "mimetype": "text/x-python",
   "name": "python",
   "nbconvert_exporter": "python",
   "pygments_lexer": "ipython3",
   "version": "3.9.7"
  }
 },
 "nbformat": 4,
 "nbformat_minor": 5
}
