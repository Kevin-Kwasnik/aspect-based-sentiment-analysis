{
 "cells": [
  {
   "cell_type": "code",
   "execution_count": 63,
   "id": "adc126bf",
   "metadata": {},
   "outputs": [],
   "source": [
    "import pandas as pd\n",
    "import numpy as np\n",
    "import matplotlib.pyplot as plt\n",
    "import seaborn as sns"
   ]
  },
  {
   "cell_type": "code",
   "execution_count": 2,
   "id": "4485170b",
   "metadata": {},
   "outputs": [],
   "source": [
    "df = pd.read_csv('./data/all-data.csv', names = ['labels','messages'],encoding='ISO-8859-1')"
   ]
  },
  {
   "cell_type": "code",
   "execution_count": 3,
   "id": "21559908",
   "metadata": {},
   "outputs": [
    {
     "data": {
      "text/plain": [
       "labels      0\n",
       "messages    0\n",
       "dtype: int64"
      ]
     },
     "execution_count": 3,
     "metadata": {},
     "output_type": "execute_result"
    }
   ],
   "source": [
    "df.isnull().sum()"
   ]
  },
  {
   "cell_type": "code",
   "execution_count": 4,
   "id": "aa8cfc67",
   "metadata": {},
   "outputs": [
    {
     "data": {
      "text/html": [
       "<div>\n",
       "<style scoped>\n",
       "    .dataframe tbody tr th:only-of-type {\n",
       "        vertical-align: middle;\n",
       "    }\n",
       "\n",
       "    .dataframe tbody tr th {\n",
       "        vertical-align: top;\n",
       "    }\n",
       "\n",
       "    .dataframe thead th {\n",
       "        text-align: right;\n",
       "    }\n",
       "</style>\n",
       "<table border=\"1\" class=\"dataframe\">\n",
       "  <thead>\n",
       "    <tr style=\"text-align: right;\">\n",
       "      <th></th>\n",
       "      <th>labels</th>\n",
       "      <th>messages</th>\n",
       "    </tr>\n",
       "  </thead>\n",
       "  <tbody>\n",
       "    <tr>\n",
       "      <th>0</th>\n",
       "      <td>neutral</td>\n",
       "      <td>According to Gran , the company has no plans t...</td>\n",
       "    </tr>\n",
       "    <tr>\n",
       "      <th>1</th>\n",
       "      <td>neutral</td>\n",
       "      <td>Technopolis plans to develop in stages an area...</td>\n",
       "    </tr>\n",
       "    <tr>\n",
       "      <th>2</th>\n",
       "      <td>negative</td>\n",
       "      <td>The international electronic industry company ...</td>\n",
       "    </tr>\n",
       "    <tr>\n",
       "      <th>3</th>\n",
       "      <td>positive</td>\n",
       "      <td>With the new production plant the company woul...</td>\n",
       "    </tr>\n",
       "    <tr>\n",
       "      <th>4</th>\n",
       "      <td>positive</td>\n",
       "      <td>According to the company 's updated strategy f...</td>\n",
       "    </tr>\n",
       "  </tbody>\n",
       "</table>\n",
       "</div>"
      ],
      "text/plain": [
       "     labels                                           messages\n",
       "0   neutral  According to Gran , the company has no plans t...\n",
       "1   neutral  Technopolis plans to develop in stages an area...\n",
       "2  negative  The international electronic industry company ...\n",
       "3  positive  With the new production plant the company woul...\n",
       "4  positive  According to the company 's updated strategy f..."
      ]
     },
     "execution_count": 4,
     "metadata": {},
     "output_type": "execute_result"
    }
   ],
   "source": [
    "df_copy = df.copy()\n",
    "df_copy.head()"
   ]
  },
  {
   "cell_type": "code",
   "execution_count": 5,
   "id": "1195df2f",
   "metadata": {},
   "outputs": [
    {
     "data": {
      "text/html": [
       "<div>\n",
       "<style scoped>\n",
       "    .dataframe tbody tr th:only-of-type {\n",
       "        vertical-align: middle;\n",
       "    }\n",
       "\n",
       "    .dataframe tbody tr th {\n",
       "        vertical-align: top;\n",
       "    }\n",
       "\n",
       "    .dataframe thead th {\n",
       "        text-align: right;\n",
       "    }\n",
       "</style>\n",
       "<table border=\"1\" class=\"dataframe\">\n",
       "  <thead>\n",
       "    <tr style=\"text-align: right;\">\n",
       "      <th></th>\n",
       "      <th>labels</th>\n",
       "      <th>messages</th>\n",
       "      <th>target</th>\n",
       "    </tr>\n",
       "  </thead>\n",
       "  <tbody>\n",
       "    <tr>\n",
       "      <th>0</th>\n",
       "      <td>neutral</td>\n",
       "      <td>According to Gran , the company has no plans t...</td>\n",
       "      <td>0</td>\n",
       "    </tr>\n",
       "    <tr>\n",
       "      <th>1</th>\n",
       "      <td>neutral</td>\n",
       "      <td>Technopolis plans to develop in stages an area...</td>\n",
       "      <td>0</td>\n",
       "    </tr>\n",
       "    <tr>\n",
       "      <th>2</th>\n",
       "      <td>negative</td>\n",
       "      <td>The international electronic industry company ...</td>\n",
       "      <td>1</td>\n",
       "    </tr>\n",
       "    <tr>\n",
       "      <th>3</th>\n",
       "      <td>positive</td>\n",
       "      <td>With the new production plant the company woul...</td>\n",
       "      <td>2</td>\n",
       "    </tr>\n",
       "    <tr>\n",
       "      <th>4</th>\n",
       "      <td>positive</td>\n",
       "      <td>According to the company 's updated strategy f...</td>\n",
       "      <td>2</td>\n",
       "    </tr>\n",
       "  </tbody>\n",
       "</table>\n",
       "</div>"
      ],
      "text/plain": [
       "     labels                                           messages  target\n",
       "0   neutral  According to Gran , the company has no plans t...       0\n",
       "1   neutral  Technopolis plans to develop in stages an area...       0\n",
       "2  negative  The international electronic industry company ...       1\n",
       "3  positive  With the new production plant the company woul...       2\n",
       "4  positive  According to the company 's updated strategy f...       2"
      ]
     },
     "execution_count": 5,
     "metadata": {},
     "output_type": "execute_result"
    }
   ],
   "source": [
    "def func(df_new):\n",
    "    if df_new == 'neutral':\n",
    "        return 0\n",
    "    elif df_new == 'negative':\n",
    "        return 1\n",
    "    else:\n",
    "        return 2\n",
    "df_copy['target'] = df_copy.labels.apply(func)\n",
    "df_copy.head()"
   ]
  },
  {
   "cell_type": "code",
   "execution_count": 6,
   "id": "9acd0c95",
   "metadata": {},
   "outputs": [],
   "source": [
    "# Maptplolib\n",
    "import matplotlib.pyplot as plt \n",
    "\n",
    "# Seaborn\n",
    "import seaborn as sns "
   ]
  },
  {
   "cell_type": "code",
   "execution_count": 132,
   "id": "14d56cc2",
   "metadata": {},
   "outputs": [
    {
     "data": {
      "image/png": "[encoded data removed]",
      "text/plain": [
       "<Figure size 648x504 with 1 Axes>"
      ]
     },
     "metadata": {
      "needs_background": "light"
     },
     "output_type": "display_data"
    }
   ],
   "source": [
    "# Count plot for labels feature\n",
    "plt.figure(figsize=(9,7))\n",
    "df_copy.labels.value_counts().plot(kind='bar',color=['darkblue','mediumturquoise','deeppink'])\n",
    "plt.xlabel(\"News Type\")\n",
    "plt.ylabel(\"count\")\n",
    "plt.title(\"Count Plot for labels\");"
   ]
  },
  {
   "cell_type": "code",
   "execution_count": 8,
   "id": "42ca96bd",
   "metadata": {},
   "outputs": [],
   "source": [
    "#nltk\n",
    "import nltk\n",
    "from nltk.corpus import stopwords\n",
    "from nltk.stem import PorterStemmer"
   ]
  },
  {
   "cell_type": "code",
   "execution_count": 9,
   "id": "173c7210",
   "metadata": {},
   "outputs": [],
   "source": [
    "import re"
   ]
  },
  {
   "cell_type": "code",
   "execution_count": 10,
   "id": "7cde8c5e",
   "metadata": {},
   "outputs": [],
   "source": [
    "# Text preprocessing\n",
    "corpous = list()\n",
    "\n",
    "#Object for porterstem\n",
    "ps = PorterStemmer()\n",
    "\n",
    "for i in range(len(df_copy)):\n",
    "    text = re.sub(r'[^a-zA-Z]',' ',df_copy.messages[i])\n",
    "    text = text.lower()\n",
    "    text = text.split()\n",
    "    text = [ps.stem(word) for word in text if word not in set(stopwords.words('english'))]\n",
    "    text = ' '.join(text)\n",
    "    corpous.append(text)"
   ]
  },
  {
   "cell_type": "code",
   "execution_count": 11,
   "id": "6fff3125",
   "metadata": {},
   "outputs": [],
   "source": [
    "from sklearn.feature_extraction.text import CountVectorizer\n",
    "cv = CountVectorizer(max_features=5000,ngram_range=(1,3))\n",
    "X = cv.fit_transform(corpous).toarray()"
   ]
  },
  {
   "cell_type": "code",
   "execution_count": 12,
   "id": "8208716b",
   "metadata": {},
   "outputs": [],
   "source": [
    "# Dependent Feature\n",
    "y = df_copy.target"
   ]
  },
  {
   "cell_type": "code",
   "execution_count": 13,
   "id": "18607f14",
   "metadata": {},
   "outputs": [],
   "source": [
    "from sklearn.model_selection import train_test_split\n",
    "X_train,X_test,y_train,y_test = train_test_split(X,y,test_size=0.2,random_state=43)"
   ]
  },
  {
   "cell_type": "code",
   "execution_count": 14,
   "id": "a26ddde8",
   "metadata": {},
   "outputs": [
    {
     "data": {
      "text/plain": [
       "array(['ab', 'ab sto', 'abb', ..., 'york', 'zinc', 'zone'], dtype=object)"
      ]
     },
     "execution_count": 14,
     "metadata": {},
     "output_type": "execute_result"
    }
   ],
   "source": [
    "cv.get_feature_names_out()"
   ]
  },
  {
   "cell_type": "code",
   "execution_count": 15,
   "id": "9a0bd765",
   "metadata": {},
   "outputs": [],
   "source": [
    "# Scikit-learn\n",
    "from sklearn.metrics import confusion_matrix,classification_report\n",
    "from sklearn.naive_bayes import MultinomialNB\n",
    "from sklearn.linear_model import LogisticRegression\n",
    "from sklearn.svm import SVC\n",
    "from sklearn.ensemble import RandomForestClassifier"
   ]
  },
  {
   "cell_type": "code",
   "execution_count": 16,
   "id": "2fbcb1f4",
   "metadata": {},
   "outputs": [],
   "source": [
    "# Build Models\n",
    "\n",
    "models = {\n",
    "    MultinomialNB():'Multinomial Naive Bayes',\n",
    "    LogisticRegression(max_iter=300):'Logistic Regression',\n",
    "    SVC(C=1.0, kernel='linear', degree=3, gamma='auto'):\"Support Vector Machine\"\n",
    "}\n",
    "for m in models.keys():\n",
    "    m.fit(X_train,y_train)"
   ]
  },
  {
   "cell_type": "code",
   "execution_count": 17,
   "id": "e64ebd39",
   "metadata": {},
   "outputs": [
    {
     "name": "stdout",
     "output_type": "stream",
     "text": [
      "Accuracy Score for Multinomial Naive Bayes is :  69.38144329896907 %\n",
      "Accuracy Score for Logistic Regression is :  75.87628865979381 %\n",
      "Accuracy Score for Support Vector Machine is :  71.75257731958763 %\n"
     ]
    }
   ],
   "source": [
    "# Check Accuracy for each model\n",
    "for model,name in models.items():\n",
    "     print(f\"Accuracy Score for {name} is : \",model.score(X_test,y_test)*100,\"%\")"
   ]
  },
  {
   "cell_type": "markdown",
   "id": "99823a62",
   "metadata": {},
   "source": [
    "## \"Default\" sentiment-analysis pipeline"
   ]
  },
  {
   "cell_type": "markdown",
   "id": "b2fd44df",
   "metadata": {},
   "source": [
    "Below we are going to start using the Huggingface library to predict the sentiment. The first attempt is to use the out-of-the-box \"sentiment-analysis\" pipeline with the default tuned distilbert model. This, however, doesn't match the needs of the project as we have three categories: 'positive', 'neutral', and 'negative'. The default distilbert model only has two available options. Nevertheless, the model scores particularly well on 'negative sentiments' and costs little to no time to code. "
   ]
  },
  {
   "cell_type": "code",
   "execution_count": 18,
   "id": "bed4859e",
   "metadata": {},
   "outputs": [],
   "source": [
    "#### Pretrained pipeline applied to data:\n",
    "\n",
    "from transformers import pipeline"
   ]
  },
  {
   "cell_type": "code",
   "execution_count": 32,
   "id": "cb1a3863",
   "metadata": {},
   "outputs": [],
   "source": [
    "checkpoint = 'distilbert-base-uncased-finetuned-sst-2-english'\n",
    "classifier = pipeline(\"sentiment-analysis\", checkpoint)"
   ]
  },
  {
   "cell_type": "code",
   "execution_count": 33,
   "id": "fe77e9a3",
   "metadata": {},
   "outputs": [],
   "source": [
    "df['sentiment_default'] = df.messages.apply(classifier)"
   ]
  },
  {
   "cell_type": "code",
   "execution_count": 34,
   "id": "48f9a253",
   "metadata": {},
   "outputs": [
    {
     "data": {
      "text/plain": [
       "[{'label': 'NEGATIVE', 'score': 0.9906287789344788}]"
      ]
     },
     "execution_count": 34,
     "metadata": {},
     "output_type": "execute_result"
    }
   ],
   "source": [
    "classifier(df.messages[0])"
   ]
  },
  {
   "cell_type": "code",
   "execution_count": 35,
   "id": "4b000583",
   "metadata": {
    "scrolled": true
   },
   "outputs": [],
   "source": [
    "score_ls = [df.sentiment[i][0]['score'] for i in range(len(df.sentiment))]"
   ]
  },
  {
   "cell_type": "code",
   "execution_count": 37,
   "id": "6a66fde7",
   "metadata": {},
   "outputs": [],
   "source": [
    "df['score_default'] = score_ls"
   ]
  },
  {
   "cell_type": "code",
   "execution_count": 43,
   "id": "3c3396bb",
   "metadata": {},
   "outputs": [],
   "source": [
    "df.rename(columns={'sentiment':'sentiment_default'}, inplace=True)"
   ]
  },
  {
   "cell_type": "code",
   "execution_count": 48,
   "id": "b6e17a2a",
   "metadata": {},
   "outputs": [],
   "source": [
    "df['pred_sentiment_default'] = [df.sentiment_default[i][0]['label'] for i in range(len(df.sentiment_default))]"
   ]
  },
  {
   "cell_type": "code",
   "execution_count": 49,
   "id": "9f3827c7",
   "metadata": {},
   "outputs": [
    {
     "data": {
      "text/plain": [
       "array(['NEGATIVE', 'POSITIVE'], dtype=object)"
      ]
     },
     "execution_count": 49,
     "metadata": {},
     "output_type": "execute_result"
    }
   ],
   "source": [
    "df.pred_sentiment_default.unique()"
   ]
  },
  {
   "cell_type": "code",
   "execution_count": 51,
   "id": "7fdcf00f",
   "metadata": {},
   "outputs": [],
   "source": [
    "df['accurate_default'] = 0"
   ]
  },
  {
   "cell_type": "code",
   "execution_count": 56,
   "id": "c757e3c1",
   "metadata": {},
   "outputs": [],
   "source": [
    "for i, row in df.iterrows():\n",
    "    accurate_val = 0\n",
    "    if row.labels == row.pred_sentiment_default.lower():\n",
    "        accurate_val = 1\n",
    "    df.at[i,'accurate_default'] = accurate_val"
   ]
  },
  {
   "cell_type": "code",
   "execution_count": 57,
   "id": "bf6939ea",
   "metadata": {},
   "outputs": [
    {
     "data": {
      "text/html": [
       "<div>\n",
       "<style scoped>\n",
       "    .dataframe tbody tr th:only-of-type {\n",
       "        vertical-align: middle;\n",
       "    }\n",
       "\n",
       "    .dataframe tbody tr th {\n",
       "        vertical-align: top;\n",
       "    }\n",
       "\n",
       "    .dataframe thead th {\n",
       "        text-align: right;\n",
       "    }\n",
       "</style>\n",
       "<table border=\"1\" class=\"dataframe\">\n",
       "  <thead>\n",
       "    <tr style=\"text-align: right;\">\n",
       "      <th></th>\n",
       "      <th>labels</th>\n",
       "      <th>messages</th>\n",
       "      <th>sentiment_default</th>\n",
       "      <th>score_default</th>\n",
       "      <th>pred_sentiment_default</th>\n",
       "      <th>accurate_default</th>\n",
       "    </tr>\n",
       "  </thead>\n",
       "  <tbody>\n",
       "    <tr>\n",
       "      <th>0</th>\n",
       "      <td>neutral</td>\n",
       "      <td>According to Gran , the company has no plans t...</td>\n",
       "      <td>[{'label': 'NEGATIVE', 'score': 0.990628778934...</td>\n",
       "      <td>0.990629</td>\n",
       "      <td>NEGATIVE</td>\n",
       "      <td>0</td>\n",
       "    </tr>\n",
       "    <tr>\n",
       "      <th>1</th>\n",
       "      <td>neutral</td>\n",
       "      <td>Technopolis plans to develop in stages an area...</td>\n",
       "      <td>[{'label': 'POSITIVE', 'score': 0.563786029815...</td>\n",
       "      <td>0.563786</td>\n",
       "      <td>POSITIVE</td>\n",
       "      <td>0</td>\n",
       "    </tr>\n",
       "    <tr>\n",
       "      <th>2</th>\n",
       "      <td>negative</td>\n",
       "      <td>The international electronic industry company ...</td>\n",
       "      <td>[{'label': 'NEGATIVE', 'score': 0.967324018478...</td>\n",
       "      <td>0.967324</td>\n",
       "      <td>NEGATIVE</td>\n",
       "      <td>1</td>\n",
       "    </tr>\n",
       "    <tr>\n",
       "      <th>3</th>\n",
       "      <td>positive</td>\n",
       "      <td>With the new production plant the company woul...</td>\n",
       "      <td>[{'label': 'POSITIVE', 'score': 0.997083485126...</td>\n",
       "      <td>0.997083</td>\n",
       "      <td>POSITIVE</td>\n",
       "      <td>1</td>\n",
       "    </tr>\n",
       "    <tr>\n",
       "      <th>4</th>\n",
       "      <td>positive</td>\n",
       "      <td>According to the company 's updated strategy f...</td>\n",
       "      <td>[{'label': 'POSITIVE', 'score': 0.861706733703...</td>\n",
       "      <td>0.861707</td>\n",
       "      <td>POSITIVE</td>\n",
       "      <td>1</td>\n",
       "    </tr>\n",
       "  </tbody>\n",
       "</table>\n",
       "</div>"
      ],
      "text/plain": [
       "     labels                                           messages  \\\n",
       "0   neutral  According to Gran , the company has no plans t...   \n",
       "1   neutral  Technopolis plans to develop in stages an area...   \n",
       "2  negative  The international electronic industry company ...   \n",
       "3  positive  With the new production plant the company woul...   \n",
       "4  positive  According to the company 's updated strategy f...   \n",
       "\n",
       "                                   sentiment_default  score_default  \\\n",
       "0  [{'label': 'NEGATIVE', 'score': 0.990628778934...       0.990629   \n",
       "1  [{'label': 'POSITIVE', 'score': 0.563786029815...       0.563786   \n",
       "2  [{'label': 'NEGATIVE', 'score': 0.967324018478...       0.967324   \n",
       "3  [{'label': 'POSITIVE', 'score': 0.997083485126...       0.997083   \n",
       "4  [{'label': 'POSITIVE', 'score': 0.861706733703...       0.861707   \n",
       "\n",
       "  pred_sentiment_default  accurate_default  \n",
       "0               NEGATIVE                 0  \n",
       "1               POSITIVE                 0  \n",
       "2               NEGATIVE                 1  \n",
       "3               POSITIVE                 1  \n",
       "4               POSITIVE                 1  "
      ]
     },
     "execution_count": 57,
     "metadata": {},
     "output_type": "execute_result"
    }
   ],
   "source": [
    "df.head()"
   ]
  },
  {
   "cell_type": "code",
   "execution_count": 87,
   "id": "5e73db7b",
   "metadata": {},
   "outputs": [],
   "source": [
    "plt.rcParams[\"figure.figsize\"] = (8,8)\n",
    "plt.rcParams['font.size'] =16"
   ]
  },
  {
   "cell_type": "code",
   "execution_count": 290,
   "id": "70e2e759",
   "metadata": {},
   "outputs": [
    {
     "data": {
      "image/png": "[encoded data removed]",
      "text/plain": [
       "<Figure size 864x576 with 1 Axes>"
      ]
     },
     "metadata": {},
     "output_type": "display_data"
    }
   ],
   "source": [
    "## Check how many predictions the pipeline accurately predicted the sentiment\n",
    "total= len(df.accurate_default)\n",
    "explode=[0,.05]\n",
    "plt.pie(df.accurate_default.value_counts(), labels=['Innacurate', 'Accurate'], explode=explode,colors=['deeppink','cadetblue'], \n",
    "        shadow=True, autopct=lambda p: '{:.4f}%\\n({:.0f})'.format(p, total*p/100))\n",
    "plt.title('Accuracy of Default Distilbert Model')\n",
    "plt.show()"
   ]
  },
  {
   "cell_type": "code",
   "execution_count": null,
   "id": "930038be",
   "metadata": {},
   "outputs": [],
   "source": [
    "df.labels.value_counts()"
   ]
  },
  {
   "cell_type": "markdown",
   "id": "0d9e386b",
   "metadata": {},
   "source": [
    "The pipeline misidentified  3398 of 4846, however, with 2879 neutral sentiments of 4846, this is unsurprising."
   ]
  },
  {
   "cell_type": "code",
   "execution_count": 301,
   "id": "4e33e548",
   "metadata": {},
   "outputs": [
    {
     "data": {
      "image/png": "[encoded data removed]",
      "text/plain": [
       "<Figure size 864x576 with 1 Axes>"
      ]
     },
     "metadata": {},
     "output_type": "display_data"
    }
   ],
   "source": [
    "total= len(df[df.labels=='negative'])\n",
    "explode=[0,.7]\n",
    "plt.pie(df[df.labels=='negative'].accurate_default.value_counts(), labels=['Accurate', 'Innaccurate'],\n",
    "        explode=explode, shadow=True, autopct=lambda p: '{:.4f}%\\n({:.0f})'.format(p, total*p/100),\n",
    "        pctdistance=1.3, labeldistance=1.6, colors=['cadetblue','deeppink'], startangle=-200)\n",
    "plt.title('Accuracy of Default Distilbert Model - Negative Sentiment')\n",
    "plt.show()"
   ]
  },
  {
   "cell_type": "code",
   "execution_count": 305,
   "id": "0a3adbce",
   "metadata": {},
   "outputs": [
    {
     "data": {
      "image/png": "[encoded data removed]",
      "text/plain": [
       "<Figure size 864x576 with 1 Axes>"
      ]
     },
     "metadata": {},
     "output_type": "display_data"
    }
   ],
   "source": [
    "total= len(df[df.labels=='positive'])\n",
    "explode=[0,.05]\n",
    "plt.pie(df[df.labels=='positive'].accurate_default.value_counts(), labels=['Accurate', 'Innaccurate'],\n",
    "        explode=explode, shadow=True, autopct=lambda p: '{:.4f}%\\n({:.0f})'.format(p, total*p/100),\n",
    "        colors=['cadetblue','deeppink'], startangle=-145)\n",
    "plt.title('Accuracy of Default Distilbert Model - Positive Sentiment')\n",
    "plt.show()"
   ]
  },
  {
   "cell_type": "markdown",
   "id": "57802db5",
   "metadata": {},
   "source": [
    "The sentiment pipeline does a relatively decent job detecting negative sentiment, with a 97 % accuracy; on the other hand, it misses positive scores at a significantly higher rate, with a 63% accuracy. "
   ]
  },
  {
   "cell_type": "markdown",
   "id": "6c46ed69",
   "metadata": {},
   "source": [
    "## FinancialBERT for Sentiment Analysis\n",
    "\n",
    "FinancialBERT is a BERT model pre-trained on a large corpora of financial texts. The purpose is to enhance financial NLP research and practice in financial domain, hoping that financial practitioners and researchers can benefit from this model without the necessity of the significant computational resources required to train the model.\n",
    "\n",
    "The model was fine-tuned for Sentiment Analysis task on Financial PhraseBank dataset. Experiments show that this model outperforms the general BERT and other financial domain-specific models.\n",
    "\n",
    "More details on FinancialBERT's pre-training process can be found at: https://www.researchgate.net/publication/358284785_FinancialBERT_-_A_Pretrained_Language_Model_for_Financial_Text_Mining\n",
    "\n",
    "Training data\n",
    "FinancialBERT model was fine-tuned on Financial PhraseBank, a dataset consisting of 4840 Financial News categorised by sentiment (negative, neutral, positive).\n",
    "\n",
    "Fine-tuning hyper-parameters\n",
    "learning_rate = 2e-5\n",
    "batch_size = 32\n",
    "max_seq_length = 512\n",
    "num_train_epochs = 5\n",
    "Evaluation metrics\n",
    "The evaluation metrics used are: Precision, Recall and F1-score. The following is the classification report on the test set."
   ]
  },
  {
   "cell_type": "code",
   "execution_count": 149,
   "id": "a7e9a30d",
   "metadata": {},
   "outputs": [
    {
     "data": {
      "application/vnd.jupyter.widget-view+json": {
       "model_id": "e82fda1c8cd94a56b1bf31bfd4b1eb1d",
       "version_major": 2,
       "version_minor": 0
      },
      "text/plain": [
       "Downloading config.json:   0%|          | 0.00/789 [00:00<?, ?B/s]"
      ]
     },
     "metadata": {},
     "output_type": "display_data"
    },
    {
     "data": {
      "application/vnd.jupyter.widget-view+json": {
       "model_id": "49669a18941c474e8090c96d8e588819",
       "version_major": 2,
       "version_minor": 0
      },
      "text/plain": [
       "Downloading pytorch_model.bin:   0%|          | 0.00/419M [00:00<?, ?B/s]"
      ]
     },
     "metadata": {},
     "output_type": "display_data"
    },
    {
     "data": {
      "application/vnd.jupyter.widget-view+json": {
       "model_id": "0bfc4c8286e84601a6352faf62756d0d",
       "version_major": 2,
       "version_minor": 0
      },
      "text/plain": [
       "Downloading vocab.txt:   0%|          | 0.00/221k [00:00<?, ?B/s]"
      ]
     },
     "metadata": {},
     "output_type": "display_data"
    },
    {
     "data": {
      "application/vnd.jupyter.widget-view+json": {
       "model_id": "718f0ce812a8460690dbcde9731ed725",
       "version_major": 2,
       "version_minor": 0
      },
      "text/plain": [
       "Downloading special_tokens_map.json:   0%|          | 0.00/112 [00:00<?, ?B/s]"
      ]
     },
     "metadata": {},
     "output_type": "display_data"
    },
    {
     "data": {
      "application/vnd.jupyter.widget-view+json": {
       "model_id": "a56b1a4a76cd4c9596fc59ed9ec3c240",
       "version_major": 2,
       "version_minor": 0
      },
      "text/plain": [
       "Downloading tokenizer_config.json:   0%|          | 0.00/369 [00:00<?, ?B/s]"
      ]
     },
     "metadata": {},
     "output_type": "display_data"
    }
   ],
   "source": [
    "from transformers import BertTokenizer, BertForSequenceClassification\n",
    "from transformers import pipeline\n",
    "\n",
    "model = BertForSequenceClassification.from_pretrained(\"ahmedrachid/FinancialBERT-Sentiment-Analysis\",num_labels=3)\n",
    "tokenizer = BertTokenizer.from_pretrained(\"ahmedrachid/FinancialBERT-Sentiment-Analysis\")\n",
    "\n",
    "nlp = pipeline(\"sentiment-analysis\", model=model, tokenizer=tokenizer)"
   ]
  },
  {
   "cell_type": "code",
   "execution_count": 150,
   "id": "4faca0b1",
   "metadata": {},
   "outputs": [],
   "source": [
    "test_mod = nlp(df_copy.loc[2, \"messages\"], )"
   ]
  },
  {
   "cell_type": "code",
   "execution_count": 151,
   "id": "9e7e015d",
   "metadata": {},
   "outputs": [
    {
     "data": {
      "text/plain": [
       "[{'label': 'negative', 'score': 0.9996824264526367}]"
      ]
     },
     "execution_count": 151,
     "metadata": {},
     "output_type": "execute_result"
    }
   ],
   "source": [
    "test_mod"
   ]
  },
  {
   "cell_type": "code",
   "execution_count": 152,
   "id": "c01ff35a",
   "metadata": {},
   "outputs": [],
   "source": [
    "#create a new column which corresponds to the new model's sentiment prediction\n",
    "df['sentiment_finbert'] = df['messages'].apply(nlp)"
   ]
  },
  {
   "cell_type": "code",
   "execution_count": 153,
   "id": "b21d423c",
   "metadata": {},
   "outputs": [
    {
     "data": {
      "text/html": [
       "<div>\n",
       "<style scoped>\n",
       "    .dataframe tbody tr th:only-of-type {\n",
       "        vertical-align: middle;\n",
       "    }\n",
       "\n",
       "    .dataframe tbody tr th {\n",
       "        vertical-align: top;\n",
       "    }\n",
       "\n",
       "    .dataframe thead th {\n",
       "        text-align: right;\n",
       "    }\n",
       "</style>\n",
       "<table border=\"1\" class=\"dataframe\">\n",
       "  <thead>\n",
       "    <tr style=\"text-align: right;\">\n",
       "      <th></th>\n",
       "      <th>labels</th>\n",
       "      <th>messages</th>\n",
       "      <th>sentiment_default</th>\n",
       "      <th>score_default</th>\n",
       "      <th>pred_sentiment_default</th>\n",
       "      <th>accurate_default</th>\n",
       "      <th>sentiment_finbert</th>\n",
       "    </tr>\n",
       "  </thead>\n",
       "  <tbody>\n",
       "    <tr>\n",
       "      <th>0</th>\n",
       "      <td>neutral</td>\n",
       "      <td>According to Gran , the company has no plans t...</td>\n",
       "      <td>[{'label': 'NEGATIVE', 'score': 0.990628778934...</td>\n",
       "      <td>0.990629</td>\n",
       "      <td>NEGATIVE</td>\n",
       "      <td>0</td>\n",
       "      <td>[{'label': 'neutral', 'score': 0.9888190627098...</td>\n",
       "    </tr>\n",
       "    <tr>\n",
       "      <th>1</th>\n",
       "      <td>neutral</td>\n",
       "      <td>Technopolis plans to develop in stages an area...</td>\n",
       "      <td>[{'label': 'POSITIVE', 'score': 0.563786029815...</td>\n",
       "      <td>0.563786</td>\n",
       "      <td>POSITIVE</td>\n",
       "      <td>0</td>\n",
       "      <td>[{'label': 'neutral', 'score': 0.9998527765274...</td>\n",
       "    </tr>\n",
       "    <tr>\n",
       "      <th>2</th>\n",
       "      <td>negative</td>\n",
       "      <td>The international electronic industry company ...</td>\n",
       "      <td>[{'label': 'NEGATIVE', 'score': 0.967324018478...</td>\n",
       "      <td>0.967324</td>\n",
       "      <td>NEGATIVE</td>\n",
       "      <td>1</td>\n",
       "      <td>[{'label': 'negative', 'score': 0.999682426452...</td>\n",
       "    </tr>\n",
       "    <tr>\n",
       "      <th>3</th>\n",
       "      <td>positive</td>\n",
       "      <td>With the new production plant the company woul...</td>\n",
       "      <td>[{'label': 'POSITIVE', 'score': 0.997083485126...</td>\n",
       "      <td>0.997083</td>\n",
       "      <td>POSITIVE</td>\n",
       "      <td>1</td>\n",
       "      <td>[{'label': 'positive', 'score': 0.999854922294...</td>\n",
       "    </tr>\n",
       "    <tr>\n",
       "      <th>4</th>\n",
       "      <td>positive</td>\n",
       "      <td>According to the company 's updated strategy f...</td>\n",
       "      <td>[{'label': 'POSITIVE', 'score': 0.861706733703...</td>\n",
       "      <td>0.861707</td>\n",
       "      <td>POSITIVE</td>\n",
       "      <td>1</td>\n",
       "      <td>[{'label': 'positive', 'score': 0.999766051769...</td>\n",
       "    </tr>\n",
       "  </tbody>\n",
       "</table>\n",
       "</div>"
      ],
      "text/plain": [
       "     labels                                           messages  \\\n",
       "0   neutral  According to Gran , the company has no plans t...   \n",
       "1   neutral  Technopolis plans to develop in stages an area...   \n",
       "2  negative  The international electronic industry company ...   \n",
       "3  positive  With the new production plant the company woul...   \n",
       "4  positive  According to the company 's updated strategy f...   \n",
       "\n",
       "                                   sentiment_default  score_default  \\\n",
       "0  [{'label': 'NEGATIVE', 'score': 0.990628778934...       0.990629   \n",
       "1  [{'label': 'POSITIVE', 'score': 0.563786029815...       0.563786   \n",
       "2  [{'label': 'NEGATIVE', 'score': 0.967324018478...       0.967324   \n",
       "3  [{'label': 'POSITIVE', 'score': 0.997083485126...       0.997083   \n",
       "4  [{'label': 'POSITIVE', 'score': 0.861706733703...       0.861707   \n",
       "\n",
       "  pred_sentiment_default  accurate_default  \\\n",
       "0               NEGATIVE                 0   \n",
       "1               POSITIVE                 0   \n",
       "2               NEGATIVE                 1   \n",
       "3               POSITIVE                 1   \n",
       "4               POSITIVE                 1   \n",
       "\n",
       "                                   sentiment_finbert  \n",
       "0  [{'label': 'neutral', 'score': 0.9888190627098...  \n",
       "1  [{'label': 'neutral', 'score': 0.9998527765274...  \n",
       "2  [{'label': 'negative', 'score': 0.999682426452...  \n",
       "3  [{'label': 'positive', 'score': 0.999854922294...  \n",
       "4  [{'label': 'positive', 'score': 0.999766051769...  "
      ]
     },
     "execution_count": 153,
     "metadata": {},
     "output_type": "execute_result"
    }
   ],
   "source": [
    "df.head(2)"
   ]
  },
  {
   "cell_type": "code",
   "execution_count": 154,
   "id": "870fe049",
   "metadata": {},
   "outputs": [],
   "source": [
    "#extract a list of the sentiments from the \n",
    "df['score_finbert'] = [df.sentiment_finbert[i][0]['score'] for i in range(len(df.sentiment_finbert))]\n",
    "\n",
    "#extract the predicted label\n",
    "df['pred_sentiment_finbert'] = [df.sentiment_finbert[i][0]['label'] for i in range(len(df.sentiment_finbert))]\n",
    "\n",
    "#create a dummy column to iterate over for bertweet predictions\n",
    "df['accurate_finbert'] = 0\n",
    "\n",
    "#score\n",
    "for i, row in df.iterrows():\n",
    "    accurate_val = 0\n",
    "    if row.labels == row.pred_sentiment_finbert.lower():\n",
    "        accurate_val = 1\n",
    "    df.at[i,'accurate_finbert'] = accurate_val"
   ]
  },
  {
   "cell_type": "code",
   "execution_count": 155,
   "id": "a4714dac",
   "metadata": {},
   "outputs": [
    {
     "data": {
      "text/html": [
       "<div>\n",
       "<style scoped>\n",
       "    .dataframe tbody tr th:only-of-type {\n",
       "        vertical-align: middle;\n",
       "    }\n",
       "\n",
       "    .dataframe tbody tr th {\n",
       "        vertical-align: top;\n",
       "    }\n",
       "\n",
       "    .dataframe thead th {\n",
       "        text-align: right;\n",
       "    }\n",
       "</style>\n",
       "<table border=\"1\" class=\"dataframe\">\n",
       "  <thead>\n",
       "    <tr style=\"text-align: right;\">\n",
       "      <th></th>\n",
       "      <th>labels</th>\n",
       "      <th>messages</th>\n",
       "      <th>sentiment_default</th>\n",
       "      <th>score_default</th>\n",
       "      <th>pred_sentiment_default</th>\n",
       "      <th>accurate_default</th>\n",
       "      <th>sentiment_finbert</th>\n",
       "      <th>score_finbert</th>\n",
       "      <th>pred_sentiment_finbert</th>\n",
       "      <th>accurate_finbert</th>\n",
       "    </tr>\n",
       "  </thead>\n",
       "  <tbody>\n",
       "    <tr>\n",
       "      <th>0</th>\n",
       "      <td>neutral</td>\n",
       "      <td>According to Gran , the company has no plans t...</td>\n",
       "      <td>[{'label': 'NEGATIVE', 'score': 0.990628778934...</td>\n",
       "      <td>0.990629</td>\n",
       "      <td>NEGATIVE</td>\n",
       "      <td>0</td>\n",
       "      <td>[{'label': 'neutral', 'score': 0.9888190627098...</td>\n",
       "      <td>0.988819</td>\n",
       "      <td>neutral</td>\n",
       "      <td>1</td>\n",
       "    </tr>\n",
       "    <tr>\n",
       "      <th>1</th>\n",
       "      <td>neutral</td>\n",
       "      <td>Technopolis plans to develop in stages an area...</td>\n",
       "      <td>[{'label': 'POSITIVE', 'score': 0.563786029815...</td>\n",
       "      <td>0.563786</td>\n",
       "      <td>POSITIVE</td>\n",
       "      <td>0</td>\n",
       "      <td>[{'label': 'neutral', 'score': 0.9998527765274...</td>\n",
       "      <td>0.999853</td>\n",
       "      <td>neutral</td>\n",
       "      <td>1</td>\n",
       "    </tr>\n",
       "    <tr>\n",
       "      <th>2</th>\n",
       "      <td>negative</td>\n",
       "      <td>The international electronic industry company ...</td>\n",
       "      <td>[{'label': 'NEGATIVE', 'score': 0.967324018478...</td>\n",
       "      <td>0.967324</td>\n",
       "      <td>NEGATIVE</td>\n",
       "      <td>1</td>\n",
       "      <td>[{'label': 'negative', 'score': 0.999682426452...</td>\n",
       "      <td>0.999682</td>\n",
       "      <td>negative</td>\n",
       "      <td>1</td>\n",
       "    </tr>\n",
       "    <tr>\n",
       "      <th>3</th>\n",
       "      <td>positive</td>\n",
       "      <td>With the new production plant the company woul...</td>\n",
       "      <td>[{'label': 'POSITIVE', 'score': 0.997083485126...</td>\n",
       "      <td>0.997083</td>\n",
       "      <td>POSITIVE</td>\n",
       "      <td>1</td>\n",
       "      <td>[{'label': 'positive', 'score': 0.999854922294...</td>\n",
       "      <td>0.999855</td>\n",
       "      <td>positive</td>\n",
       "      <td>1</td>\n",
       "    </tr>\n",
       "    <tr>\n",
       "      <th>4</th>\n",
       "      <td>positive</td>\n",
       "      <td>According to the company 's updated strategy f...</td>\n",
       "      <td>[{'label': 'POSITIVE', 'score': 0.861706733703...</td>\n",
       "      <td>0.861707</td>\n",
       "      <td>POSITIVE</td>\n",
       "      <td>1</td>\n",
       "      <td>[{'label': 'positive', 'score': 0.999766051769...</td>\n",
       "      <td>0.999766</td>\n",
       "      <td>positive</td>\n",
       "      <td>1</td>\n",
       "    </tr>\n",
       "  </tbody>\n",
       "</table>\n",
       "</div>"
      ],
      "text/plain": [
       "     labels                                           messages  \\\n",
       "0   neutral  According to Gran , the company has no plans t...   \n",
       "1   neutral  Technopolis plans to develop in stages an area...   \n",
       "2  negative  The international electronic industry company ...   \n",
       "3  positive  With the new production plant the company woul...   \n",
       "4  positive  According to the company 's updated strategy f...   \n",
       "\n",
       "                                   sentiment_default  score_default  \\\n",
       "0  [{'label': 'NEGATIVE', 'score': 0.990628778934...       0.990629   \n",
       "1  [{'label': 'POSITIVE', 'score': 0.563786029815...       0.563786   \n",
       "2  [{'label': 'NEGATIVE', 'score': 0.967324018478...       0.967324   \n",
       "3  [{'label': 'POSITIVE', 'score': 0.997083485126...       0.997083   \n",
       "4  [{'label': 'POSITIVE', 'score': 0.861706733703...       0.861707   \n",
       "\n",
       "  pred_sentiment_default  accurate_default  \\\n",
       "0               NEGATIVE                 0   \n",
       "1               POSITIVE                 0   \n",
       "2               NEGATIVE                 1   \n",
       "3               POSITIVE                 1   \n",
       "4               POSITIVE                 1   \n",
       "\n",
       "                                   sentiment_finbert  score_finbert  \\\n",
       "0  [{'label': 'neutral', 'score': 0.9888190627098...       0.988819   \n",
       "1  [{'label': 'neutral', 'score': 0.9998527765274...       0.999853   \n",
       "2  [{'label': 'negative', 'score': 0.999682426452...       0.999682   \n",
       "3  [{'label': 'positive', 'score': 0.999854922294...       0.999855   \n",
       "4  [{'label': 'positive', 'score': 0.999766051769...       0.999766   \n",
       "\n",
       "  pred_sentiment_finbert  accurate_finbert  \n",
       "0                neutral                 1  \n",
       "1                neutral                 1  \n",
       "2               negative                 1  \n",
       "3               positive                 1  \n",
       "4               positive                 1  "
      ]
     },
     "execution_count": 155,
     "metadata": {},
     "output_type": "execute_result"
    }
   ],
   "source": [
    "df.head()"
   ]
  },
  {
   "cell_type": "code",
   "execution_count": 321,
   "id": "da8ddab9",
   "metadata": {},
   "outputs": [
    {
     "data": {
      "image/png": "[encoded data removed]",
      "text/plain": [
       "<Figure size 864x576 with 1 Axes>"
      ]
     },
     "metadata": {},
     "output_type": "display_data"
    }
   ],
   "source": [
    "## Check how many predictions the finbert pipeline accurately predicted the sentiment\n",
    "total= len(df.accurate_finbert)\n",
    "explode=[0,.4]\n",
    "plt.pie(df.accurate_finbert.value_counts(), labels=['Accurate', 'Inaccurate'], \n",
    "        explode=explode,colors=['darkslateblue','goldenrod'], \n",
    "        shadow=True, autopct=lambda p: '{:.4f}%\\n({:.0f})'.format(p, total*p/100),\n",
    "       pctdistance=1.3, labeldistance=1.6, startangle=-20)\n",
    "plt.title('Accuracy of FinBERT Model')\n",
    "plt.show()"
   ]
  },
  {
   "cell_type": "code",
   "execution_count": 228,
   "id": "633d0151",
   "metadata": {},
   "outputs": [],
   "source": [
    "accurate= [\n",
    "    df[df.labels == 'positive'].accurate_finbert.value_counts().values[0],\n",
    "    df[df.labels == 'negative'].accurate_finbert.value_counts().values[0],\n",
    "    df[df.labels == 'neutral'].accurate_finbert.value_counts().values[0]\n",
    "]\n",
    "inaccurate = [\n",
    "    df[df.labels == 'positive'].accurate_finbert.value_counts().values[1],\n",
    "    df[df.labels == 'negative'].accurate_finbert.value_counts().values[1],\n",
    "    df[df.labels == 'neutral'].accurate_finbert.value_counts().values[1]\n",
    "]\n",
    "index = ['positive','negative','neutral']"
   ]
  },
  {
   "cell_type": "code",
   "execution_count": 229,
   "id": "5bdf7061",
   "metadata": {},
   "outputs": [],
   "source": [
    "accuracy_df = pd.DataFrame({'accurate':accurate,\n",
    "                           'inaccurate':inaccurate}, index=index)"
   ]
  },
  {
   "cell_type": "code",
   "execution_count": 289,
   "id": "5a944c04",
   "metadata": {},
   "outputs": [
    {
     "data": {
      "image/png": "[encoded data removed]",
      "text/plain": [
       "<Figure size 864x576 with 1 Axes>"
      ]
     },
     "metadata": {
      "needs_background": "light"
     },
     "output_type": "display_data"
    }
   ],
   "source": [
    "plt.rcParams[\"figure.figsize\"] = (12,8)\n",
    "ax = accuracy_df.plot.bar(rot=0, color={'accurate':'darkslateblue', 'inaccurate':'goldenrod'})\n",
    "plt.xlabel(\"sentiment\")\n",
    "plt.ylabel(\"prediction count\")\n",
    "plt.title(\"FinBERT Prediction Accuracy by Sentiment\")\n",
    "plt.bar_label(ax.containers[0])\n",
    "plt.bar_label(ax.containers[1])\n",
    "an1 = ax.annotate('3.9%', xytext=(.20, 400), xy=(.25,100),textcoords='data',\n",
    "             bbox={\"boxstyle\":\"round\", \"fc\":\"w\"},\n",
    "             arrowprops={\"arrowstyle\":\"->\",\"connectionstyle\":\"arc3\"}, va='center')\n",
    "an2 = ax.annotate('5.6%', xytext=(1.20, 400), xy=(1.25,100),textcoords='data',\n",
    "             bbox={\"boxstyle\":\"round\", \"fc\":\"w\"},\n",
    "             arrowprops={\"arrowstyle\":\"->\",\"connectionstyle\":\"arc3\"}, va='center')\n",
    "an3 = ax.annotate('4.4%', xytext=(2.20, 400), xy=(2.25,100),textcoords='data',\n",
    "             bbox={\"boxstyle\":\"round\", \"fc\":\"w\"},\n",
    "             arrowprops={\"arrowstyle\":\"->\",\"connectionstyle\":\"arc3\"}, va='center')\n",
    "plt.show()"
   ]
  },
  {
   "cell_type": "markdown",
   "id": "804fab12",
   "metadata": {},
   "source": [
    "**Results:**\n",
    "\n",
    "<br>\n",
    "Default Distilbert performs better on negative sentiments, which suggests it's a better model generally speaking; even despite lacking a 'neutral' classifier. Overall performance is clearly better due to the FinBERT model having a neutral classifer (Default Distilbert is only 28% accurate on the text data, while FinBERT is 95% accurate). The FinBERT model performed worst on a negative sentiment (with 5.5 % innacurate suggestions) compared to the 2.3% innacruate suggestions of Default DistilBERT.\n"
   ]
  },
  {
   "cell_type": "code",
   "execution_count": 323,
   "id": "8ea543a0",
   "metadata": {},
   "outputs": [],
   "source": [
    "df.to_csv(\"finBERT_results.csv\")"
   ]
  },
  {
   "cell_type": "code",
   "execution_count": 324,
   "id": "fad6cd71",
   "metadata": {},
   "outputs": [],
   "source": [
    "fin_bert = pd.read_csv(\"finBERT_results.csv\")"
   ]
  },
  {
   "cell_type": "code",
   "execution_count": 326,
   "id": "4839357a",
   "metadata": {},
   "outputs": [
    {
     "data": {
      "text/html": [
       "<div>\n",
       "<style scoped>\n",
       "    .dataframe tbody tr th:only-of-type {\n",
       "        vertical-align: middle;\n",
       "    }\n",
       "\n",
       "    .dataframe tbody tr th {\n",
       "        vertical-align: top;\n",
       "    }\n",
       "\n",
       "    .dataframe thead th {\n",
       "        text-align: right;\n",
       "    }\n",
       "</style>\n",
       "<table border=\"1\" class=\"dataframe\">\n",
       "  <thead>\n",
       "    <tr style=\"text-align: right;\">\n",
       "      <th></th>\n",
       "      <th>Unnamed: 0</th>\n",
       "      <th>labels</th>\n",
       "      <th>messages</th>\n",
       "      <th>sentiment_default</th>\n",
       "      <th>score_default</th>\n",
       "      <th>pred_sentiment_default</th>\n",
       "      <th>accurate_default</th>\n",
       "      <th>sentiment_finbert</th>\n",
       "      <th>score_finbert</th>\n",
       "      <th>pred_sentiment_finbert</th>\n",
       "      <th>accurate_finbert</th>\n",
       "    </tr>\n",
       "  </thead>\n",
       "  <tbody>\n",
       "    <tr>\n",
       "      <th>0</th>\n",
       "      <td>0</td>\n",
       "      <td>neutral</td>\n",
       "      <td>According to Gran , the company has no plans t...</td>\n",
       "      <td>[{'label': 'NEGATIVE', 'score': 0.990628778934...</td>\n",
       "      <td>0.990629</td>\n",
       "      <td>NEGATIVE</td>\n",
       "      <td>0</td>\n",
       "      <td>[{'label': 'neutral', 'score': 0.9888190627098...</td>\n",
       "      <td>0.988819</td>\n",
       "      <td>neutral</td>\n",
       "      <td>1</td>\n",
       "    </tr>\n",
       "    <tr>\n",
       "      <th>1</th>\n",
       "      <td>1</td>\n",
       "      <td>neutral</td>\n",
       "      <td>Technopolis plans to develop in stages an area...</td>\n",
       "      <td>[{'label': 'POSITIVE', 'score': 0.563786029815...</td>\n",
       "      <td>0.563786</td>\n",
       "      <td>POSITIVE</td>\n",
       "      <td>0</td>\n",
       "      <td>[{'label': 'neutral', 'score': 0.9998527765274...</td>\n",
       "      <td>0.999853</td>\n",
       "      <td>neutral</td>\n",
       "      <td>1</td>\n",
       "    </tr>\n",
       "  </tbody>\n",
       "</table>\n",
       "</div>"
      ],
      "text/plain": [
       "   Unnamed: 0   labels                                           messages  \\\n",
       "0           0  neutral  According to Gran , the company has no plans t...   \n",
       "1           1  neutral  Technopolis plans to develop in stages an area...   \n",
       "\n",
       "                                   sentiment_default  score_default  \\\n",
       "0  [{'label': 'NEGATIVE', 'score': 0.990628778934...       0.990629   \n",
       "1  [{'label': 'POSITIVE', 'score': 0.563786029815...       0.563786   \n",
       "\n",
       "  pred_sentiment_default  accurate_default  \\\n",
       "0               NEGATIVE                 0   \n",
       "1               POSITIVE                 0   \n",
       "\n",
       "                                   sentiment_finbert  score_finbert  \\\n",
       "0  [{'label': 'neutral', 'score': 0.9888190627098...       0.988819   \n",
       "1  [{'label': 'neutral', 'score': 0.9998527765274...       0.999853   \n",
       "\n",
       "  pred_sentiment_finbert  accurate_finbert  \n",
       "0                neutral                 1  \n",
       "1                neutral                 1  "
      ]
     },
     "execution_count": 326,
     "metadata": {},
     "output_type": "execute_result"
    }
   ],
   "source": [
    "fin_bert.head(2)"
   ]
  },
  {
   "cell_type": "code",
   "execution_count": null,
   "id": "34115964",
   "metadata": {},
   "outputs": [],
   "source": []
  }
 ],
 "metadata": {
  "kernelspec": {
   "display_name": "Python 3 (ipykernel)",
   "language": "python",
   "name": "python3"
  },
  "language_info": {
   "codemirror_mode": {
    "name": "ipython",
    "version": 3
   },
   "file_extension": ".py",
   "mimetype": "text/x-python",
   "name": "python",
   "nbconvert_exporter": "python",
   "pygments_lexer": "ipython3",
   "version": "3.9.7"
  }
 },
 "nbformat": 4,
 "nbformat_minor": 5
}
