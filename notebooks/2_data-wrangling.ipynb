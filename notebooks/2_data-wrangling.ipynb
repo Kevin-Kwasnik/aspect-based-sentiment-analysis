{
 "cells": [
  {
   "cell_type": "code",
   "execution_count": 1,
   "id": "10f492be",
   "metadata": {},
   "outputs": [],
   "source": [
    "import spacy\n",
    "import pandas as pd\n",
    "import numpy as np\n",
    "import nltk\n",
    "from nltk.tokenize.toktok import ToktokTokenizer\n",
    "import re\n",
    "from bs4 import BeautifulSoup\n",
    "from contractions import CONTRACTION_MAP\n",
    "#import unicodedata\n",
    "import matplotlib.pyplot as plt\n",
    "from gensim.utils import simple_preprocess\n",
    "from sklearn.model_selection import train_test_split\n",
    "\n",
    "nlp = spacy.load(\"en_core_web_sm\")\n",
    "import time\n",
    "import json\n",
    "import string\n",
    "\n",
    "tokenizer = ToktokTokenizer()\n",
    "stopword_list = nltk.corpus.stopwords.words('english')\n",
    "stopword_list.remove('no')\n",
    "stopword_list.remove('not')\n",
    "stopword_list.remove('up')\n",
    "stopword_list.remove('down')"
   ]
  },
  {
   "cell_type": "code",
   "execution_count": 2,
   "id": "11be96ef",
   "metadata": {},
   "outputs": [],
   "source": [
    "df = pd.read_csv('./data/all-data.csv', names = ['labels','messages'],encoding='ISO-8859-1')"
   ]
  },
  {
   "cell_type": "code",
   "execution_count": 3,
   "id": "943d30f6",
   "metadata": {
    "scrolled": true
   },
   "outputs": [
    {
     "data": {
      "text/html": [
       "<div>\n",
       "<style scoped>\n",
       "    .dataframe tbody tr th:only-of-type {\n",
       "        vertical-align: middle;\n",
       "    }\n",
       "\n",
       "    .dataframe tbody tr th {\n",
       "        vertical-align: top;\n",
       "    }\n",
       "\n",
       "    .dataframe thead th {\n",
       "        text-align: right;\n",
       "    }\n",
       "</style>\n",
       "<table border=\"1\" class=\"dataframe\">\n",
       "  <thead>\n",
       "    <tr style=\"text-align: right;\">\n",
       "      <th></th>\n",
       "      <th>labels</th>\n",
       "      <th>messages</th>\n",
       "    </tr>\n",
       "  </thead>\n",
       "  <tbody>\n",
       "    <tr>\n",
       "      <th>0</th>\n",
       "      <td>neutral</td>\n",
       "      <td>According to Gran , the company has no plans t...</td>\n",
       "    </tr>\n",
       "    <tr>\n",
       "      <th>1</th>\n",
       "      <td>neutral</td>\n",
       "      <td>Technopolis plans to develop in stages an area...</td>\n",
       "    </tr>\n",
       "    <tr>\n",
       "      <th>2</th>\n",
       "      <td>negative</td>\n",
       "      <td>The international electronic industry company ...</td>\n",
       "    </tr>\n",
       "    <tr>\n",
       "      <th>3</th>\n",
       "      <td>positive</td>\n",
       "      <td>With the new production plant the company woul...</td>\n",
       "    </tr>\n",
       "    <tr>\n",
       "      <th>4</th>\n",
       "      <td>positive</td>\n",
       "      <td>According to the company 's updated strategy f...</td>\n",
       "    </tr>\n",
       "  </tbody>\n",
       "</table>\n",
       "</div>"
      ],
      "text/plain": [
       "     labels                                           messages\n",
       "0   neutral  According to Gran , the company has no plans t...\n",
       "1   neutral  Technopolis plans to develop in stages an area...\n",
       "2  negative  The international electronic industry company ...\n",
       "3  positive  With the new production plant the company woul...\n",
       "4  positive  According to the company 's updated strategy f..."
      ]
     },
     "execution_count": 3,
     "metadata": {},
     "output_type": "execute_result"
    }
   ],
   "source": [
    "df.head()"
   ]
  },
  {
   "cell_type": "code",
   "execution_count": 4,
   "id": "6a820284",
   "metadata": {},
   "outputs": [
    {
     "data": {
      "image/png": "[encoded data removed]",
      "text/plain": [
       "<Figure size 640x480 with 1 Axes>"
      ]
     },
     "metadata": {},
     "output_type": "display_data"
    }
   ],
   "source": [
    "df.groupby(['labels']).count().plot.bar()\n",
    "plt.ylabel(\"Count\")\n",
    "plt.xlabel(\"Sentiment\")\n",
    "plt.title(\"Sentiment distribution in df\")\n",
    "plt.show()"
   ]
  },
  {
   "cell_type": "code",
   "execution_count": 5,
   "id": "4d54f7cb",
   "metadata": {},
   "outputs": [
    {
     "data": {
      "text/plain": [
       "', , stopwords , computer not'"
      ]
     },
     "execution_count": 5,
     "metadata": {},
     "output_type": "execute_result"
    }
   ],
   "source": [
    "### remove stopwords\n",
    "\n",
    "def remove_stopwords(text, is_lower_case=False):\n",
    "    tokens = tokenizer.tokenize(text)\n",
    "    tokens = [token.strip() for token in tokens]\n",
    "    if is_lower_case:\n",
    "        filtered_tokens = [token for token in tokens if token not in stopword_list]\n",
    "    else:\n",
    "        filtered_tokens = [token for token in tokens if token.lower() not in stopword_list]\n",
    "    filtered_text = ' '.join(filtered_tokens)    \n",
    "    return filtered_text\n",
    "\n",
    "remove_stopwords(\"The, and, if are stopwords, computer is not\")"
   ]
  },
  {
   "cell_type": "code",
   "execution_count": 6,
   "id": "95d313b6",
   "metadata": {},
   "outputs": [
    {
     "data": {
      "text/plain": [
       "'You all cannot expand contractions I would think'"
      ]
     },
     "execution_count": 6,
     "metadata": {},
     "output_type": "execute_result"
    }
   ],
   "source": [
    "def expand_contractions(text, contraction_mapping=CONTRACTION_MAP):\n",
    "    \n",
    "    contractions_pattern = re.compile('({})'.format('|'.join(contraction_mapping.keys())), \n",
    "                                      flags=re.IGNORECASE|re.DOTALL)\n",
    "    def expand_match(contraction):\n",
    "        match = contraction.group(0)\n",
    "        first_char = match[0]\n",
    "        expanded_contraction = contraction_mapping.get(match)\\\n",
    "                                if contraction_mapping.get(match)\\\n",
    "                                else contraction_mapping.get(match.lower())                       \n",
    "        expanded_contraction = first_char+expanded_contraction[1:]\n",
    "        return expanded_contraction\n",
    "        \n",
    "    expanded_text = contractions_pattern.sub(expand_match, text)\n",
    "    expanded_text = re.sub(\"'\", \"\", expanded_text)\n",
    "    return expanded_text\n",
    "\n",
    "expand_contractions(\"Y'all can't expand contractions I'd think\")"
   ]
  },
  {
   "cell_type": "code",
   "execution_count": 7,
   "id": "994a5e5f",
   "metadata": {},
   "outputs": [
    {
     "data": {
      "text/plain": [
       "'return book be something I remain think about'"
      ]
     },
     "execution_count": 7,
     "metadata": {},
     "output_type": "execute_result"
    }
   ],
   "source": [
    "def lemmatize_text(text):\n",
    "    text = nlp(text)\n",
    "    text = ' '.join([word.lemma_ if word.lemma_ != '-PRON-' else word.text for word in text])\n",
    "    return text\n",
    "\n",
    "lemmatize_text(\"Returning books is something I remain thinking about\") #odd sentence, I know"
   ]
  },
  {
   "cell_type": "code",
   "execution_count": 8,
   "id": "5c14a996",
   "metadata": {},
   "outputs": [],
   "source": [
    "def normalize_text(text):\n",
    "    exp = expand_contractions(text)\n",
    "    low = exp.lower()\n",
    "    lemm = lemmatize_text(low)\n",
    "    no_sw = remove_stopwords(lemm)\n",
    "    return simple_preprocess(no_sw)"
   ]
  },
  {
   "cell_type": "code",
   "execution_count": 9,
   "id": "d10b3598",
   "metadata": {},
   "outputs": [],
   "source": [
    "#### text preprocess:\n",
    "\n",
    "df['messages'] = [normalize_text(row) for row in df['messages']]"
   ]
  },
  {
   "cell_type": "code",
   "execution_count": 10,
   "id": "d9e4a4da",
   "metadata": {},
   "outputs": [
    {
     "data": {
      "text/plain": [
       "['accord', 'gran', 'company']"
      ]
     },
     "execution_count": 10,
     "metadata": {},
     "output_type": "execute_result"
    }
   ],
   "source": [
    "df.iloc[0]['messages'][:3]"
   ]
  },
  {
   "cell_type": "code",
   "execution_count": 11,
   "id": "ea4ed9b5",
   "metadata": {},
   "outputs": [],
   "source": [
    "### map sentiment to int:\n",
    "\n",
    "def map_sentiment(sentiment):\n",
    "    if sentiment == 'negative':\n",
    "        return 0\n",
    "    elif sentiment == 'neutral':\n",
    "        return 1\n",
    "    else:\n",
    "        return 2"
   ]
  },
  {
   "cell_type": "code",
   "execution_count": 12,
   "id": "357b9f67",
   "metadata": {},
   "outputs": [],
   "source": [
    "df['labels'] = [map_sentiment(row) for row in df['labels']]"
   ]
  },
  {
   "cell_type": "code",
   "execution_count": 13,
   "id": "290c2f00",
   "metadata": {},
   "outputs": [
    {
     "data": {
      "text/plain": [
       "0    1\n",
       "1    1\n",
       "2    0\n",
       "Name: labels, dtype: int64"
      ]
     },
     "execution_count": 13,
     "metadata": {},
     "output_type": "execute_result"
    }
   ],
   "source": [
    "df['labels'].head(3)"
   ]
  },
  {
   "cell_type": "code",
   "execution_count": 14,
   "id": "fffe01e1",
   "metadata": {},
   "outputs": [
    {
     "name": "stdout",
     "output_type": "stream",
     "text": [
      "Number of rows per sentiment:\n",
      "1    2879\n",
      "2    1363\n",
      "0     604\n",
      "Name: labels, dtype: int64\n"
     ]
    },
    {
     "data": {
      "image/png": "[encoded data removed]",
      "text/plain": [
       "<Figure size 640x480 with 1 Axes>"
      ]
     },
     "metadata": {},
     "output_type": "display_data"
    }
   ],
   "source": [
    "print(\"Number of rows per sentiment:\")\n",
    "print(df['labels'].value_counts())\n",
    "\n",
    "plt.figure()\n",
    "pd.value_counts(df['labels']).plot.bar(title=\"Sentiment distribution in df\")\n",
    "plt.xlabel(\"Sentiment\")\n",
    "plt.ylabel(\"No. of rows in df\")\n",
    "plt.show()"
   ]
  },
  {
   "cell_type": "code",
   "execution_count": 15,
   "id": "834c6d48",
   "metadata": {},
   "outputs": [],
   "source": [
    "df.to_csv('preprocessed-text.csv', sep = ',')"
   ]
  },
  {
   "cell_type": "code",
   "execution_count": 16,
   "id": "0fa1350f",
   "metadata": {},
   "outputs": [],
   "source": [
    "# prep for word2vec generation"
   ]
  },
  {
   "cell_type": "code",
   "execution_count": 17,
   "id": "349c461e",
   "metadata": {},
   "outputs": [
    {
     "data": {
      "text/html": [
       "<div>\n",
       "<style scoped>\n",
       "    .dataframe tbody tr th:only-of-type {\n",
       "        vertical-align: middle;\n",
       "    }\n",
       "\n",
       "    .dataframe tbody tr th {\n",
       "        vertical-align: top;\n",
       "    }\n",
       "\n",
       "    .dataframe thead th {\n",
       "        text-align: right;\n",
       "    }\n",
       "</style>\n",
       "<table border=\"1\" class=\"dataframe\">\n",
       "  <thead>\n",
       "    <tr style=\"text-align: right;\">\n",
       "      <th></th>\n",
       "      <th>messages</th>\n",
       "    </tr>\n",
       "  </thead>\n",
       "  <tbody>\n",
       "    <tr>\n",
       "      <th>0</th>\n",
       "      <td>[accord, gran, company, no, plan, move, produc...</td>\n",
       "    </tr>\n",
       "    <tr>\n",
       "      <th>1</th>\n",
       "      <td>[technopoli, plan, develop, stage, area, no, l...</td>\n",
       "    </tr>\n",
       "    <tr>\n",
       "      <th>2</th>\n",
       "      <td>[international, electronic, industry, company,...</td>\n",
       "    </tr>\n",
       "    <tr>\n",
       "      <th>3</th>\n",
       "      <td>[new, production, plant, company, would, incre...</td>\n",
       "    </tr>\n",
       "    <tr>\n",
       "      <th>4</th>\n",
       "      <td>[accord, company, update, strategy, year, basw...</td>\n",
       "    </tr>\n",
       "  </tbody>\n",
       "</table>\n",
       "</div>"
      ],
      "text/plain": [
       "                                            messages\n",
       "0  [accord, gran, company, no, plan, move, produc...\n",
       "1  [technopoli, plan, develop, stage, area, no, l...\n",
       "2  [international, electronic, industry, company,...\n",
       "3  [new, production, plant, company, would, incre...\n",
       "4  [accord, company, update, strategy, year, basw..."
      ]
     },
     "execution_count": 17,
     "metadata": {},
     "output_type": "execute_result"
    }
   ],
   "source": [
    "df[['messages']].head()"
   ]
  },
  {
   "cell_type": "markdown",
   "id": "f903a540",
   "metadata": {},
   "source": [
    "code below from: https://stackoverflow.com/questions/52038651/loss-does-not-decrease-during-training-word2vec-gensim/52067942"
   ]
  },
  {
   "cell_type": "code",
   "execution_count": 18,
   "id": "0301a364",
   "metadata": {},
   "outputs": [],
   "source": [
    "from gensim.models.callbacks import CallbackAny2Vec\n",
    "from gensim.models import Word2Vec\n",
    "\n",
    "# init callback class\n",
    "class callback(CallbackAny2Vec):\n",
    "    \"\"\"\n",
    "    Callback to print loss after each epoch\n",
    "    \"\"\"\n",
    "    def __init__(self):\n",
    "        self.epoch = 0\n",
    "\n",
    "    def on_epoch_end(self, model):\n",
    "        loss = model.get_latest_training_loss() \n",
    "        if self.epoch == 0:\n",
    "            print('Loss after epoch {}: {}'.format(self.epoch, loss))\n",
    "        else:\n",
    "            print('Loss after epoch {}: {}'.format(self.epoch, loss- self.loss_previous_step))\n",
    "        self.epoch += 1\n",
    "        self.loss_previous_step = loss"
   ]
  },
  {
   "cell_type": "code",
   "execution_count": 19,
   "id": "ce8acabc",
   "metadata": {},
   "outputs": [],
   "source": [
    "corpus = pd.Series(df['messages'].values)"
   ]
  },
  {
   "cell_type": "code",
   "execution_count": 20,
   "id": "51b34734",
   "metadata": {},
   "outputs": [
    {
     "name": "stdout",
     "output_type": "stream",
     "text": [
      "Loss after epoch 0: 17930.412109375\n",
      "Loss after epoch 1: 32826.916015625\n",
      "Loss after epoch 2: 21228.5078125\n",
      "Loss after epoch 3: 19308.1640625\n",
      "Loss after epoch 4: 33064.453125\n",
      "Loss after epoch 5: 19698.03125\n",
      "Loss after epoch 6: 41035.171875\n",
      "Loss after epoch 7: 31949.9375\n",
      "Loss after epoch 8: 31865.421875\n",
      "Loss after epoch 9: 22720.140625\n",
      "Loss after epoch 10: 15995.625\n",
      "Loss after epoch 11: 30554.34375\n",
      "Loss after epoch 12: 16702.34375\n",
      "Loss after epoch 13: 27159.65625\n",
      "Loss after epoch 14: 14061.78125\n",
      "Loss after epoch 15: 17458.25\n",
      "Loss after epoch 16: 24684.0\n",
      "Loss after epoch 17: 16403.125\n",
      "Loss after epoch 18: 12053.40625\n",
      "Loss after epoch 19: 13753.40625\n",
      "elapsed time in seconds: 0.42357611656188965\n"
     ]
    }
   ],
   "source": [
    "# init word2vec class\n",
    "w2v_model = Word2Vec(vector_size=300, # 300 dimension vector\n",
    "                     window=15, # how many neighbors around a particular word\n",
    "                     min_count=2, # the word needs to appear at least two times in the corpus\n",
    "                     workers=20, # speed of training\n",
    "                     sg=1, # sg=1 means this is a skip-gram model\n",
    "                     negative=5, # num of negative samples\n",
    "                     sample=1e-5) # sampling rate\n",
    "\n",
    "\n",
    "# build vovab\n",
    "w2v_model.build_vocab(corpus)\n",
    "  \n",
    "# train the w2v model\n",
    "start = time.time()\n",
    "w2v_model.train(corpus, \n",
    "                total_examples=w2v_model.corpus_count, #num of training samples\n",
    "                epochs=20, \n",
    "                report_delay=1,\n",
    "                compute_loss = True, # set compute_loss = True\n",
    "                callbacks=[callback()]) # add the callback class\n",
    "end = time.time()\n",
    "\n",
    "print(\"elapsed time in seconds: \" + str(end-start))\n",
    "# save the word2vec model\n",
    "w2v_model.save('fin_word2vec20.model')"
   ]
  },
  {
   "cell_type": "code",
   "execution_count": 21,
   "id": "357268bf",
   "metadata": {},
   "outputs": [
    {
     "name": "stdout",
     "output_type": "stream",
     "text": [
      "Word2Vec Model Exploration:\n",
      "Vocab size: 3751\n",
      "Top 3 words similar to buy: [('use', 0.999298632144928), ('corporation', 0.9992895126342773), ('company', 0.9992879033088684)]\n",
      "Top 3 words similar to sell: [('solution', 0.9993676543235779), ('group', 0.9993588328361511), ('say', 0.9993565678596497)]\n",
      "Similarity between 'buy' and 'profit' 0.998351\n",
      "Similarity between 'sell' and 'loss' 0.99792516\n",
      "Vector distance of 'buy' and 'sell' 0.0009331703186035156\n",
      "Vector distance of 'profit' and 'loss' 0.0025137662887573242\n",
      "Vector representation of 'asset': [ 0.03224398  0.04574199  0.02667524  0.05739136 -0.00488926 -0.05391495\n",
      "  0.03333474  0.10876666  0.01537139 -0.02165199 -0.06541733 -0.08100867\n",
      "  0.05576432 -0.0041347  -0.04632616 -0.0180424  -0.02840301 -0.04699141\n",
      "  0.03354304 -0.00966804 -0.04398154 -0.02397552  0.04561507  0.03628644\n",
      "  0.08118854  0.01115513 -0.02886608  0.01129484 -0.02897484  0.00560454\n",
      " -0.05394715 -0.03804927 -0.00976466 -0.01619272 -0.019957    0.00490861\n",
      "  0.01090157 -0.05193027  0.03237998 -0.0979899  -0.0009112   0.02963447\n",
      " -0.04309896 -0.03625192  0.02649121  0.0243097   0.03347587  0.03974915\n",
      " -0.07131755  0.06093144 -0.0305551  -0.03275144 -0.05954692  0.01237891\n",
      " -0.01867817  0.03092056  0.03390088  0.00551664  0.05475055  0.0150188\n",
      " -0.01628736  0.03794937 -0.02214615 -0.01871277  0.0215005  -0.0427858\n",
      " -0.01907807 -0.0233546  -0.03605115 -0.00233477 -0.04364106  0.03716476\n",
      "  0.03375937 -0.02352068  0.00084529  0.01620755 -0.07946742 -0.03081039\n",
      "  0.00528321  0.09879544 -0.02092844 -0.05205861  0.06266402  0.00477292\n",
      "  0.02400983  0.01231033 -0.04769517  0.07267797 -0.00329773  0.00313487\n",
      "  0.01512714 -0.02395937  0.06146473  0.00901599  0.05394506  0.05345023\n",
      "  0.02260816 -0.03426591 -0.09656556  0.05380103  0.05698673 -0.01446934\n",
      "  0.06030132 -0.02485276  0.04009424  0.00349753 -0.06505695  0.04496955\n",
      " -0.0168792  -0.00433595 -0.04882882 -0.08752225 -0.01189807  0.02059574\n",
      "  0.05182023  0.03896176 -0.05656675 -0.01889395  0.11777128 -0.0590774\n",
      " -0.00116164 -0.00066208  0.06294836 -0.05578996 -0.02270232  0.00186181\n",
      "  0.05594497  0.01135253 -0.03254588 -0.00286376 -0.05090727  0.09450589\n",
      "  0.0022817  -0.0452471   0.09459756 -0.01123194  0.01636435 -0.04302534\n",
      " -0.04418206 -0.03943988  0.03956699  0.00094632 -0.03525786  0.02077968\n",
      "  0.04809569 -0.02428357 -0.06423767  0.00262552  0.00612617 -0.02256565\n",
      "  0.01519599 -0.06344283 -0.07135033 -0.05630878  0.05388658 -0.00229801\n",
      " -0.05744521  0.00828589  0.02972328  0.02018848 -0.01589957  0.03956742\n",
      " -0.0537781   0.07769217 -0.04332544  0.04806023  0.01150841 -0.01098764\n",
      "  0.03994058  0.10814554  0.01851888 -0.04629356  0.03047709 -0.02543369\n",
      " -0.11311708  0.03377205  0.0325762   0.0130886  -0.06292629 -0.05918535\n",
      " -0.04415243  0.02377163 -0.03316385 -0.02208115  0.0160436  -0.00436417\n",
      "  0.03360705  0.08793528  0.00359438 -0.02964464 -0.04976368 -0.05953973\n",
      " -0.03333359  0.01414612  0.00301092 -0.05911793 -0.00604443 -0.02473549\n",
      "  0.04822481  0.03575929 -0.03568669  0.08147237 -0.01467817 -0.00593116\n",
      " -0.0374954  -0.03715136 -0.05205078 -0.00533514  0.04336601 -0.02933322\n",
      "  0.03631236  0.03945476 -0.03445067 -0.02375944  0.04242214 -0.04006888\n",
      " -0.03364189 -0.0488499  -0.06098871 -0.02629351  0.02521905  0.01398146\n",
      "  0.02036792 -0.02011893 -0.06529555 -0.04470967  0.0401169   0.01519053\n",
      " -0.05674623  0.03436574  0.06441193 -0.00599753 -0.01910267  0.06330397\n",
      " -0.05561934 -0.02328312  0.00030032  0.07010422  0.01342738 -0.04752306\n",
      "  0.00517054 -0.10060469 -0.07628775 -0.00537451  0.03411505 -0.04792104\n",
      "  0.01229353  0.0621743   0.03202058  0.02387763 -0.02791944  0.01511187\n",
      "  0.03770938 -0.04189155 -0.0306291  -0.00564244  0.01559187  0.05891332\n",
      " -0.06435461 -0.06221955  0.02642617  0.04193572 -0.02806929 -0.02865016\n",
      " -0.06923471  0.0404195   0.03862739  0.02985883  0.00159977 -0.00197194\n",
      " -0.08351834 -0.00630366  0.01441579  0.00602122  0.09212665 -0.06456135\n",
      "  0.03288779  0.02469608  0.01188872  0.02348755  0.02428591 -0.00487705\n",
      "  0.00228871  0.00646542 -0.0298911  -0.0082757  -0.06289174  0.04637741\n",
      " -0.00905822  0.06098633  0.04612926  0.04605658  0.05007693 -0.03422001\n",
      "  0.0161634   0.06183823 -0.00482875 -0.03417061  0.02984338  0.0676535 ]\n"
     ]
    }
   ],
   "source": [
    "fin_w2v_model = Word2Vec.load('fin_word2vec20.model')\n",
    "words = list(fin_w2v_model.wv.index_to_key)\n",
    "print('Word2Vec Model Exploration:')\n",
    "print(\"Vocab size: \" +str(len(words)))\n",
    "\n",
    "w1= 'buy'\n",
    "print(\"Top 3 words similar to buy:\",\\\n",
    "     fin_w2v_model.wv.most_similar(positive= w1, topn=3))\n",
    "\n",
    "w2= 'sell'\n",
    "print(\"Top 3 words similar to sell:\",\\\n",
    "     fin_w2v_model.wv.most_similar(positive= w2, topn=3))\n",
    "\n",
    "print(\"Similarity between 'buy' and 'profit'\",\\\n",
    "     str(fin_w2v_model.wv.similarity(\"buy\", \"profit\")))\n",
    "\n",
    "print(\"Similarity between 'sell' and 'loss'\",\\\n",
    "     str(fin_w2v_model.wv.similarity(\"sell\", \"loss\")))\n",
    "\n",
    "print(\"Vector distance of 'buy' and 'sell'\",\\\n",
    "     str(fin_w2v_model.wv.distance(\"buy\", \"sell\")))\n",
    "\n",
    "print(\"Vector distance of 'profit' and 'loss'\",\\\n",
    "     str(fin_w2v_model.wv.distance(\"profit\", \"loss\")))\n",
    "\n",
    "print(\"Vector representation of 'asset':\",\\\n",
    "      fin_w2v_model.wv.get_vector(\"asset\"))"
   ]
  },
  {
   "cell_type": "markdown",
   "id": "cbdd5846",
   "metadata": {},
   "source": [
    "**Results:**\n",
    "\n",
    "Perhaps most notably is the size of the vocabulary. 3745 is not a large word count; chances are the results would be overfit to this specific set of sentences. As always, to have a truly predictive model, far more data would be required.\n",
    "\n",
    "To access a pretrained Word2Vec model, Google's can be accessed in the following manner:\n",
    "\n",
    "```python\n",
    "import gensim.downloader as api\n",
    "path = api.load(\"word2vec-google-news-300\", return_path=True)\n",
    "print(path)\n",
    "```"
   ]
  },
  {
   "cell_type": "code",
   "execution_count": 22,
   "id": "f35f6c3e",
   "metadata": {},
   "outputs": [
    {
     "name": "stdout",
     "output_type": "stream",
     "text": [
      "The no of key-value pairs :  3751\n"
     ]
    }
   ],
   "source": [
    "word_vec_dict={}\n",
    "for word in words:\n",
    "    word_vec_dict[word]=w2v_model.wv.get_vector(word)\n",
    "print(\"The no of key-value pairs : \",len(word_vec_dict)) # should come equal to vocab size"
   ]
  },
  {
   "cell_type": "markdown",
   "id": "818c876d",
   "metadata": {},
   "source": [
    "### Preparation of the Gensim Word2Vec Embedding Layer for Keras"
   ]
  },
  {
   "cell_type": "code",
   "execution_count": 23,
   "id": "756ee297",
   "metadata": {},
   "outputs": [],
   "source": [
    "from tensorflow.keras.layers import Embedding\n",
    "\n",
    "def gensim_to_keras_embedding(model, train_embeddings=False):\n",
    "    \"\"\"Get a Keras 'Embedding' layer with weights set from Word2Vec model's learned word embeddings.\n",
    "\n",
    "    Parameters\n",
    "    ----------\n",
    "    train_embeddings : bool\n",
    "        If False, the returned weights are frozen and stopped from being updated.\n",
    "        If True, the weights can / will be further updated in Keras.\n",
    "\n",
    "    Returns\n",
    "    -------\n",
    "    `keras.layers.Embedding`\n",
    "        Embedding layer, to be used as input to deeper network layers.\n",
    "\n",
    "    \"\"\"\n",
    "    keyed_vectors = model.wv  # structure holding the result of training\n",
    "    weights = keyed_vectors.vectors  # vectors themselves, a 2D numpy array    \n",
    "    index_to_key = keyed_vectors.index_to_key  # which row in `weights` corresponds to which word?\n",
    "\n",
    "    layer = Embedding(\n",
    "        input_dim=weights.shape[0],\n",
    "        output_dim=weights.shape[1],\n",
    "        weights=[weights],\n",
    "        trainable=train_embeddings,\n",
    "    )\n",
    "    return layer"
   ]
  },
  {
   "cell_type": "code",
   "execution_count": 24,
   "id": "4976db49",
   "metadata": {},
   "outputs": [],
   "source": [
    "embedding_layer = gensim_to_keras_embedding(fin_w2v_model, train_embeddings=True)"
   ]
  },
  {
   "cell_type": "code",
   "execution_count": 25,
   "id": "7c2d3039",
   "metadata": {},
   "outputs": [
    {
     "name": "stdout",
     "output_type": "stream",
     "text": [
      "<keras.layers.core.embedding.Embedding object at 0x7f97ef40e8f0>\n"
     ]
    }
   ],
   "source": [
    "print(embedding_layer)"
   ]
  },
  {
   "cell_type": "markdown",
   "id": "0946f0de",
   "metadata": {},
   "source": [
    "### Keras Sentence Tokenizer"
   ]
  },
  {
   "cell_type": "code",
   "execution_count": 26,
   "id": "df6df2cb",
   "metadata": {},
   "outputs": [],
   "source": [
    "import tensorflow as tf\n",
    "from tensorflow.keras.preprocessing.text import Tokenizer\n",
    "from tensorflow.keras.utils import pad_sequences"
   ]
  },
  {
   "cell_type": "code",
   "execution_count": 27,
   "id": "06e52beb",
   "metadata": {},
   "outputs": [],
   "source": [
    "tokenizer= Tokenizer(oov_token=\"OOV\")\n",
    "tokenizer.fit_on_texts(df.messages.values)"
   ]
  },
  {
   "cell_type": "code",
   "execution_count": 28,
   "id": "e8dc528a",
   "metadata": {},
   "outputs": [],
   "source": [
    "word_index = tokenizer.word_index"
   ]
  },
  {
   "cell_type": "code",
   "execution_count": 29,
   "id": "85922ee3",
   "metadata": {},
   "outputs": [
    {
     "name": "stdout",
     "output_type": "stream",
     "text": [
      "684\n"
     ]
    }
   ],
   "source": [
    "print(word_index['short'])"
   ]
  },
  {
   "cell_type": "code",
   "execution_count": 30,
   "id": "d09d4518",
   "metadata": {},
   "outputs": [
    {
     "data": {
      "text/plain": [
       "7393"
      ]
     },
     "execution_count": 30,
     "metadata": {},
     "output_type": "execute_result"
    }
   ],
   "source": [
    "len(word_index)"
   ]
  },
  {
   "cell_type": "code",
   "execution_count": 31,
   "id": "8a512def",
   "metadata": {},
   "outputs": [],
   "source": [
    "df['keras_tokens'] = df['messages'].apply(tokenizer.texts_to_sequences)"
   ]
  },
  {
   "cell_type": "code",
   "execution_count": 32,
   "id": "f5cd5e48",
   "metadata": {},
   "outputs": [
    {
     "data": {
      "text/plain": [
       "list"
      ]
     },
     "execution_count": 32,
     "metadata": {},
     "output_type": "execute_result"
    }
   ],
   "source": [
    "type(df.keras_tokens[0][0])"
   ]
  },
  {
   "cell_type": "code",
   "execution_count": null,
   "id": "c1af6a3f",
   "metadata": {},
   "outputs": [],
   "source": []
  },
  {
   "cell_type": "code",
   "execution_count": 33,
   "id": "39612c3c",
   "metadata": {},
   "outputs": [],
   "source": [
    "## The goal here is to unpack the list of lists, which is generated by 'tokenizer.texts_to_sequences'\n",
    "\n",
    "def traverse(o, tree_types=(list, tuple)):\n",
    "    if isinstance(o, tree_types):\n",
    "        for value in o:\n",
    "            for subvalue in traverse(value, tree_types):\n",
    "                yield subvalue\n",
    "    else:\n",
    "        yield o"
   ]
  },
  {
   "cell_type": "code",
   "execution_count": 34,
   "id": "81719332",
   "metadata": {},
   "outputs": [
    {
     "data": {
      "text/plain": [
       "[63, 2670, 3, 193, 80, 366, 54, 103, 2161, 3, 142]"
      ]
     },
     "execution_count": 34,
     "metadata": {},
     "output_type": "execute_result"
    }
   ],
   "source": [
    "test_sentence1 = list(traverse(df.keras_tokens[0]))\n",
    "test_sentence1"
   ]
  },
  {
   "cell_type": "code",
   "execution_count": 35,
   "id": "09243e71",
   "metadata": {},
   "outputs": [],
   "source": [
    "df['keras_tokens'] = df['keras_tokens'].apply(traverse).apply(list)"
   ]
  },
  {
   "cell_type": "code",
   "execution_count": 36,
   "id": "1eaf6ac1",
   "metadata": {},
   "outputs": [
    {
     "data": {
      "text/html": [
       "<div>\n",
       "<style scoped>\n",
       "    .dataframe tbody tr th:only-of-type {\n",
       "        vertical-align: middle;\n",
       "    }\n",
       "\n",
       "    .dataframe tbody tr th {\n",
       "        vertical-align: top;\n",
       "    }\n",
       "\n",
       "    .dataframe thead th {\n",
       "        text-align: right;\n",
       "    }\n",
       "</style>\n",
       "<table border=\"1\" class=\"dataframe\">\n",
       "  <thead>\n",
       "    <tr style=\"text-align: right;\">\n",
       "      <th></th>\n",
       "      <th>labels</th>\n",
       "      <th>messages</th>\n",
       "      <th>keras_tokens</th>\n",
       "    </tr>\n",
       "  </thead>\n",
       "  <tbody>\n",
       "    <tr>\n",
       "      <th>0</th>\n",
       "      <td>1</td>\n",
       "      <td>[accord, gran, company, no, plan, move, produc...</td>\n",
       "      <td>[63, 2670, 3, 193, 80, 366, 54, 103, 2161, 3, ...</td>\n",
       "    </tr>\n",
       "    <tr>\n",
       "      <th>1</th>\n",
       "      <td>1</td>\n",
       "      <td>[technopoli, plan, develop, stage, area, no, l...</td>\n",
       "      <td>[1087, 80, 104, 933, 89, 193, 868, 482, 1283, ...</td>\n",
       "    </tr>\n",
       "  </tbody>\n",
       "</table>\n",
       "</div>"
      ],
      "text/plain": [
       "   labels                                           messages  \\\n",
       "0       1  [accord, gran, company, no, plan, move, produc...   \n",
       "1       1  [technopoli, plan, develop, stage, area, no, l...   \n",
       "\n",
       "                                        keras_tokens  \n",
       "0  [63, 2670, 3, 193, 80, 366, 54, 103, 2161, 3, ...  \n",
       "1  [1087, 80, 104, 933, 89, 193, 868, 482, 1283, ...  "
      ]
     },
     "execution_count": 36,
     "metadata": {},
     "output_type": "execute_result"
    }
   ],
   "source": [
    "df.head(2)"
   ]
  },
  {
   "cell_type": "markdown",
   "id": "edca055b",
   "metadata": {},
   "source": [
    "### Train Test Split"
   ]
  },
  {
   "cell_type": "code",
   "execution_count": 37,
   "id": "80c8d248",
   "metadata": {
    "scrolled": true
   },
   "outputs": [
    {
     "data": {
      "text/html": [
       "<div>\n",
       "<style scoped>\n",
       "    .dataframe tbody tr th:only-of-type {\n",
       "        vertical-align: middle;\n",
       "    }\n",
       "\n",
       "    .dataframe tbody tr th {\n",
       "        vertical-align: top;\n",
       "    }\n",
       "\n",
       "    .dataframe thead th {\n",
       "        text-align: right;\n",
       "    }\n",
       "</style>\n",
       "<table border=\"1\" class=\"dataframe\">\n",
       "  <thead>\n",
       "    <tr style=\"text-align: right;\">\n",
       "      <th></th>\n",
       "      <th>labels</th>\n",
       "      <th>messages</th>\n",
       "      <th>keras_tokens</th>\n",
       "    </tr>\n",
       "  </thead>\n",
       "  <tbody>\n",
       "    <tr>\n",
       "      <th>0</th>\n",
       "      <td>1</td>\n",
       "      <td>[accord, gran, company, no, plan, move, produc...</td>\n",
       "      <td>[63, 2670, 3, 193, 80, 366, 54, 103, 2161, 3, ...</td>\n",
       "    </tr>\n",
       "    <tr>\n",
       "      <th>1</th>\n",
       "      <td>1</td>\n",
       "      <td>[technopoli, plan, develop, stage, area, no, l...</td>\n",
       "      <td>[1087, 80, 104, 933, 89, 193, 868, 482, 1283, ...</td>\n",
       "    </tr>\n",
       "  </tbody>\n",
       "</table>\n",
       "</div>"
      ],
      "text/plain": [
       "   labels                                           messages  \\\n",
       "0       1  [accord, gran, company, no, plan, move, produc...   \n",
       "1       1  [technopoli, plan, develop, stage, area, no, l...   \n",
       "\n",
       "                                        keras_tokens  \n",
       "0  [63, 2670, 3, 193, 80, 366, 54, 103, 2161, 3, ...  \n",
       "1  [1087, 80, 104, 933, 89, 193, 868, 482, 1283, ...  "
      ]
     },
     "execution_count": 37,
     "metadata": {},
     "output_type": "execute_result"
    }
   ],
   "source": [
    "df.head(2)"
   ]
  },
  {
   "cell_type": "code",
   "execution_count": 46,
   "id": "a4014089",
   "metadata": {},
   "outputs": [],
   "source": [
    "## train test split of keras tokens"
   ]
  },
  {
   "cell_type": "code",
   "execution_count": 38,
   "id": "5805072b",
   "metadata": {},
   "outputs": [
    {
     "name": "stdout",
     "output_type": "stream",
     "text": [
      "4846\n"
     ]
    }
   ],
   "source": [
    "print(len(df.keras_tokens.values))"
   ]
  },
  {
   "cell_type": "code",
   "execution_count": 39,
   "id": "7a78bbda",
   "metadata": {},
   "outputs": [
    {
     "name": "stdout",
     "output_type": "stream",
     "text": [
      "4846\n"
     ]
    }
   ],
   "source": [
    "print(len(df.labels.values))"
   ]
  },
  {
   "cell_type": "code",
   "execution_count": 40,
   "id": "6323c45c",
   "metadata": {},
   "outputs": [],
   "source": [
    "X_keras = df.keras_tokens.values\n",
    "y = df.labels.values"
   ]
  },
  {
   "cell_type": "code",
   "execution_count": 41,
   "id": "0be27f16",
   "metadata": {},
   "outputs": [
    {
     "name": "stdout",
     "output_type": "stream",
     "text": [
      "(3392,) (1454,)\n"
     ]
    }
   ],
   "source": [
    "X_train_keras, X_test_keras, y_train_keras, y_test_keras = train_test_split(X_keras, y, test_size=.3, random_state=42)\n",
    "\n",
    "\n",
    "print(X_train_keras.shape, X_test_keras.shape)"
   ]
  },
  {
   "cell_type": "markdown",
   "id": "81e8adcd",
   "metadata": {},
   "source": [
    "## Pad Sequences"
   ]
  },
  {
   "cell_type": "code",
   "execution_count": 42,
   "id": "e7a25cfc",
   "metadata": {},
   "outputs": [],
   "source": [
    "padded_train_seq = pad_sequences(X_train_keras, maxlen=50, padding='post')\n",
    "padded_test_seq = pad_sequences(X_test_keras, maxlen=50, padding='post')"
   ]
  },
  {
   "cell_type": "code",
   "execution_count": 43,
   "id": "cf3b76a5",
   "metadata": {},
   "outputs": [
    {
     "name": "stdout",
     "output_type": "stream",
     "text": [
      "(3392, 50)\n",
      "(3392,)\n",
      "(1454, 50)\n",
      "(1454,)\n"
     ]
    }
   ],
   "source": [
    "print(padded_train_seq.shape)\n",
    "print(y_train_keras.shape)\n",
    "print(padded_test_seq.shape)\n",
    "print(y_test_keras.shape)"
   ]
  },
  {
   "cell_type": "markdown",
   "id": "950b5d4c",
   "metadata": {},
   "source": [
    "### Basic Sentiment Network Using Word2Vec Embedding Layer"
   ]
  },
  {
   "cell_type": "code",
   "execution_count": 44,
   "id": "22ef0b28",
   "metadata": {},
   "outputs": [
    {
     "name": "stdout",
     "output_type": "stream",
     "text": [
      "Model: \"sequential\"\n",
      "_________________________________________________________________\n",
      " Layer (type)                Output Shape              Param #   \n",
      "=================================================================\n",
      " embedding (Embedding)       (None, None, 300)         1125300   \n",
      "                                                                 \n",
      " global_max_pooling1d (Globa  (None, 300)              0         \n",
      " lMaxPooling1D)                                                  \n",
      "                                                                 \n",
      " dense (Dense)               (None, 60)                18060     \n",
      "                                                                 \n",
      " dense_1 (Dense)             (None, 3)                 183       \n",
      "                                                                 \n",
      "=================================================================\n",
      "Total params: 1,143,543\n",
      "Trainable params: 1,143,543\n",
      "Non-trainable params: 0\n",
      "_________________________________________________________________\n"
     ]
    },
    {
     "name": "stderr",
     "output_type": "stream",
     "text": [
      "2022-09-03 10:33:41.837387: I tensorflow/core/platform/cpu_feature_guard.cc:193] This TensorFlow binary is optimized with oneAPI Deep Neural Network Library (oneDNN) to use the following CPU instructions in performance-critical operations:  AVX2 FMA\n",
      "To enable them in other operations, rebuild TensorFlow with the appropriate compiler flags.\n"
     ]
    }
   ],
   "source": [
    "# Note the embedding layer is first, \n",
    "# and the output 3 nodes as it is either 0,2, or 4(negative, neutral, or positive)\n",
    "model = tf.keras.Sequential([\n",
    "    embedding_layer,\n",
    "    tf.keras.layers.GlobalMaxPooling1D(),\n",
    "    tf.keras.layers.Dense(60, activation='relu'),\n",
    "    tf.keras.layers.Dense(3, activation = tf.nn.softmax)\n",
    "])\n",
    "model.compile(loss='sparse_categorical_crossentropy',optimizer='adam',metrics=['accuracy'])\n",
    "model.summary()"
   ]
  },
  {
   "cell_type": "markdown",
   "id": "0a5c9099",
   "metadata": {},
   "source": [
    "### Run the Model"
   ]
  },
  {
   "cell_type": "code",
   "execution_count": 45,
   "id": "c27c0ab0",
   "metadata": {},
   "outputs": [
    {
     "name": "stdout",
     "output_type": "stream",
     "text": [
      "Epoch 1/10\n"
     ]
    },
    {
     "ename": "InvalidArgumentError",
     "evalue": "Graph execution error:\n\nDetected at node 'sequential/embedding/embedding_lookup' defined at (most recent call last):\n    File \"/Users/kevinkwasnik/opt/anaconda3/envs/nlp/lib/python3.10/runpy.py\", line 196, in _run_module_as_main\n      return _run_code(code, main_globals, None,\n    File \"/Users/kevinkwasnik/opt/anaconda3/envs/nlp/lib/python3.10/runpy.py\", line 86, in _run_code\n      exec(code, run_globals)\n    File \"/Users/kevinkwasnik/opt/anaconda3/envs/nlp/lib/python3.10/site-packages/ipykernel_launcher.py\", line 17, in <module>\n      app.launch_new_instance()\n    File \"/Users/kevinkwasnik/opt/anaconda3/envs/nlp/lib/python3.10/site-packages/traitlets/config/application.py\", line 976, in launch_instance\n      app.start()\n    File \"/Users/kevinkwasnik/opt/anaconda3/envs/nlp/lib/python3.10/site-packages/ipykernel/kernelapp.py\", line 712, in start\n      self.io_loop.start()\n    File \"/Users/kevinkwasnik/opt/anaconda3/envs/nlp/lib/python3.10/site-packages/tornado/platform/asyncio.py\", line 215, in start\n      self.asyncio_loop.run_forever()\n    File \"/Users/kevinkwasnik/opt/anaconda3/envs/nlp/lib/python3.10/asyncio/base_events.py\", line 600, in run_forever\n      self._run_once()\n    File \"/Users/kevinkwasnik/opt/anaconda3/envs/nlp/lib/python3.10/asyncio/base_events.py\", line 1896, in _run_once\n      handle._run()\n    File \"/Users/kevinkwasnik/opt/anaconda3/envs/nlp/lib/python3.10/asyncio/events.py\", line 80, in _run\n      self._context.run(self._callback, *self._args)\n    File \"/Users/kevinkwasnik/opt/anaconda3/envs/nlp/lib/python3.10/site-packages/ipykernel/kernelbase.py\", line 510, in dispatch_queue\n      await self.process_one()\n    File \"/Users/kevinkwasnik/opt/anaconda3/envs/nlp/lib/python3.10/site-packages/ipykernel/kernelbase.py\", line 499, in process_one\n      await dispatch(*args)\n    File \"/Users/kevinkwasnik/opt/anaconda3/envs/nlp/lib/python3.10/site-packages/ipykernel/kernelbase.py\", line 406, in dispatch_shell\n      await result\n    File \"/Users/kevinkwasnik/opt/anaconda3/envs/nlp/lib/python3.10/site-packages/ipykernel/kernelbase.py\", line 730, in execute_request\n      reply_content = await reply_content\n    File \"/Users/kevinkwasnik/opt/anaconda3/envs/nlp/lib/python3.10/site-packages/ipykernel/ipkernel.py\", line 383, in do_execute\n      res = shell.run_cell(\n    File \"/Users/kevinkwasnik/opt/anaconda3/envs/nlp/lib/python3.10/site-packages/ipykernel/zmqshell.py\", line 528, in run_cell\n      return super().run_cell(*args, **kwargs)\n    File \"/Users/kevinkwasnik/opt/anaconda3/envs/nlp/lib/python3.10/site-packages/IPython/core/interactiveshell.py\", line 2881, in run_cell\n      result = self._run_cell(\n    File \"/Users/kevinkwasnik/opt/anaconda3/envs/nlp/lib/python3.10/site-packages/IPython/core/interactiveshell.py\", line 2936, in _run_cell\n      return runner(coro)\n    File \"/Users/kevinkwasnik/opt/anaconda3/envs/nlp/lib/python3.10/site-packages/IPython/core/async_helpers.py\", line 129, in _pseudo_sync_runner\n      coro.send(None)\n    File \"/Users/kevinkwasnik/opt/anaconda3/envs/nlp/lib/python3.10/site-packages/IPython/core/interactiveshell.py\", line 3135, in run_cell_async\n      has_raised = await self.run_ast_nodes(code_ast.body, cell_name,\n    File \"/Users/kevinkwasnik/opt/anaconda3/envs/nlp/lib/python3.10/site-packages/IPython/core/interactiveshell.py\", line 3338, in run_ast_nodes\n      if await self.run_code(code, result, async_=asy):\n    File \"/Users/kevinkwasnik/opt/anaconda3/envs/nlp/lib/python3.10/site-packages/IPython/core/interactiveshell.py\", line 3398, in run_code\n      exec(code_obj, self.user_global_ns, self.user_ns)\n    File \"/var/folders/92/fmsgf0056l97n6qst76j75sm0000gp/T/ipykernel_35963/4015092028.py\", line 2, in <cell line: 2>\n      model.fit(padded_train_seq, y_train_keras, epochs=num_epochs, validation_data=(padded_test_seq, y_test_keras))\n    File \"/Users/kevinkwasnik/opt/anaconda3/envs/nlp/lib/python3.10/site-packages/keras/utils/traceback_utils.py\", line 64, in error_handler\n      return fn(*args, **kwargs)\n    File \"/Users/kevinkwasnik/opt/anaconda3/envs/nlp/lib/python3.10/site-packages/keras/engine/training.py\", line 1409, in fit\n      tmp_logs = self.train_function(iterator)\n    File \"/Users/kevinkwasnik/opt/anaconda3/envs/nlp/lib/python3.10/site-packages/keras/engine/training.py\", line 1051, in train_function\n      return step_function(self, iterator)\n    File \"/Users/kevinkwasnik/opt/anaconda3/envs/nlp/lib/python3.10/site-packages/keras/engine/training.py\", line 1040, in step_function\n      outputs = model.distribute_strategy.run(run_step, args=(data,))\n    File \"/Users/kevinkwasnik/opt/anaconda3/envs/nlp/lib/python3.10/site-packages/keras/engine/training.py\", line 1030, in run_step\n      outputs = model.train_step(data)\n    File \"/Users/kevinkwasnik/opt/anaconda3/envs/nlp/lib/python3.10/site-packages/keras/engine/training.py\", line 889, in train_step\n      y_pred = self(x, training=True)\n    File \"/Users/kevinkwasnik/opt/anaconda3/envs/nlp/lib/python3.10/site-packages/keras/utils/traceback_utils.py\", line 64, in error_handler\n      return fn(*args, **kwargs)\n    File \"/Users/kevinkwasnik/opt/anaconda3/envs/nlp/lib/python3.10/site-packages/keras/engine/training.py\", line 490, in __call__\n      return super().__call__(*args, **kwargs)\n    File \"/Users/kevinkwasnik/opt/anaconda3/envs/nlp/lib/python3.10/site-packages/keras/utils/traceback_utils.py\", line 64, in error_handler\n      return fn(*args, **kwargs)\n    File \"/Users/kevinkwasnik/opt/anaconda3/envs/nlp/lib/python3.10/site-packages/keras/engine/base_layer.py\", line 1014, in __call__\n      outputs = call_fn(inputs, *args, **kwargs)\n    File \"/Users/kevinkwasnik/opt/anaconda3/envs/nlp/lib/python3.10/site-packages/keras/utils/traceback_utils.py\", line 92, in error_handler\n      return fn(*args, **kwargs)\n    File \"/Users/kevinkwasnik/opt/anaconda3/envs/nlp/lib/python3.10/site-packages/keras/engine/sequential.py\", line 374, in call\n      return super(Sequential, self).call(inputs, training=training, mask=mask)\n    File \"/Users/kevinkwasnik/opt/anaconda3/envs/nlp/lib/python3.10/site-packages/keras/engine/functional.py\", line 458, in call\n      return self._run_internal_graph(\n    File \"/Users/kevinkwasnik/opt/anaconda3/envs/nlp/lib/python3.10/site-packages/keras/engine/functional.py\", line 596, in _run_internal_graph\n      outputs = node.layer(*args, **kwargs)\n    File \"/Users/kevinkwasnik/opt/anaconda3/envs/nlp/lib/python3.10/site-packages/keras/utils/traceback_utils.py\", line 64, in error_handler\n      return fn(*args, **kwargs)\n    File \"/Users/kevinkwasnik/opt/anaconda3/envs/nlp/lib/python3.10/site-packages/keras/engine/base_layer.py\", line 1014, in __call__\n      outputs = call_fn(inputs, *args, **kwargs)\n    File \"/Users/kevinkwasnik/opt/anaconda3/envs/nlp/lib/python3.10/site-packages/keras/utils/traceback_utils.py\", line 92, in error_handler\n      return fn(*args, **kwargs)\n    File \"/Users/kevinkwasnik/opt/anaconda3/envs/nlp/lib/python3.10/site-packages/keras/layers/core/embedding.py\", line 199, in call\n      out = tf.nn.embedding_lookup(self.embeddings, inputs)\nNode: 'sequential/embedding/embedding_lookup'\nindices[16,3] = 5062 is not in [0, 3751)\n\t [[{{node sequential/embedding/embedding_lookup}}]] [Op:__inference_train_function_690]",
     "output_type": "error",
     "traceback": [
      "\u001b[0;31m---------------------------------------------------------------------------\u001b[0m",
      "\u001b[0;31mInvalidArgumentError\u001b[0m                      Traceback (most recent call last)",
      "Input \u001b[0;32mIn [45]\u001b[0m, in \u001b[0;36m<cell line: 2>\u001b[0;34m()\u001b[0m\n\u001b[1;32m      1\u001b[0m num_epochs \u001b[38;5;241m=\u001b[39m \u001b[38;5;241m10\u001b[39m\n\u001b[0;32m----> 2\u001b[0m \u001b[43mmodel\u001b[49m\u001b[38;5;241;43m.\u001b[39;49m\u001b[43mfit\u001b[49m\u001b[43m(\u001b[49m\u001b[43mpadded_train_seq\u001b[49m\u001b[43m,\u001b[49m\u001b[43m \u001b[49m\u001b[43my_train_keras\u001b[49m\u001b[43m,\u001b[49m\u001b[43m \u001b[49m\u001b[43mepochs\u001b[49m\u001b[38;5;241;43m=\u001b[39;49m\u001b[43mnum_epochs\u001b[49m\u001b[43m,\u001b[49m\u001b[43m \u001b[49m\u001b[43mvalidation_data\u001b[49m\u001b[38;5;241;43m=\u001b[39;49m\u001b[43m(\u001b[49m\u001b[43mpadded_test_seq\u001b[49m\u001b[43m,\u001b[49m\u001b[43m \u001b[49m\u001b[43my_test_keras\u001b[49m\u001b[43m)\u001b[49m\u001b[43m)\u001b[49m\n",
      "File \u001b[0;32m~/opt/anaconda3/envs/nlp/lib/python3.10/site-packages/keras/utils/traceback_utils.py:67\u001b[0m, in \u001b[0;36mfilter_traceback.<locals>.error_handler\u001b[0;34m(*args, **kwargs)\u001b[0m\n\u001b[1;32m     65\u001b[0m \u001b[38;5;28;01mexcept\u001b[39;00m \u001b[38;5;167;01mException\u001b[39;00m \u001b[38;5;28;01mas\u001b[39;00m e:  \u001b[38;5;66;03m# pylint: disable=broad-except\u001b[39;00m\n\u001b[1;32m     66\u001b[0m   filtered_tb \u001b[38;5;241m=\u001b[39m _process_traceback_frames(e\u001b[38;5;241m.\u001b[39m__traceback__)\n\u001b[0;32m---> 67\u001b[0m   \u001b[38;5;28;01mraise\u001b[39;00m e\u001b[38;5;241m.\u001b[39mwith_traceback(filtered_tb) \u001b[38;5;28;01mfrom\u001b[39;00m \u001b[38;5;28mNone\u001b[39m\n\u001b[1;32m     68\u001b[0m \u001b[38;5;28;01mfinally\u001b[39;00m:\n\u001b[1;32m     69\u001b[0m   \u001b[38;5;28;01mdel\u001b[39;00m filtered_tb\n",
      "File \u001b[0;32m~/opt/anaconda3/envs/nlp/lib/python3.10/site-packages/tensorflow/python/eager/execute.py:54\u001b[0m, in \u001b[0;36mquick_execute\u001b[0;34m(op_name, num_outputs, inputs, attrs, ctx, name)\u001b[0m\n\u001b[1;32m     52\u001b[0m \u001b[38;5;28;01mtry\u001b[39;00m:\n\u001b[1;32m     53\u001b[0m   ctx\u001b[38;5;241m.\u001b[39mensure_initialized()\n\u001b[0;32m---> 54\u001b[0m   tensors \u001b[38;5;241m=\u001b[39m pywrap_tfe\u001b[38;5;241m.\u001b[39mTFE_Py_Execute(ctx\u001b[38;5;241m.\u001b[39m_handle, device_name, op_name,\n\u001b[1;32m     55\u001b[0m                                       inputs, attrs, num_outputs)\n\u001b[1;32m     56\u001b[0m \u001b[38;5;28;01mexcept\u001b[39;00m core\u001b[38;5;241m.\u001b[39m_NotOkStatusException \u001b[38;5;28;01mas\u001b[39;00m e:\n\u001b[1;32m     57\u001b[0m   \u001b[38;5;28;01mif\u001b[39;00m name \u001b[38;5;129;01mis\u001b[39;00m \u001b[38;5;129;01mnot\u001b[39;00m \u001b[38;5;28;01mNone\u001b[39;00m:\n",
      "\u001b[0;31mInvalidArgumentError\u001b[0m: Graph execution error:\n\nDetected at node 'sequential/embedding/embedding_lookup' defined at (most recent call last):\n    File \"/Users/kevinkwasnik/opt/anaconda3/envs/nlp/lib/python3.10/runpy.py\", line 196, in _run_module_as_main\n      return _run_code(code, main_globals, None,\n    File \"/Users/kevinkwasnik/opt/anaconda3/envs/nlp/lib/python3.10/runpy.py\", line 86, in _run_code\n      exec(code, run_globals)\n    File \"/Users/kevinkwasnik/opt/anaconda3/envs/nlp/lib/python3.10/site-packages/ipykernel_launcher.py\", line 17, in <module>\n      app.launch_new_instance()\n    File \"/Users/kevinkwasnik/opt/anaconda3/envs/nlp/lib/python3.10/site-packages/traitlets/config/application.py\", line 976, in launch_instance\n      app.start()\n    File \"/Users/kevinkwasnik/opt/anaconda3/envs/nlp/lib/python3.10/site-packages/ipykernel/kernelapp.py\", line 712, in start\n      self.io_loop.start()\n    File \"/Users/kevinkwasnik/opt/anaconda3/envs/nlp/lib/python3.10/site-packages/tornado/platform/asyncio.py\", line 215, in start\n      self.asyncio_loop.run_forever()\n    File \"/Users/kevinkwasnik/opt/anaconda3/envs/nlp/lib/python3.10/asyncio/base_events.py\", line 600, in run_forever\n      self._run_once()\n    File \"/Users/kevinkwasnik/opt/anaconda3/envs/nlp/lib/python3.10/asyncio/base_events.py\", line 1896, in _run_once\n      handle._run()\n    File \"/Users/kevinkwasnik/opt/anaconda3/envs/nlp/lib/python3.10/asyncio/events.py\", line 80, in _run\n      self._context.run(self._callback, *self._args)\n    File \"/Users/kevinkwasnik/opt/anaconda3/envs/nlp/lib/python3.10/site-packages/ipykernel/kernelbase.py\", line 510, in dispatch_queue\n      await self.process_one()\n    File \"/Users/kevinkwasnik/opt/anaconda3/envs/nlp/lib/python3.10/site-packages/ipykernel/kernelbase.py\", line 499, in process_one\n      await dispatch(*args)\n    File \"/Users/kevinkwasnik/opt/anaconda3/envs/nlp/lib/python3.10/site-packages/ipykernel/kernelbase.py\", line 406, in dispatch_shell\n      await result\n    File \"/Users/kevinkwasnik/opt/anaconda3/envs/nlp/lib/python3.10/site-packages/ipykernel/kernelbase.py\", line 730, in execute_request\n      reply_content = await reply_content\n    File \"/Users/kevinkwasnik/opt/anaconda3/envs/nlp/lib/python3.10/site-packages/ipykernel/ipkernel.py\", line 383, in do_execute\n      res = shell.run_cell(\n    File \"/Users/kevinkwasnik/opt/anaconda3/envs/nlp/lib/python3.10/site-packages/ipykernel/zmqshell.py\", line 528, in run_cell\n      return super().run_cell(*args, **kwargs)\n    File \"/Users/kevinkwasnik/opt/anaconda3/envs/nlp/lib/python3.10/site-packages/IPython/core/interactiveshell.py\", line 2881, in run_cell\n      result = self._run_cell(\n    File \"/Users/kevinkwasnik/opt/anaconda3/envs/nlp/lib/python3.10/site-packages/IPython/core/interactiveshell.py\", line 2936, in _run_cell\n      return runner(coro)\n    File \"/Users/kevinkwasnik/opt/anaconda3/envs/nlp/lib/python3.10/site-packages/IPython/core/async_helpers.py\", line 129, in _pseudo_sync_runner\n      coro.send(None)\n    File \"/Users/kevinkwasnik/opt/anaconda3/envs/nlp/lib/python3.10/site-packages/IPython/core/interactiveshell.py\", line 3135, in run_cell_async\n      has_raised = await self.run_ast_nodes(code_ast.body, cell_name,\n    File \"/Users/kevinkwasnik/opt/anaconda3/envs/nlp/lib/python3.10/site-packages/IPython/core/interactiveshell.py\", line 3338, in run_ast_nodes\n      if await self.run_code(code, result, async_=asy):\n    File \"/Users/kevinkwasnik/opt/anaconda3/envs/nlp/lib/python3.10/site-packages/IPython/core/interactiveshell.py\", line 3398, in run_code\n      exec(code_obj, self.user_global_ns, self.user_ns)\n    File \"/var/folders/92/fmsgf0056l97n6qst76j75sm0000gp/T/ipykernel_35963/4015092028.py\", line 2, in <cell line: 2>\n      model.fit(padded_train_seq, y_train_keras, epochs=num_epochs, validation_data=(padded_test_seq, y_test_keras))\n    File \"/Users/kevinkwasnik/opt/anaconda3/envs/nlp/lib/python3.10/site-packages/keras/utils/traceback_utils.py\", line 64, in error_handler\n      return fn(*args, **kwargs)\n    File \"/Users/kevinkwasnik/opt/anaconda3/envs/nlp/lib/python3.10/site-packages/keras/engine/training.py\", line 1409, in fit\n      tmp_logs = self.train_function(iterator)\n    File \"/Users/kevinkwasnik/opt/anaconda3/envs/nlp/lib/python3.10/site-packages/keras/engine/training.py\", line 1051, in train_function\n      return step_function(self, iterator)\n    File \"/Users/kevinkwasnik/opt/anaconda3/envs/nlp/lib/python3.10/site-packages/keras/engine/training.py\", line 1040, in step_function\n      outputs = model.distribute_strategy.run(run_step, args=(data,))\n    File \"/Users/kevinkwasnik/opt/anaconda3/envs/nlp/lib/python3.10/site-packages/keras/engine/training.py\", line 1030, in run_step\n      outputs = model.train_step(data)\n    File \"/Users/kevinkwasnik/opt/anaconda3/envs/nlp/lib/python3.10/site-packages/keras/engine/training.py\", line 889, in train_step\n      y_pred = self(x, training=True)\n    File \"/Users/kevinkwasnik/opt/anaconda3/envs/nlp/lib/python3.10/site-packages/keras/utils/traceback_utils.py\", line 64, in error_handler\n      return fn(*args, **kwargs)\n    File \"/Users/kevinkwasnik/opt/anaconda3/envs/nlp/lib/python3.10/site-packages/keras/engine/training.py\", line 490, in __call__\n      return super().__call__(*args, **kwargs)\n    File \"/Users/kevinkwasnik/opt/anaconda3/envs/nlp/lib/python3.10/site-packages/keras/utils/traceback_utils.py\", line 64, in error_handler\n      return fn(*args, **kwargs)\n    File \"/Users/kevinkwasnik/opt/anaconda3/envs/nlp/lib/python3.10/site-packages/keras/engine/base_layer.py\", line 1014, in __call__\n      outputs = call_fn(inputs, *args, **kwargs)\n    File \"/Users/kevinkwasnik/opt/anaconda3/envs/nlp/lib/python3.10/site-packages/keras/utils/traceback_utils.py\", line 92, in error_handler\n      return fn(*args, **kwargs)\n    File \"/Users/kevinkwasnik/opt/anaconda3/envs/nlp/lib/python3.10/site-packages/keras/engine/sequential.py\", line 374, in call\n      return super(Sequential, self).call(inputs, training=training, mask=mask)\n    File \"/Users/kevinkwasnik/opt/anaconda3/envs/nlp/lib/python3.10/site-packages/keras/engine/functional.py\", line 458, in call\n      return self._run_internal_graph(\n    File \"/Users/kevinkwasnik/opt/anaconda3/envs/nlp/lib/python3.10/site-packages/keras/engine/functional.py\", line 596, in _run_internal_graph\n      outputs = node.layer(*args, **kwargs)\n    File \"/Users/kevinkwasnik/opt/anaconda3/envs/nlp/lib/python3.10/site-packages/keras/utils/traceback_utils.py\", line 64, in error_handler\n      return fn(*args, **kwargs)\n    File \"/Users/kevinkwasnik/opt/anaconda3/envs/nlp/lib/python3.10/site-packages/keras/engine/base_layer.py\", line 1014, in __call__\n      outputs = call_fn(inputs, *args, **kwargs)\n    File \"/Users/kevinkwasnik/opt/anaconda3/envs/nlp/lib/python3.10/site-packages/keras/utils/traceback_utils.py\", line 92, in error_handler\n      return fn(*args, **kwargs)\n    File \"/Users/kevinkwasnik/opt/anaconda3/envs/nlp/lib/python3.10/site-packages/keras/layers/core/embedding.py\", line 199, in call\n      out = tf.nn.embedding_lookup(self.embeddings, inputs)\nNode: 'sequential/embedding/embedding_lookup'\nindices[16,3] = 5062 is not in [0, 3751)\n\t [[{{node sequential/embedding/embedding_lookup}}]] [Op:__inference_train_function_690]"
     ]
    }
   ],
   "source": [
    "num_epochs = 10\n",
    "model.fit(x= padded_train_seq, y= y_train_keras, epochs=num_epochs, validation_data=(padded_test_seq, y_test_keras))"
   ]
  },
  {
   "cell_type": "code",
   "execution_count": null,
   "id": "2e93cc97",
   "metadata": {},
   "outputs": [],
   "source": [
    "--"
   ]
  },
  {
   "cell_type": "code",
   "execution_count": null,
   "id": "c086717e",
   "metadata": {},
   "outputs": [],
   "source": []
  },
  {
   "cell_type": "code",
   "execution_count": null,
   "id": "afcb4c94",
   "metadata": {},
   "outputs": [],
   "source": []
  },
  {
   "cell_type": "code",
   "execution_count": null,
   "id": "d96af383",
   "metadata": {},
   "outputs": [],
   "source": []
  },
  {
   "cell_type": "markdown",
   "id": "86068e9a",
   "metadata": {},
   "source": [
    "### Word2Vec sentence tokens"
   ]
  },
  {
   "cell_type": "code",
   "execution_count": null,
   "id": "3754cae2",
   "metadata": {},
   "outputs": [],
   "source": [
    "def word_token(lis):\n",
    "    token_ls = []\n",
    "    try:\n",
    "        for i in lis:\n",
    "            token_ls.append(np.mean(fin_w2v_model.wv[i]))\n",
    "    except:\n",
    "        pass\n",
    "    return token_ls"
   ]
  },
  {
   "cell_type": "code",
   "execution_count": null,
   "id": "2ce59f8f",
   "metadata": {},
   "outputs": [],
   "source": [
    "my_ls = ['tree', 'house', 'fun', 'ecb']\n",
    "print(word_token(my_ls))"
   ]
  },
  {
   "cell_type": "code",
   "execution_count": null,
   "id": "72515cea",
   "metadata": {},
   "outputs": [],
   "source": [
    "df['w2v_tokens'] = df.messages.apply(word_token)"
   ]
  },
  {
   "cell_type": "code",
   "execution_count": null,
   "id": "ffbca941",
   "metadata": {},
   "outputs": [],
   "source": [
    "len_ls = []\n",
    "for i in df.w2v_tokens:\n",
    "    len_ls.append(len(i))\n",
    "    \n",
    "print(max(len_ls))"
   ]
  },
  {
   "cell_type": "code",
   "execution_count": null,
   "id": "bd3cc4c3",
   "metadata": {},
   "outputs": [],
   "source": [
    "avg_length = 0.0\n",
    "max_length = 0\n",
    "\n",
    "for i in df.w2v_tokens:\n",
    "    if len(i) > max_length:\n",
    "        max_length = len(i)\n",
    "    avg_length += float(len(i))\n",
    "    \n",
    "print('Average headline length: {}'.format(avg_length / float(len(df.w2v_tokens))))\n",
    "print('Max headline length: {}'.format(max_length))"
   ]
  },
  {
   "cell_type": "code",
   "execution_count": null,
   "id": "e0621eb9",
   "metadata": {},
   "outputs": [],
   "source": []
  },
  {
   "cell_type": "code",
   "execution_count": null,
   "id": "5166d64b",
   "metadata": {},
   "outputs": [],
   "source": []
  },
  {
   "cell_type": "code",
   "execution_count": null,
   "id": "c3841c34",
   "metadata": {},
   "outputs": [],
   "source": []
  },
  {
   "cell_type": "code",
   "execution_count": null,
   "id": "0f3ddfef",
   "metadata": {},
   "outputs": [],
   "source": []
  },
  {
   "cell_type": "code",
   "execution_count": null,
   "id": "5a10f890",
   "metadata": {},
   "outputs": [],
   "source": []
  },
  {
   "cell_type": "code",
   "execution_count": null,
   "id": "a62304f0",
   "metadata": {},
   "outputs": [],
   "source": []
  },
  {
   "cell_type": "code",
   "execution_count": null,
   "id": "3c24ab10",
   "metadata": {},
   "outputs": [],
   "source": []
  },
  {
   "cell_type": "code",
   "execution_count": null,
   "id": "7be2345f",
   "metadata": {},
   "outputs": [],
   "source": []
  },
  {
   "cell_type": "code",
   "execution_count": null,
   "id": "1b507497",
   "metadata": {},
   "outputs": [],
   "source": []
  },
  {
   "cell_type": "code",
   "execution_count": null,
   "id": "fb4b0812",
   "metadata": {},
   "outputs": [],
   "source": []
  },
  {
   "cell_type": "code",
   "execution_count": null,
   "id": "0c181af0",
   "metadata": {},
   "outputs": [],
   "source": []
  },
  {
   "cell_type": "code",
   "execution_count": null,
   "id": "fc27d09c",
   "metadata": {},
   "outputs": [],
   "source": []
  },
  {
   "cell_type": "code",
   "execution_count": null,
   "id": "cd8912e3",
   "metadata": {},
   "outputs": [],
   "source": [
    "### above is fine\n",
    "### below needs to be redone"
   ]
  },
  {
   "cell_type": "code",
   "execution_count": null,
   "id": "1fbb2d1a",
   "metadata": {},
   "outputs": [],
   "source": []
  },
  {
   "cell_type": "markdown",
   "id": "05ec1371",
   "metadata": {},
   "source": [
    "code below from: https://stackoverflow.com/questions/52038651/loss-does-not-decrease-during-training-word2vec-gensim/52067942"
   ]
  },
  {
   "cell_type": "markdown",
   "id": "25901786",
   "metadata": {},
   "source": [
    "**Results:**\n",
    "\n",
    "Perhaps most notably is the size of the vocabulary. 3056 is not a large word count; chances are the results would be overfit to this specific set of sentences. As always, to have a truly predictive model, far more data would be required. \n",
    "\n",
    "To access a pretrained Word2Vec model, Google's can be accessed in the following manner:\n",
    "\n",
    "```python\n",
    "\n",
    "import gensim.downloader as api\n",
    "path = api.load(\"word2vec-google-news-300\", return_path=True)\n",
    "print(path)\n",
    "```"
   ]
  },
  {
   "cell_type": "code",
   "execution_count": null,
   "id": "acc3df05",
   "metadata": {},
   "outputs": [],
   "source": [
    "from sklearn.manifold import TSNE  ## reduction of dimensions"
   ]
  },
  {
   "cell_type": "markdown",
   "id": "351cd1cf",
   "metadata": {},
   "source": [
    "Visualization of Word2Vec embeddings from documentation at:\n",
    "https://radimrehurek.com/gensim_3.8.3/auto_examples/tutorials/run_word2vec.html#sphx-glr-auto-examples-tutorials-run-word2vec-py"
   ]
  },
  {
   "cell_type": "code",
   "execution_count": null,
   "id": "df89a307",
   "metadata": {},
   "outputs": [],
   "source": [
    "\n",
    "from sklearn.decomposition import IncrementalPCA    # inital reduction\n",
    "from sklearn.manifold import TSNE                   # final reduction\n",
    "import numpy as np                                  # array handling\n",
    "\n",
    "\n",
    "def reduce_dimensions(model):\n",
    "    num_dimensions = 2  # final num dimensions (2D, 3D, etc)\n",
    "\n",
    "    vectors = [] # positions in vector space\n",
    "    labels = [] # keep track of words to label our data again later\n",
    "    for word in model.wv.key_to_index:\n",
    "        vectors.append(model.wv[word])\n",
    "        labels.append(word)\n",
    "\n",
    "    # convert both lists into numpy vectors for reduction\n",
    "    vectors = np.asarray(vectors)\n",
    "    labels = np.asarray(labels)\n",
    "\n",
    "    # reduce using t-SNE\n",
    "    vectors = np.asarray(vectors)\n",
    "    tsne = TSNE(n_components=num_dimensions, random_state=0)\n",
    "    vectors = tsne.fit_transform(vectors)\n",
    "\n",
    "    x_vals = [v[0] for v in vectors]\n",
    "    y_vals = [v[1] for v in vectors]\n",
    "    return x_vals, y_vals, labels\n",
    "\n",
    "\n",
    "x_vals, y_vals, labels = reduce_dimensions(fin_w2v_model)\n",
    "\n",
    "def plot_with_plotly(x_vals, y_vals, labels, plot_in_notebook=True):\n",
    "    from plotly.offline import init_notebook_mode, iplot, plot\n",
    "    import plotly.graph_objs as go\n",
    "\n",
    "    trace = go.Scatter(x=x_vals, y=y_vals, mode='text', text=labels)\n",
    "    data = [trace]\n",
    "\n",
    "    if plot_in_notebook:\n",
    "        init_notebook_mode(connected=True)\n",
    "        iplot(data, filename='word-embedding-plot')\n",
    "    else:\n",
    "        plot(data, filename='word-embedding-plot.html')\n",
    "\n",
    "\n",
    "def plot_with_matplotlib(x_vals, y_vals, labels):\n",
    "    import matplotlib.pyplot as plt\n",
    "    import random\n",
    "\n",
    "    random.seed(0)\n",
    "\n",
    "    plt.figure(figsize=(12, 12))\n",
    "    plt.scatter(x_vals, y_vals)\n",
    "\n",
    "    #\n",
    "    # Label randomly subsampled 25 data points\n",
    "    #\n",
    "    indices = list(range(len(labels)))\n",
    "    selected_indices = random.sample(indices, 25)\n",
    "    for i in selected_indices:\n",
    "        plt.annotate(labels[i], (x_vals[i], y_vals[i]))\n",
    "\n",
    "try:\n",
    "    get_ipython()\n",
    "except Exception:\n",
    "    plot_function = plot_with_matplotlib\n",
    "else:\n",
    "    plot_function = plot_with_plotly\n",
    "\n",
    "plot_function(x_vals, y_vals, labels)"
   ]
  },
  {
   "cell_type": "markdown",
   "id": "e8b85a22",
   "metadata": {},
   "source": [
    "https://github.com/RaRe-Technologies/gensim/wiki/Using-Gensim-Embeddings-with-Keras-and-Tensorflow"
   ]
  },
  {
   "cell_type": "code",
   "execution_count": null,
   "id": "c33de6ff",
   "metadata": {},
   "outputs": [],
   "source": []
  }
 ],
 "metadata": {
  "kernelspec": {
   "display_name": "Python 3 (ipykernel)",
   "language": "python",
   "name": "python3"
  },
  "language_info": {
   "codemirror_mode": {
    "name": "ipython",
    "version": 3
   },
   "file_extension": ".py",
   "mimetype": "text/x-python",
   "name": "python",
   "nbconvert_exporter": "python",
   "pygments_lexer": "ipython3",
   "version": "3.10.4"
  }
 },
 "nbformat": 4,
 "nbformat_minor": 5
}
