{
 "cells": [
  {
   "cell_type": "code",
   "execution_count": 1,
   "id": "10f492be",
   "metadata": {},
   "outputs": [],
   "source": [
    "import spacy\n",
    "import pandas as pd\n",
    "import numpy as np\n",
    "import nltk\n",
    "from nltk.tokenize.toktok import ToktokTokenizer\n",
    "import re\n",
    "from bs4 import BeautifulSoup\n",
    "from contractions import CONTRACTION_MAP\n",
    "#import unicodedata\n",
    "import matplotlib.pyplot as plt\n",
    "from gensim.utils import simple_preprocess\n",
    "from sklearn.model_selection import train_test_split\n",
    "\n",
    "nlp = spacy.load(\"en_core_web_sm\")\n",
    "import time\n",
    "import json\n",
    "import string\n",
    "\n",
    "tokenizer = ToktokTokenizer()\n",
    "stopword_list = nltk.corpus.stopwords.words('english')\n",
    "stopword_list.remove('no')\n",
    "stopword_list.remove('not')\n",
    "stopword_list.remove('up')\n",
    "stopword_list.remove('down')"
   ]
  },
  {
   "cell_type": "code",
   "execution_count": 2,
   "id": "11be96ef",
   "metadata": {},
   "outputs": [],
   "source": [
    "df = pd.read_csv('./data/all-data.csv', names = ['labels','messages'],encoding='ISO-8859-1')"
   ]
  },
  {
   "cell_type": "code",
   "execution_count": 3,
   "id": "943d30f6",
   "metadata": {
    "scrolled": true
   },
   "outputs": [
    {
     "data": {
      "text/html": [
       "<div>\n",
       "<style scoped>\n",
       "    .dataframe tbody tr th:only-of-type {\n",
       "        vertical-align: middle;\n",
       "    }\n",
       "\n",
       "    .dataframe tbody tr th {\n",
       "        vertical-align: top;\n",
       "    }\n",
       "\n",
       "    .dataframe thead th {\n",
       "        text-align: right;\n",
       "    }\n",
       "</style>\n",
       "<table border=\"1\" class=\"dataframe\">\n",
       "  <thead>\n",
       "    <tr style=\"text-align: right;\">\n",
       "      <th></th>\n",
       "      <th>labels</th>\n",
       "      <th>messages</th>\n",
       "    </tr>\n",
       "  </thead>\n",
       "  <tbody>\n",
       "    <tr>\n",
       "      <th>0</th>\n",
       "      <td>neutral</td>\n",
       "      <td>According to Gran , the company has no plans t...</td>\n",
       "    </tr>\n",
       "    <tr>\n",
       "      <th>1</th>\n",
       "      <td>neutral</td>\n",
       "      <td>Technopolis plans to develop in stages an area...</td>\n",
       "    </tr>\n",
       "    <tr>\n",
       "      <th>2</th>\n",
       "      <td>negative</td>\n",
       "      <td>The international electronic industry company ...</td>\n",
       "    </tr>\n",
       "    <tr>\n",
       "      <th>3</th>\n",
       "      <td>positive</td>\n",
       "      <td>With the new production plant the company woul...</td>\n",
       "    </tr>\n",
       "    <tr>\n",
       "      <th>4</th>\n",
       "      <td>positive</td>\n",
       "      <td>According to the company 's updated strategy f...</td>\n",
       "    </tr>\n",
       "  </tbody>\n",
       "</table>\n",
       "</div>"
      ],
      "text/plain": [
       "     labels                                           messages\n",
       "0   neutral  According to Gran , the company has no plans t...\n",
       "1   neutral  Technopolis plans to develop in stages an area...\n",
       "2  negative  The international electronic industry company ...\n",
       "3  positive  With the new production plant the company woul...\n",
       "4  positive  According to the company 's updated strategy f..."
      ]
     },
     "execution_count": 3,
     "metadata": {},
     "output_type": "execute_result"
    }
   ],
   "source": [
    "df.head()"
   ]
  },
  {
   "cell_type": "code",
   "execution_count": 4,
   "id": "6a820284",
   "metadata": {},
   "outputs": [
    {
     "data": {
      "image/png": "[encoded data removed]",
      "text/plain": [
       "<Figure size 640x480 with 1 Axes>"
      ]
     },
     "metadata": {},
     "output_type": "display_data"
    }
   ],
   "source": [
    "df.groupby(['labels']).count().plot.bar()\n",
    "plt.ylabel(\"Count\")\n",
    "plt.xlabel(\"Sentiment\")\n",
    "plt.title(\"Sentiment distribution in df\")\n",
    "plt.show()"
   ]
  },
  {
   "cell_type": "code",
   "execution_count": 5,
   "id": "4d54f7cb",
   "metadata": {},
   "outputs": [
    {
     "data": {
      "text/plain": [
       "', , stopwords , computer not'"
      ]
     },
     "execution_count": 5,
     "metadata": {},
     "output_type": "execute_result"
    }
   ],
   "source": [
    "### remove stopwords\n",
    "\n",
    "def remove_stopwords(text, is_lower_case=False):\n",
    "    tokens = tokenizer.tokenize(text)\n",
    "    tokens = [token.strip() for token in tokens]\n",
    "    if is_lower_case:\n",
    "        filtered_tokens = [token for token in tokens if token not in stopword_list]\n",
    "    else:\n",
    "        filtered_tokens = [token for token in tokens if token.lower() not in stopword_list]\n",
    "    filtered_text = ' '.join(filtered_tokens)    \n",
    "    return filtered_text\n",
    "\n",
    "remove_stopwords(\"The, and, if are stopwords, computer is not\")"
   ]
  },
  {
   "cell_type": "code",
   "execution_count": 6,
   "id": "95d313b6",
   "metadata": {},
   "outputs": [
    {
     "data": {
      "text/plain": [
       "'You all cannot expand contractions I would think'"
      ]
     },
     "execution_count": 6,
     "metadata": {},
     "output_type": "execute_result"
    }
   ],
   "source": [
    "def expand_contractions(text, contraction_mapping=CONTRACTION_MAP):\n",
    "    \n",
    "    contractions_pattern = re.compile('({})'.format('|'.join(contraction_mapping.keys())), \n",
    "                                      flags=re.IGNORECASE|re.DOTALL)\n",
    "    def expand_match(contraction):\n",
    "        match = contraction.group(0)\n",
    "        first_char = match[0]\n",
    "        expanded_contraction = contraction_mapping.get(match)\\\n",
    "                                if contraction_mapping.get(match)\\\n",
    "                                else contraction_mapping.get(match.lower())                       \n",
    "        expanded_contraction = first_char+expanded_contraction[1:]\n",
    "        return expanded_contraction\n",
    "        \n",
    "    expanded_text = contractions_pattern.sub(expand_match, text)\n",
    "    expanded_text = re.sub(\"'\", \"\", expanded_text)\n",
    "    return expanded_text\n",
    "\n",
    "expand_contractions(\"Y'all can't expand contractions I'd think\")"
   ]
  },
  {
   "cell_type": "code",
   "execution_count": 7,
   "id": "994a5e5f",
   "metadata": {},
   "outputs": [
    {
     "data": {
      "text/plain": [
       "'return book be something I remain think about'"
      ]
     },
     "execution_count": 7,
     "metadata": {},
     "output_type": "execute_result"
    }
   ],
   "source": [
    "def lemmatize_text(text):\n",
    "    text = nlp(text)\n",
    "    text = ' '.join([word.lemma_ if word.lemma_ != '-PRON-' else word.text for word in text])\n",
    "    return text\n",
    "\n",
    "lemmatize_text(\"Returning books is something I remain thinking about\") #odd sentence, I know"
   ]
  },
  {
   "cell_type": "code",
   "execution_count": 8,
   "id": "5c14a996",
   "metadata": {},
   "outputs": [],
   "source": [
    "def normalize_text(text):\n",
    "    exp = expand_contractions(text)\n",
    "    low = exp.lower()\n",
    "    lemm = lemmatize_text(low)\n",
    "    no_sw = remove_stopwords(lemm)\n",
    "    return simple_preprocess(no_sw)"
   ]
  },
  {
   "cell_type": "code",
   "execution_count": 9,
   "id": "d10b3598",
   "metadata": {},
   "outputs": [],
   "source": [
    "#### text preprocess:\n",
    "\n",
    "df['messages'] = [normalize_text(row) for row in df['messages']]"
   ]
  },
  {
   "cell_type": "code",
   "execution_count": 10,
   "id": "d9e4a4da",
   "metadata": {},
   "outputs": [
    {
     "data": {
      "text/plain": [
       "['accord', 'gran', 'company']"
      ]
     },
     "execution_count": 10,
     "metadata": {},
     "output_type": "execute_result"
    }
   ],
   "source": [
    "df.iloc[0]['messages'][:3]"
   ]
  },
  {
   "cell_type": "code",
   "execution_count": 11,
   "id": "ea4ed9b5",
   "metadata": {},
   "outputs": [],
   "source": [
    "### map sentiment to int:\n",
    "\n",
    "def map_sentiment(sentiment):\n",
    "    if sentiment == 'negative':\n",
    "        return 0\n",
    "    elif sentiment == 'neutral':\n",
    "        return 2\n",
    "    else:\n",
    "        return 4"
   ]
  },
  {
   "cell_type": "code",
   "execution_count": 12,
   "id": "357b9f67",
   "metadata": {},
   "outputs": [],
   "source": [
    "df['labels'] = [map_sentiment(row) for row in df['labels']]"
   ]
  },
  {
   "cell_type": "code",
   "execution_count": 13,
   "id": "290c2f00",
   "metadata": {},
   "outputs": [
    {
     "data": {
      "text/plain": [
       "0    2\n",
       "1    2\n",
       "2    0\n",
       "Name: labels, dtype: int64"
      ]
     },
     "execution_count": 13,
     "metadata": {},
     "output_type": "execute_result"
    }
   ],
   "source": [
    "df['labels'].head(3)"
   ]
  },
  {
   "cell_type": "code",
   "execution_count": 14,
   "id": "fffe01e1",
   "metadata": {},
   "outputs": [
    {
     "name": "stdout",
     "output_type": "stream",
     "text": [
      "Number of rows per sentiment:\n",
      "2    2879\n",
      "4    1363\n",
      "0     604\n",
      "Name: labels, dtype: int64\n"
     ]
    },
    {
     "data": {
      "image/png": "[encoded data removed]",
      "text/plain": [
       "<Figure size 640x480 with 1 Axes>"
      ]
     },
     "metadata": {},
     "output_type": "display_data"
    }
   ],
   "source": [
    "print(\"Number of rows per sentiment:\")\n",
    "print(df['labels'].value_counts())\n",
    "\n",
    "plt.figure()\n",
    "pd.value_counts(df['labels']).plot.bar(title=\"Sentiment distribution in df\")\n",
    "plt.xlabel(\"Sentiment\")\n",
    "plt.ylabel(\"No. of rows in df\")\n",
    "plt.show()"
   ]
  },
  {
   "cell_type": "code",
   "execution_count": 15,
   "id": "834c6d48",
   "metadata": {},
   "outputs": [],
   "source": [
    "df.to_csv('preprocessed-text.csv', sep = ',')"
   ]
  },
  {
   "cell_type": "code",
   "execution_count": 16,
   "id": "0fa1350f",
   "metadata": {},
   "outputs": [],
   "source": [
    "# prep for word2vec generation"
   ]
  },
  {
   "cell_type": "code",
   "execution_count": 17,
   "id": "349c461e",
   "metadata": {},
   "outputs": [
    {
     "data": {
      "text/html": [
       "<div>\n",
       "<style scoped>\n",
       "    .dataframe tbody tr th:only-of-type {\n",
       "        vertical-align: middle;\n",
       "    }\n",
       "\n",
       "    .dataframe tbody tr th {\n",
       "        vertical-align: top;\n",
       "    }\n",
       "\n",
       "    .dataframe thead th {\n",
       "        text-align: right;\n",
       "    }\n",
       "</style>\n",
       "<table border=\"1\" class=\"dataframe\">\n",
       "  <thead>\n",
       "    <tr style=\"text-align: right;\">\n",
       "      <th></th>\n",
       "      <th>messages</th>\n",
       "    </tr>\n",
       "  </thead>\n",
       "  <tbody>\n",
       "    <tr>\n",
       "      <th>0</th>\n",
       "      <td>[accord, gran, company, no, plan, move, produc...</td>\n",
       "    </tr>\n",
       "    <tr>\n",
       "      <th>1</th>\n",
       "      <td>[technopoli, plan, develop, stage, area, no, l...</td>\n",
       "    </tr>\n",
       "    <tr>\n",
       "      <th>2</th>\n",
       "      <td>[international, electronic, industry, company,...</td>\n",
       "    </tr>\n",
       "    <tr>\n",
       "      <th>3</th>\n",
       "      <td>[new, production, plant, company, would, incre...</td>\n",
       "    </tr>\n",
       "    <tr>\n",
       "      <th>4</th>\n",
       "      <td>[accord, company, update, strategy, year, basw...</td>\n",
       "    </tr>\n",
       "  </tbody>\n",
       "</table>\n",
       "</div>"
      ],
      "text/plain": [
       "                                            messages\n",
       "0  [accord, gran, company, no, plan, move, produc...\n",
       "1  [technopoli, plan, develop, stage, area, no, l...\n",
       "2  [international, electronic, industry, company,...\n",
       "3  [new, production, plant, company, would, incre...\n",
       "4  [accord, company, update, strategy, year, basw..."
      ]
     },
     "execution_count": 17,
     "metadata": {},
     "output_type": "execute_result"
    }
   ],
   "source": [
    "df[['messages']].head()"
   ]
  },
  {
   "cell_type": "markdown",
   "id": "f903a540",
   "metadata": {},
   "source": [
    "code below from: https://stackoverflow.com/questions/52038651/loss-does-not-decrease-during-training-word2vec-gensim/52067942"
   ]
  },
  {
   "cell_type": "code",
   "execution_count": 18,
   "id": "0301a364",
   "metadata": {},
   "outputs": [],
   "source": [
    "from gensim.models.callbacks import CallbackAny2Vec\n",
    "from gensim.models import Word2Vec\n",
    "\n",
    "# init callback class\n",
    "class callback(CallbackAny2Vec):\n",
    "    \"\"\"\n",
    "    Callback to print loss after each epoch\n",
    "    \"\"\"\n",
    "    def __init__(self):\n",
    "        self.epoch = 0\n",
    "\n",
    "    def on_epoch_end(self, model):\n",
    "        loss = model.get_latest_training_loss() \n",
    "        if self.epoch == 0:\n",
    "            print('Loss after epoch {}: {}'.format(self.epoch, loss))\n",
    "        else:\n",
    "            print('Loss after epoch {}: {}'.format(self.epoch, loss- self.loss_previous_step))\n",
    "        self.epoch += 1\n",
    "        self.loss_previous_step = loss"
   ]
  },
  {
   "cell_type": "code",
   "execution_count": 19,
   "id": "ce8acabc",
   "metadata": {},
   "outputs": [],
   "source": [
    "corpus = pd.Series(df['messages'].values)"
   ]
  },
  {
   "cell_type": "code",
   "execution_count": 20,
   "id": "51b34734",
   "metadata": {},
   "outputs": [
    {
     "name": "stdout",
     "output_type": "stream",
     "text": [
      "Loss after epoch 0: 20091.61328125\n",
      "Loss after epoch 1: 32739.1171875\n",
      "Loss after epoch 2: 32464.78515625\n",
      "Loss after epoch 3: 20317.8515625\n",
      "Loss after epoch 4: 33180.3828125\n",
      "Loss after epoch 5: 31938.28125\n",
      "Loss after epoch 6: 17884.875\n",
      "Loss after epoch 7: 34494.140625\n",
      "Loss after epoch 8: 18620.765625\n",
      "Loss after epoch 9: 18211.71875\n",
      "Loss after epoch 10: 17214.0625\n",
      "Loss after epoch 11: 15738.78125\n",
      "Loss after epoch 12: 16358.875\n",
      "Loss after epoch 13: 27624.5\n",
      "Loss after epoch 14: 16161.53125\n",
      "Loss after epoch 15: 13979.5625\n",
      "Loss after epoch 16: 25105.125\n",
      "Loss after epoch 17: 15878.6875\n",
      "Loss after epoch 18: 14163.6875\n",
      "Loss after epoch 19: 12795.28125\n",
      "elapsed time in seconds: 0.40104007720947266\n"
     ]
    }
   ],
   "source": [
    "# init word2vec class\n",
    "w2v_model = Word2Vec(vector_size=300, # 300 dimension vector\n",
    "                     window=15, # how many neighbors around a particular word\n",
    "                     min_count=2, # the word needs to appear at least two times in the corpus\n",
    "                     workers=20, # speed of training\n",
    "                     sg=1, # sg=1 means this is a skip-gram model\n",
    "                     negative=5, # num of negative samples\n",
    "                     sample=1e-5) # sampling rate\n",
    "\n",
    "\n",
    "# build vovab\n",
    "w2v_model.build_vocab(corpus)\n",
    "  \n",
    "# train the w2v model\n",
    "start = time.time()\n",
    "w2v_model.train(corpus, \n",
    "                total_examples=w2v_model.corpus_count, #num of training samples\n",
    "                epochs=20, \n",
    "                report_delay=1,\n",
    "                compute_loss = True, # set compute_loss = True\n",
    "                callbacks=[callback()]) # add the callback class\n",
    "end = time.time()\n",
    "\n",
    "print(\"elapsed time in seconds: \" + str(end-start))\n",
    "# save the word2vec model\n",
    "w2v_model.save('fin_word2vec20.model')"
   ]
  },
  {
   "cell_type": "code",
   "execution_count": 21,
   "id": "357268bf",
   "metadata": {},
   "outputs": [
    {
     "name": "stdout",
     "output_type": "stream",
     "text": [
      "Word2Vec Model Exploration:\n",
      "Vocab size: 3751\n",
      "Top 3 words similar to buy: [('company', 0.9994236826896667), ('say', 0.9994174838066101), ('use', 0.9994145631790161)]\n",
      "Top 3 words similar to sell: [('say', 0.9993838667869568), ('business', 0.9993253350257874), ('group', 0.9993122220039368)]\n",
      "Similarity between 'buy' and 'profit' 0.99805367\n",
      "Similarity between 'sell' and 'loss' 0.99716735\n",
      "Vector distance of 'buy' and 'sell' 0.0009071826934814453\n",
      "Vector distance of 'profit' and 'loss' 0.003501415252685547\n",
      "Vector representation of 'asset': [ 3.89830098e-02  6.75400048e-02  4.74942178e-02  7.10351095e-02\n",
      "  5.61063690e-03 -7.90281892e-02  3.79735194e-02  1.22354314e-01\n",
      "  2.77207661e-02 -7.78725836e-03 -7.46166930e-02 -9.80937108e-02\n",
      "  3.95099744e-02 -2.90379561e-02 -6.55094832e-02 -4.60763648e-03\n",
      " -1.04457010e-02 -4.20046635e-02  1.15571897e-02  2.99415123e-02\n",
      " -4.79482375e-02 -2.29049847e-02  3.49454135e-02  1.88742857e-02\n",
      "  8.75459090e-02  1.64995510e-02 -5.20175546e-02 -1.08432975e-02\n",
      " -2.35012677e-02  3.10070347e-03 -1.73776541e-02 -3.81602906e-02\n",
      " -2.08131522e-02 -1.51064098e-02 -4.25828882e-02  2.59681698e-03\n",
      "  6.10684091e-03 -6.78545609e-02  5.89951826e-03 -1.05979934e-01\n",
      "  1.59521122e-02  3.20049599e-02 -2.57879514e-02 -3.30399908e-02\n",
      "  5.12625650e-02  2.95009576e-02  3.48933004e-02  2.77567133e-02\n",
      " -8.51688385e-02  8.38887617e-02 -2.85669602e-02 -3.82232703e-02\n",
      " -7.59641603e-02  2.73961835e-02 -4.21325862e-02  1.93851367e-02\n",
      "  3.12530845e-02 -6.55910606e-03  2.94621214e-02  2.24613417e-02\n",
      "  6.89083105e-03  4.27166857e-02  6.27212692e-03 -2.47212453e-03\n",
      "  3.76793928e-02 -5.60325347e-02 -2.86019947e-02 -2.83557400e-02\n",
      " -2.81812288e-02 -1.05070258e-02 -4.39727306e-02  5.42366058e-02\n",
      "  1.36939650e-02 -1.15205785e-02  2.85546924e-03  9.37400293e-03\n",
      " -6.28617331e-02 -4.82698344e-02  5.33768488e-03  1.14138432e-01\n",
      " -4.28377949e-02 -7.47254193e-02  8.48700553e-02  2.44838502e-02\n",
      " -3.93806491e-03  3.42496559e-02 -5.94907291e-02  6.61880150e-02\n",
      " -2.50453558e-02  3.30565646e-02  6.62598712e-03 -3.93447354e-02\n",
      "  4.03444879e-02  1.69474520e-02  3.69426012e-02  5.88104539e-02\n",
      "  3.79235893e-02 -2.78914999e-02 -1.15941763e-01  3.29969749e-02\n",
      "  3.28183547e-02 -6.41030585e-03  7.73688182e-02 -6.03660196e-03\n",
      "  4.23298553e-02 -3.59825487e-03 -7.24195167e-02  7.20218271e-02\n",
      " -2.06528232e-02  5.98384673e-03 -3.54445763e-02 -1.02955155e-01\n",
      "  4.45931405e-03  1.40653802e-02  7.61622936e-02  4.59555238e-02\n",
      " -5.13751246e-02 -2.35566013e-02  1.08616918e-01 -9.77647603e-02\n",
      "  2.03612242e-02 -6.65821310e-04  3.23264152e-02 -4.86519709e-02\n",
      " -2.48584375e-02  2.41012964e-02  2.14949101e-02  1.49276610e-02\n",
      "  3.59905564e-04  6.91972487e-03 -5.26019484e-02  1.09940059e-01\n",
      " -4.72879130e-03 -4.43224236e-02  1.11492537e-01 -2.82496121e-03\n",
      "  1.53717389e-02 -5.01499362e-02 -3.71933691e-02 -6.31147400e-02\n",
      "  6.75236359e-02 -3.27998474e-02 -1.87898446e-02  4.07878458e-02\n",
      "  5.82509860e-02 -2.33213902e-02 -7.62145072e-02 -5.37673477e-03\n",
      "  2.72868257e-02 -3.39407995e-02  3.77361104e-02 -7.16345087e-02\n",
      " -7.15913028e-02 -5.05814031e-02  2.99418364e-02 -1.62782185e-02\n",
      " -7.51840845e-02 -2.77686473e-02  2.47327667e-02  3.56220920e-03\n",
      " -2.12455653e-02  8.35438445e-02 -6.68898746e-02  8.34978968e-02\n",
      " -2.55930033e-02  4.58334722e-02  2.35221870e-02 -6.96160831e-03\n",
      "  3.59942429e-02  9.67059135e-02  4.81677940e-03 -6.50589988e-02\n",
      "  2.93566845e-02 -1.22781247e-02 -1.11492701e-01  1.45221474e-02\n",
      "  2.24664677e-02 -5.83248911e-03 -5.77884205e-02 -7.26708248e-02\n",
      " -5.31062260e-02  1.70402639e-02 -2.42123287e-02 -1.20992903e-02\n",
      "  1.37600219e-02  2.58090869e-02 -9.36587434e-03  8.95072818e-02\n",
      " -8.77322964e-05 -5.71322590e-02 -6.05774745e-02 -4.65082116e-02\n",
      " -4.39884514e-02  2.51110978e-02  3.24006900e-02 -5.91043718e-02\n",
      "  5.34877414e-03 -4.50369082e-02  2.26642713e-02  2.94868723e-02\n",
      " -3.20476256e-02  9.43590924e-02 -1.38687557e-02 -4.40524379e-03\n",
      " -4.95023318e-02 -2.08757985e-02 -4.82824892e-02 -3.89848053e-02\n",
      "  9.31364819e-02 -3.52345705e-02  4.80241664e-02 -1.39366500e-02\n",
      " -6.36295378e-02 -5.03890100e-04  6.04222715e-02 -3.12418584e-02\n",
      " -2.13030893e-02 -5.53484447e-02 -5.22428676e-02 -2.47467197e-02\n",
      "  5.87823242e-02  2.23586317e-02  2.83673480e-02 -3.02953608e-02\n",
      " -9.52116475e-02 -7.51950517e-02  1.72379930e-02  2.91415080e-02\n",
      " -4.56690714e-02  3.12347841e-02  7.40204901e-02 -1.53018441e-02\n",
      " -1.88704894e-03  5.58424257e-02 -6.40227944e-02 -2.23430470e-02\n",
      "  2.19204947e-02  9.19503644e-02  4.48582992e-02 -4.51742113e-02\n",
      " -3.47212597e-04 -1.10905588e-01 -1.06404200e-01  8.03214684e-03\n",
      " -8.57088156e-03 -8.41795802e-02  2.32822541e-02  4.18144353e-02\n",
      "  1.93418227e-02 -6.39463775e-03 -5.53073082e-03  5.56985615e-03\n",
      "  2.72197518e-02 -6.47623986e-02 -2.29418762e-02 -3.56821045e-02\n",
      "  2.46432777e-02  7.03819171e-02 -8.49253908e-02 -4.79963981e-02\n",
      "  3.91052179e-02  4.03914452e-02 -2.91757938e-02 -3.72840390e-02\n",
      " -5.98931424e-02  2.91740354e-02  5.00545092e-02  2.38359813e-02\n",
      " -5.64195309e-03  4.17383900e-03 -7.35720322e-02  2.48667761e-03\n",
      " -9.65716224e-03 -2.32237168e-02  1.08618923e-01 -5.98651282e-02\n",
      "  1.76528767e-02  2.82841679e-02  8.74035060e-03  1.12374965e-02\n",
      "  2.46492978e-02  1.23776235e-02 -1.62770022e-02  1.40796164e-02\n",
      " -2.99539398e-02 -9.94805340e-03 -4.49796990e-02  4.93165255e-02\n",
      " -9.72017366e-03  7.24063516e-02  2.47629639e-02  5.01048267e-02\n",
      "  7.73265883e-02 -5.30517846e-02  1.41698951e-02  5.61784804e-02\n",
      "  1.91894826e-02 -4.94897030e-02  2.24856697e-02  6.49027303e-02]\n"
     ]
    }
   ],
   "source": [
    "fin_w2v_model = Word2Vec.load('fin_word2vec20.model')\n",
    "words = list(fin_w2v_model.wv.index_to_key)\n",
    "print('Word2Vec Model Exploration:')\n",
    "print(\"Vocab size: \" +str(len(words)))\n",
    "\n",
    "w1= 'buy'\n",
    "print(\"Top 3 words similar to buy:\",\\\n",
    "     fin_w2v_model.wv.most_similar(positive= w1, topn=3))\n",
    "\n",
    "w2= 'sell'\n",
    "print(\"Top 3 words similar to sell:\",\\\n",
    "     fin_w2v_model.wv.most_similar(positive= w2, topn=3))\n",
    "\n",
    "print(\"Similarity between 'buy' and 'profit'\",\\\n",
    "     str(fin_w2v_model.wv.similarity(\"buy\", \"profit\")))\n",
    "\n",
    "print(\"Similarity between 'sell' and 'loss'\",\\\n",
    "     str(fin_w2v_model.wv.similarity(\"sell\", \"loss\")))\n",
    "\n",
    "print(\"Vector distance of 'buy' and 'sell'\",\\\n",
    "     str(fin_w2v_model.wv.distance(\"buy\", \"sell\")))\n",
    "\n",
    "print(\"Vector distance of 'profit' and 'loss'\",\\\n",
    "     str(fin_w2v_model.wv.distance(\"profit\", \"loss\")))\n",
    "\n",
    "print(\"Vector representation of 'asset':\",\\\n",
    "      fin_w2v_model.wv.get_vector(\"asset\"))"
   ]
  },
  {
   "cell_type": "markdown",
   "id": "cbdd5846",
   "metadata": {},
   "source": [
    "**Results:**\n",
    "\n",
    "Perhaps most notably is the size of the vocabulary. 3745 is not a large word count; chances are the results would be overfit to this specific set of sentences. As always, to have a truly predictive model, far more data would be required.\n",
    "\n",
    "To access a pretrained Word2Vec model, Google's can be accessed in the following manner:\n",
    "\n",
    "```python\n",
    "import gensim.downloader as api\n",
    "path = api.load(\"word2vec-google-news-300\", return_path=True)\n",
    "print(path)\n",
    "```"
   ]
  },
  {
   "cell_type": "code",
   "execution_count": 22,
   "id": "b3732c43",
   "metadata": {},
   "outputs": [
    {
     "name": "stdout",
     "output_type": "stream",
     "text": [
      "The no of key-value pairs :  3751\n"
     ]
    }
   ],
   "source": [
    "word_vec_dict={}\n",
    "for word in words:\n",
    "    word_vec_dict[word]=w2v_model.wv.get_vector(word)\n",
    "print(\"The no of key-value pairs : \",len(word_vec_dict)) # should come equal to vocab size"
   ]
  },
  {
   "cell_type": "markdown",
   "id": "08e3947e",
   "metadata": {},
   "source": [
    "# Creation of Word2Vec sentence tokens"
   ]
  },
  {
   "cell_type": "code",
   "execution_count": 33,
   "id": "3754cae2",
   "metadata": {},
   "outputs": [],
   "source": [
    "def word_token(lis):\n",
    "    token_ls = []\n",
    "    try:\n",
    "        for i in lis:\n",
    "            token_ls.append(np.mean(fin_w2v_model.wv[i]))\n",
    "    except:\n",
    "        pass\n",
    "    return token_ls"
   ]
  },
  {
   "cell_type": "code",
   "execution_count": 34,
   "id": "2ce59f8f",
   "metadata": {},
   "outputs": [
    {
     "name": "stdout",
     "output_type": "stream",
     "text": [
      "[-0.0009817771, -0.0016646002, -0.0016491498, -0.00040052578]\n"
     ]
    }
   ],
   "source": [
    "my_ls = ['tree', 'house', 'fun', 'ecb']\n",
    "print(word_token(my_ls))"
   ]
  },
  {
   "cell_type": "code",
   "execution_count": 35,
   "id": "72515cea",
   "metadata": {},
   "outputs": [],
   "source": [
    "df['w2v_tokens'] = df.messages.apply(word_token)"
   ]
  },
  {
   "cell_type": "markdown",
   "id": "673db542",
   "metadata": {},
   "source": [
    "### Preparation of the Gensim Word2Vec Embedding Layer for Keras"
   ]
  },
  {
   "cell_type": "code",
   "execution_count": 23,
   "id": "52b051fc",
   "metadata": {},
   "outputs": [],
   "source": [
    "# convert the wv word vectors into a numpy matrix that is suitable for insertion\n",
    "# into our TensorFlow and Keras models\n",
    "embedding_matrix = np.zeros((len(fin_w2v_model.wv.index_to_key), 300), dtype=float)\n",
    "for i in range(len(fin_w2v_model.wv.index_to_key)):\n",
    "    embedding_vector = fin_w2v_model.wv[fin_w2v_model.wv.index_to_key[i]]\n",
    "    if embedding_vector is not None:\n",
    "        embedding_matrix[i] = embedding_vector"
   ]
  },
  {
   "cell_type": "code",
   "execution_count": 24,
   "id": "1519e761",
   "metadata": {},
   "outputs": [
    {
     "data": {
      "text/plain": [
       "(3751, 300)"
      ]
     },
     "execution_count": 24,
     "metadata": {},
     "output_type": "execute_result"
    }
   ],
   "source": [
    "embedding_matrix.shape"
   ]
  },
  {
   "cell_type": "markdown",
   "id": "5810f4cc",
   "metadata": {},
   "source": [
    "### Keras Tokenizer"
   ]
  },
  {
   "cell_type": "code",
   "execution_count": 64,
   "id": "6f1baa20",
   "metadata": {},
   "outputs": [],
   "source": [
    "import tensorflow as tf\n",
    "from tensorflow.keras.preprocessing.text import Tokenizer\n",
    "from tensorflow.keras.utils import pad_sequences"
   ]
  },
  {
   "cell_type": "code",
   "execution_count": 27,
   "id": "ef4ca225",
   "metadata": {},
   "outputs": [],
   "source": [
    "tokenizer= Tokenizer(oov_token=\"OOV\")\n",
    "tokenizer.fit_on_texts(df.messages.values)"
   ]
  },
  {
   "cell_type": "code",
   "execution_count": 28,
   "id": "97597228",
   "metadata": {},
   "outputs": [],
   "source": [
    "word_index = tokenizer.word_index"
   ]
  },
  {
   "cell_type": "code",
   "execution_count": 29,
   "id": "f670dbfe",
   "metadata": {},
   "outputs": [
    {
     "name": "stdout",
     "output_type": "stream",
     "text": [
      "684\n"
     ]
    }
   ],
   "source": [
    "print(word_index['short'])"
   ]
  },
  {
   "cell_type": "code",
   "execution_count": 65,
   "id": "b428ded8",
   "metadata": {},
   "outputs": [
    {
     "data": {
      "text/plain": [
       "7393"
      ]
     },
     "execution_count": 65,
     "metadata": {},
     "output_type": "execute_result"
    }
   ],
   "source": [
    "len(word_index)"
   ]
  },
  {
   "cell_type": "code",
   "execution_count": 37,
   "id": "cb5165de",
   "metadata": {},
   "outputs": [],
   "source": [
    "df['keras_tokens'] = df['messages'].apply(tokenizer.texts_to_sequences)"
   ]
  },
  {
   "cell_type": "code",
   "execution_count": 42,
   "id": "6b5bf039",
   "metadata": {},
   "outputs": [
    {
     "data": {
      "text/plain": [
       "list"
      ]
     },
     "execution_count": 42,
     "metadata": {},
     "output_type": "execute_result"
    }
   ],
   "source": [
    "type(df.keras_tokens[0][0])"
   ]
  },
  {
   "cell_type": "code",
   "execution_count": 43,
   "id": "5482233a",
   "metadata": {},
   "outputs": [],
   "source": [
    "def traverse(o, tree_types=(list, tuple)):\n",
    "    if isinstance(o, tree_types):\n",
    "        for value in o:\n",
    "            for subvalue in traverse(value, tree_types):\n",
    "                yield subvalue\n",
    "    else:\n",
    "        yield o"
   ]
  },
  {
   "cell_type": "code",
   "execution_count": 44,
   "id": "3d375546",
   "metadata": {},
   "outputs": [
    {
     "data": {
      "text/plain": [
       "[63, 2670, 3, 193, 80, 366, 54, 103, 2161, 3, 142]"
      ]
     },
     "execution_count": 44,
     "metadata": {},
     "output_type": "execute_result"
    }
   ],
   "source": [
    "test_sentence1 = list(traverse(df.keras_tokens[0]))\n",
    "test_sentence1"
   ]
  },
  {
   "cell_type": "code",
   "execution_count": 45,
   "id": "76f78996",
   "metadata": {},
   "outputs": [],
   "source": [
    "df['keras_tokens'] = df['keras_tokens'].apply(traverse).apply(list)"
   ]
  },
  {
   "cell_type": "code",
   "execution_count": 46,
   "id": "8122bb76",
   "metadata": {},
   "outputs": [
    {
     "data": {
      "text/html": [
       "<div>\n",
       "<style scoped>\n",
       "    .dataframe tbody tr th:only-of-type {\n",
       "        vertical-align: middle;\n",
       "    }\n",
       "\n",
       "    .dataframe tbody tr th {\n",
       "        vertical-align: top;\n",
       "    }\n",
       "\n",
       "    .dataframe thead th {\n",
       "        text-align: right;\n",
       "    }\n",
       "</style>\n",
       "<table border=\"1\" class=\"dataframe\">\n",
       "  <thead>\n",
       "    <tr style=\"text-align: right;\">\n",
       "      <th></th>\n",
       "      <th>labels</th>\n",
       "      <th>messages</th>\n",
       "      <th>w2v_tokens</th>\n",
       "      <th>keras_tokens</th>\n",
       "    </tr>\n",
       "  </thead>\n",
       "  <tbody>\n",
       "    <tr>\n",
       "      <th>0</th>\n",
       "      <td>2</td>\n",
       "      <td>[accord, gran, company, no, plan, move, produc...</td>\n",
       "      <td>[-0.0021478878, -0.0011269064, -0.0031040073, ...</td>\n",
       "      <td>[63, 2670, 3, 193, 80, 366, 54, 103, 2161, 3, ...</td>\n",
       "    </tr>\n",
       "    <tr>\n",
       "      <th>1</th>\n",
       "      <td>2</td>\n",
       "      <td>[technopoli, plan, develop, stage, area, no, l...</td>\n",
       "      <td>[-0.0010272416, -0.002188268, -0.0023821446, -...</td>\n",
       "      <td>[1087, 80, 104, 933, 89, 193, 868, 482, 1283, ...</td>\n",
       "    </tr>\n",
       "  </tbody>\n",
       "</table>\n",
       "</div>"
      ],
      "text/plain": [
       "   labels                                           messages  \\\n",
       "0       2  [accord, gran, company, no, plan, move, produc...   \n",
       "1       2  [technopoli, plan, develop, stage, area, no, l...   \n",
       "\n",
       "                                          w2v_tokens  \\\n",
       "0  [-0.0021478878, -0.0011269064, -0.0031040073, ...   \n",
       "1  [-0.0010272416, -0.002188268, -0.0023821446, -...   \n",
       "\n",
       "                                        keras_tokens  \n",
       "0  [63, 2670, 3, 193, 80, 366, 54, 103, 2161, 3, ...  \n",
       "1  [1087, 80, 104, 933, 89, 193, 868, 482, 1283, ...  "
      ]
     },
     "execution_count": 46,
     "metadata": {},
     "output_type": "execute_result"
    }
   ],
   "source": [
    "df.head(2)"
   ]
  },
  {
   "cell_type": "code",
   "execution_count": 48,
   "id": "8969393a",
   "metadata": {},
   "outputs": [],
   "source": []
  },
  {
   "cell_type": "code",
   "execution_count": 49,
   "id": "8dca86eb",
   "metadata": {},
   "outputs": [
    {
     "data": {
      "text/plain": [
       "(4846, 50)"
      ]
     },
     "execution_count": 49,
     "metadata": {},
     "output_type": "execute_result"
    }
   ],
   "source": [
    "padded_sequences.shape"
   ]
  },
  {
   "cell_type": "markdown",
   "id": "86b2f826",
   "metadata": {},
   "source": [
    "### Train Test Split"
   ]
  },
  {
   "cell_type": "code",
   "execution_count": 50,
   "id": "140d824d",
   "metadata": {},
   "outputs": [
    {
     "data": {
      "text/html": [
       "<div>\n",
       "<style scoped>\n",
       "    .dataframe tbody tr th:only-of-type {\n",
       "        vertical-align: middle;\n",
       "    }\n",
       "\n",
       "    .dataframe tbody tr th {\n",
       "        vertical-align: top;\n",
       "    }\n",
       "\n",
       "    .dataframe thead th {\n",
       "        text-align: right;\n",
       "    }\n",
       "</style>\n",
       "<table border=\"1\" class=\"dataframe\">\n",
       "  <thead>\n",
       "    <tr style=\"text-align: right;\">\n",
       "      <th></th>\n",
       "      <th>labels</th>\n",
       "      <th>messages</th>\n",
       "      <th>w2v_tokens</th>\n",
       "      <th>keras_tokens</th>\n",
       "    </tr>\n",
       "  </thead>\n",
       "  <tbody>\n",
       "    <tr>\n",
       "      <th>0</th>\n",
       "      <td>2</td>\n",
       "      <td>[accord, gran, company, no, plan, move, produc...</td>\n",
       "      <td>[-0.0021478878, -0.0011269064, -0.0031040073, ...</td>\n",
       "      <td>[63, 2670, 3, 193, 80, 366, 54, 103, 2161, 3, ...</td>\n",
       "    </tr>\n",
       "    <tr>\n",
       "      <th>1</th>\n",
       "      <td>2</td>\n",
       "      <td>[technopoli, plan, develop, stage, area, no, l...</td>\n",
       "      <td>[-0.0010272416, -0.002188268, -0.0023821446, -...</td>\n",
       "      <td>[1087, 80, 104, 933, 89, 193, 868, 482, 1283, ...</td>\n",
       "    </tr>\n",
       "  </tbody>\n",
       "</table>\n",
       "</div>"
      ],
      "text/plain": [
       "   labels                                           messages  \\\n",
       "0       2  [accord, gran, company, no, plan, move, produc...   \n",
       "1       2  [technopoli, plan, develop, stage, area, no, l...   \n",
       "\n",
       "                                          w2v_tokens  \\\n",
       "0  [-0.0021478878, -0.0011269064, -0.0031040073, ...   \n",
       "1  [-0.0010272416, -0.002188268, -0.0023821446, -...   \n",
       "\n",
       "                                        keras_tokens  \n",
       "0  [63, 2670, 3, 193, 80, 366, 54, 103, 2161, 3, ...  \n",
       "1  [1087, 80, 104, 933, 89, 193, 868, 482, 1283, ...  "
      ]
     },
     "execution_count": 50,
     "metadata": {},
     "output_type": "execute_result"
    }
   ],
   "source": [
    "df.head(2)"
   ]
  },
  {
   "cell_type": "code",
   "execution_count": 53,
   "id": "ec8884bd",
   "metadata": {},
   "outputs": [
    {
     "name": "stdout",
     "output_type": "stream",
     "text": [
      "4846\n"
     ]
    }
   ],
   "source": [
    "print(len(df.keras_tokens.values))"
   ]
  },
  {
   "cell_type": "code",
   "execution_count": 54,
   "id": "2508bd1a",
   "metadata": {},
   "outputs": [
    {
     "name": "stdout",
     "output_type": "stream",
     "text": [
      "4846\n"
     ]
    }
   ],
   "source": [
    "print(len(df.labels.values))"
   ]
  },
  {
   "cell_type": "code",
   "execution_count": 58,
   "id": "70f0a241",
   "metadata": {},
   "outputs": [],
   "source": [
    "X_keras = df.keras_tokens.values\n",
    "y = df.labels.values"
   ]
  },
  {
   "cell_type": "code",
   "execution_count": 60,
   "id": "b54e9eb5",
   "metadata": {},
   "outputs": [
    {
     "name": "stdout",
     "output_type": "stream",
     "text": [
      "(3392,) (1454,)\n"
     ]
    }
   ],
   "source": [
    "X_train_keras, X_test_keras, y_train_keras, y_test_keras = train_test_split(X_keras, y, test_size=.3, random_state=42)\n",
    "\n",
    "\n",
    "print(X_train_keras.shape, X_test_keras.shape)"
   ]
  },
  {
   "cell_type": "markdown",
   "id": "7592ff59",
   "metadata": {},
   "source": [
    "## Pad Sequences"
   ]
  },
  {
   "cell_type": "code",
   "execution_count": 61,
   "id": "f532f5d0",
   "metadata": {},
   "outputs": [],
   "source": [
    "padded_train_seq = pad_sequences(X_train_keras, maxlen=50, padding='post')\n",
    "padded_test_seq = pad_sequences(X_test_keras, maxlen=50, padding='post')"
   ]
  },
  {
   "cell_type": "code",
   "execution_count": 62,
   "id": "1c647d83",
   "metadata": {},
   "outputs": [
    {
     "data": {
      "text/plain": [
       "(3392, 50)"
      ]
     },
     "execution_count": 62,
     "metadata": {},
     "output_type": "execute_result"
    }
   ],
   "source": [
    "padded_train_seq.shape"
   ]
  },
  {
   "cell_type": "code",
   "execution_count": null,
   "id": "e13ffecc",
   "metadata": {},
   "outputs": [],
   "source": []
  },
  {
   "cell_type": "code",
   "execution_count": 68,
   "id": "1f124ae8",
   "metadata": {},
   "outputs": [
    {
     "name": "stdout",
     "output_type": "stream",
     "text": [
      "Model: \"sequential\"\n",
      "_________________________________________________________________\n",
      " Layer (type)                Output Shape              Param #   \n",
      "=================================================================\n",
      " embedding (Embedding)       (None, 50, 6)             60000     \n",
      "                                                                 \n",
      " flatten (Flatten)           (None, 300)               0         \n",
      "                                                                 \n",
      " dense (Dense)               (None, 60)                18060     \n",
      "                                                                 \n",
      " dense_1 (Dense)             (None, 3)                 183       \n",
      "                                                                 \n",
      "=================================================================\n",
      "Total params: 78,243\n",
      "Trainable params: 78,243\n",
      "Non-trainable params: 0\n",
      "_________________________________________________________________\n"
     ]
    },
    {
     "name": "stderr",
     "output_type": "stream",
     "text": [
      "2022-09-02 12:19:54.392162: I tensorflow/core/platform/cpu_feature_guard.cc:193] This TensorFlow binary is optimized with oneAPI Deep Neural Network Library (oneDNN) to use the following CPU instructions in performance-critical operations:  AVX2 FMA\n",
      "To enable them in other operations, rebuild TensorFlow with the appropriate compiler flags.\n"
     ]
    }
   ],
   "source": [
    "# Build a basic sentiment network\n",
    "# Note the embedding layer is first, \n",
    "# and the output 3 nodes as it is either 0,2, or 4(negative, neutral, or positive)\n",
    "model = tf.keras.Sequential([\n",
    "    tf.keras.layers.Embedding(?, ?, input_length=?),\n",
    "    tf.keras.layers.Flatten(),\n",
    "    tf.keras.layers.Dense(60, activation='relu'),\n",
    "    tf.keras.layers.Dense(3, activation = tf.nn.softmax)\n",
    "])\n",
    "model.compile(loss='binary_crossentropy',optimizer='adam',metrics=['accuracy'])\n",
    "model.summary()"
   ]
  },
  {
   "cell_type": "code",
   "execution_count": null,
   "id": "b82202f7",
   "metadata": {},
   "outputs": [],
   "source": []
  },
  {
   "cell_type": "code",
   "execution_count": null,
   "id": "a04aa4d1",
   "metadata": {},
   "outputs": [],
   "source": []
  },
  {
   "cell_type": "code",
   "execution_count": null,
   "id": "d130b191",
   "metadata": {},
   "outputs": [],
   "source": []
  },
  {
   "cell_type": "code",
   "execution_count": null,
   "id": "2ef00da6",
   "metadata": {},
   "outputs": [],
   "source": []
  },
  {
   "cell_type": "code",
   "execution_count": 32,
   "id": "f86c7ff1",
   "metadata": {},
   "outputs": [
    {
     "data": {
      "text/html": [
       "<div>\n",
       "<style scoped>\n",
       "    .dataframe tbody tr th:only-of-type {\n",
       "        vertical-align: middle;\n",
       "    }\n",
       "\n",
       "    .dataframe tbody tr th {\n",
       "        vertical-align: top;\n",
       "    }\n",
       "\n",
       "    .dataframe thead th {\n",
       "        text-align: right;\n",
       "    }\n",
       "</style>\n",
       "<table border=\"1\" class=\"dataframe\">\n",
       "  <thead>\n",
       "    <tr style=\"text-align: right;\">\n",
       "      <th></th>\n",
       "      <th>labels</th>\n",
       "      <th>messages</th>\n",
       "      <th>sent_tokens</th>\n",
       "    </tr>\n",
       "  </thead>\n",
       "  <tbody>\n",
       "    <tr>\n",
       "      <th>0</th>\n",
       "      <td>2</td>\n",
       "      <td>[accord, gran, company, no, plan, move, produc...</td>\n",
       "      <td>[[63], [2670], [3], [193], [80], [366], [54], ...</td>\n",
       "    </tr>\n",
       "    <tr>\n",
       "      <th>1</th>\n",
       "      <td>2</td>\n",
       "      <td>[technopoli, plan, develop, stage, area, no, l...</td>\n",
       "      <td>[[1087], [80], [104], [933], [89], [193], [868...</td>\n",
       "    </tr>\n",
       "    <tr>\n",
       "      <th>2</th>\n",
       "      <td>0</td>\n",
       "      <td>[international, electronic, industry, company,...</td>\n",
       "      <td>[[238], [162], [77], [3], [292], [254], [731],...</td>\n",
       "    </tr>\n",
       "    <tr>\n",
       "      <th>3</th>\n",
       "      <td>4</td>\n",
       "      <td>[new, production, plant, company, would, incre...</td>\n",
       "      <td>[[19], [54], [41], [3], [93], [25], [196], [69...</td>\n",
       "    </tr>\n",
       "    <tr>\n",
       "      <th>4</th>\n",
       "      <td>4</td>\n",
       "      <td>[accord, company, update, strategy, year, basw...</td>\n",
       "      <td>[[63], [3], [935], [300], [8], [251], [182], [...</td>\n",
       "    </tr>\n",
       "  </tbody>\n",
       "</table>\n",
       "</div>"
      ],
      "text/plain": [
       "   labels                                           messages  \\\n",
       "0       2  [accord, gran, company, no, plan, move, produc...   \n",
       "1       2  [technopoli, plan, develop, stage, area, no, l...   \n",
       "2       0  [international, electronic, industry, company,...   \n",
       "3       4  [new, production, plant, company, would, incre...   \n",
       "4       4  [accord, company, update, strategy, year, basw...   \n",
       "\n",
       "                                         sent_tokens  \n",
       "0  [[63], [2670], [3], [193], [80], [366], [54], ...  \n",
       "1  [[1087], [80], [104], [933], [89], [193], [868...  \n",
       "2  [[238], [162], [77], [3], [292], [254], [731],...  \n",
       "3  [[19], [54], [41], [3], [93], [25], [196], [69...  \n",
       "4  [[63], [3], [935], [300], [8], [251], [182], [...  "
      ]
     },
     "execution_count": 32,
     "metadata": {},
     "output_type": "execute_result"
    }
   ],
   "source": [
    "df.head()"
   ]
  },
  {
   "cell_type": "code",
   "execution_count": null,
   "id": "3edef1f5",
   "metadata": {},
   "outputs": [],
   "source": []
  },
  {
   "cell_type": "markdown",
   "id": "8d1d0ad4",
   "metadata": {},
   "source": [
    "# Creation of Word2Vec sentence tokens"
   ]
  },
  {
   "cell_type": "code",
   "execution_count": null,
   "id": "f1544dd8",
   "metadata": {},
   "outputs": [],
   "source": [
    "def word_token(lis):\n",
    "    token_ls = []\n",
    "    try:\n",
    "        for i in lis:\n",
    "            token_ls.append(np.mean(fin_w2v_model.wv[i]))\n",
    "    except:\n",
    "        pass\n",
    "    return token_ls"
   ]
  },
  {
   "cell_type": "code",
   "execution_count": null,
   "id": "adc6bbaa",
   "metadata": {},
   "outputs": [],
   "source": [
    "my_ls = ['tree', 'house', 'fun', 'ecb']\n",
    "print(word_token(my_ls))"
   ]
  },
  {
   "cell_type": "code",
   "execution_count": null,
   "id": "f0a03e81",
   "metadata": {},
   "outputs": [],
   "source": [
    "df['w2v_tokens'] = df.messages.apply(word_token)"
   ]
  },
  {
   "cell_type": "code",
   "execution_count": null,
   "id": "cbf432cc",
   "metadata": {},
   "outputs": [],
   "source": [
    "df.head()"
   ]
  },
  {
   "cell_type": "code",
   "execution_count": null,
   "id": "214f8cf9",
   "metadata": {},
   "outputs": [],
   "source": [
    "--"
   ]
  },
  {
   "cell_type": "code",
   "execution_count": null,
   "id": "ffbca941",
   "metadata": {},
   "outputs": [],
   "source": [
    "len_ls = []\n",
    "for i in df.sent_tokens:\n",
    "    len_ls.append(len(i))\n",
    "    \n",
    "print(max(len_ls))"
   ]
  },
  {
   "cell_type": "code",
   "execution_count": null,
   "id": "bd3cc4c3",
   "metadata": {},
   "outputs": [],
   "source": [
    "avg_length = 0.0\n",
    "max_length = 0\n",
    "\n",
    "for i in df.sent_tokens:\n",
    "    if len(i) > max_length:\n",
    "        max_length = len(i)\n",
    "    avg_length += float(len(i))\n",
    "    \n",
    "print('Average headline length: {}'.format(avg_length / float(len(df.sent_tokens))))\n",
    "print('Max headline length: {}'.format(max_length))"
   ]
  },
  {
   "cell_type": "code",
   "execution_count": null,
   "id": "e0621eb9",
   "metadata": {},
   "outputs": [],
   "source": []
  },
  {
   "cell_type": "code",
   "execution_count": null,
   "id": "5166d64b",
   "metadata": {},
   "outputs": [],
   "source": []
  },
  {
   "cell_type": "code",
   "execution_count": null,
   "id": "c3841c34",
   "metadata": {},
   "outputs": [],
   "source": []
  },
  {
   "cell_type": "code",
   "execution_count": null,
   "id": "0f3ddfef",
   "metadata": {},
   "outputs": [],
   "source": []
  },
  {
   "cell_type": "code",
   "execution_count": null,
   "id": "5a10f890",
   "metadata": {},
   "outputs": [],
   "source": []
  },
  {
   "cell_type": "code",
   "execution_count": null,
   "id": "a62304f0",
   "metadata": {},
   "outputs": [],
   "source": []
  },
  {
   "cell_type": "code",
   "execution_count": null,
   "id": "3c24ab10",
   "metadata": {},
   "outputs": [],
   "source": []
  },
  {
   "cell_type": "code",
   "execution_count": null,
   "id": "7be2345f",
   "metadata": {},
   "outputs": [],
   "source": []
  },
  {
   "cell_type": "code",
   "execution_count": null,
   "id": "1b507497",
   "metadata": {},
   "outputs": [],
   "source": []
  },
  {
   "cell_type": "code",
   "execution_count": null,
   "id": "fb4b0812",
   "metadata": {},
   "outputs": [],
   "source": []
  },
  {
   "cell_type": "code",
   "execution_count": null,
   "id": "0c181af0",
   "metadata": {},
   "outputs": [],
   "source": []
  },
  {
   "cell_type": "code",
   "execution_count": null,
   "id": "fc27d09c",
   "metadata": {},
   "outputs": [],
   "source": []
  },
  {
   "cell_type": "code",
   "execution_count": null,
   "id": "b47ec81a",
   "metadata": {},
   "outputs": [],
   "source": [
    "# Train-Test Split Function\n",
    "def split_train_test(df, test_size=0.3, shuffle_state=True):\n",
    "    X_train, X_test, Y_train, Y_test = train_test_split(df['messages'], \n",
    "                                                        df['labels'], \n",
    "                                                        shuffle=shuffle_state,\n",
    "                                                        test_size=test_size, \n",
    "                                                        random_state=15)\n",
    "    print(\"Value counts for Train sentiments\")\n",
    "    print(Y_train.value_counts())\n",
    "    print(\"Value counts for Test sentiments\")\n",
    "    print(Y_test.value_counts())\n",
    "    print(type(X_train))\n",
    "    print(type(Y_train))\n",
    "    X_train = X_train.reset_index()\n",
    "    X_test = X_test.reset_index()\n",
    "    Y_train = Y_train.to_frame()\n",
    "    Y_train = Y_train.reset_index()\n",
    "    Y_test = Y_test.to_frame()\n",
    "    Y_test = Y_test.reset_index()\n",
    "    print(X_train.head())\n",
    "    return X_train, X_test, Y_train, Y_test\n",
    "\n",
    "# Call the train_test_split\n",
    "X_train, X_test, Y_train, Y_test = split_train_test(df)"
   ]
  },
  {
   "cell_type": "code",
   "execution_count": null,
   "id": "40be79ce",
   "metadata": {},
   "outputs": [],
   "source": [
    "X_train.drop(\"index\", axis=1, inplace=True)\n",
    "X_test.drop(\"index\", axis=1, inplace=True)\n",
    "Y_train.drop(\"index\", axis=1, inplace=True)\n",
    "Y_test.drop(\"index\", axis=1, inplace=True)"
   ]
  },
  {
   "cell_type": "code",
   "execution_count": null,
   "id": "cd8912e3",
   "metadata": {},
   "outputs": [],
   "source": [
    "### above is fine\n",
    "### below needs to be redone"
   ]
  },
  {
   "cell_type": "code",
   "execution_count": null,
   "id": "1fbb2d1a",
   "metadata": {},
   "outputs": [],
   "source": []
  },
  {
   "cell_type": "markdown",
   "id": "05ec1371",
   "metadata": {},
   "source": [
    "code below from: https://stackoverflow.com/questions/52038651/loss-does-not-decrease-during-training-word2vec-gensim/52067942"
   ]
  },
  {
   "cell_type": "markdown",
   "id": "25901786",
   "metadata": {},
   "source": [
    "**Results:**\n",
    "\n",
    "Perhaps most notably is the size of the vocabulary. 3056 is not a large word count; chances are the results would be overfit to this specific set of sentences. As always, to have a truly predictive model, far more data would be required. \n",
    "\n",
    "To access a pretrained Word2Vec model, Google's can be accessed in the following manner:\n",
    "\n",
    "```python\n",
    "\n",
    "import gensim.downloader as api\n",
    "path = api.load(\"word2vec-google-news-300\", return_path=True)\n",
    "print(path)\n",
    "```"
   ]
  },
  {
   "cell_type": "code",
   "execution_count": null,
   "id": "acc3df05",
   "metadata": {},
   "outputs": [],
   "source": [
    "from sklearn.manifold import TSNE  ## reduction of dimensions"
   ]
  },
  {
   "cell_type": "markdown",
   "id": "351cd1cf",
   "metadata": {},
   "source": [
    "Visualization of Word2Vec embeddings from documentation at:\n",
    "https://radimrehurek.com/gensim_3.8.3/auto_examples/tutorials/run_word2vec.html#sphx-glr-auto-examples-tutorials-run-word2vec-py"
   ]
  },
  {
   "cell_type": "code",
   "execution_count": null,
   "id": "df89a307",
   "metadata": {},
   "outputs": [],
   "source": [
    "\n",
    "from sklearn.decomposition import IncrementalPCA    # inital reduction\n",
    "from sklearn.manifold import TSNE                   # final reduction\n",
    "import numpy as np                                  # array handling\n",
    "\n",
    "\n",
    "def reduce_dimensions(model):\n",
    "    num_dimensions = 2  # final num dimensions (2D, 3D, etc)\n",
    "\n",
    "    vectors = [] # positions in vector space\n",
    "    labels = [] # keep track of words to label our data again later\n",
    "    for word in model.wv.key_to_index:\n",
    "        vectors.append(model.wv[word])\n",
    "        labels.append(word)\n",
    "\n",
    "    # convert both lists into numpy vectors for reduction\n",
    "    vectors = np.asarray(vectors)\n",
    "    labels = np.asarray(labels)\n",
    "\n",
    "    # reduce using t-SNE\n",
    "    vectors = np.asarray(vectors)\n",
    "    tsne = TSNE(n_components=num_dimensions, random_state=0)\n",
    "    vectors = tsne.fit_transform(vectors)\n",
    "\n",
    "    x_vals = [v[0] for v in vectors]\n",
    "    y_vals = [v[1] for v in vectors]\n",
    "    return x_vals, y_vals, labels\n",
    "\n",
    "\n",
    "x_vals, y_vals, labels = reduce_dimensions(fin_w2v_model)\n",
    "\n",
    "def plot_with_plotly(x_vals, y_vals, labels, plot_in_notebook=True):\n",
    "    from plotly.offline import init_notebook_mode, iplot, plot\n",
    "    import plotly.graph_objs as go\n",
    "\n",
    "    trace = go.Scatter(x=x_vals, y=y_vals, mode='text', text=labels)\n",
    "    data = [trace]\n",
    "\n",
    "    if plot_in_notebook:\n",
    "        init_notebook_mode(connected=True)\n",
    "        iplot(data, filename='word-embedding-plot')\n",
    "    else:\n",
    "        plot(data, filename='word-embedding-plot.html')\n",
    "\n",
    "\n",
    "def plot_with_matplotlib(x_vals, y_vals, labels):\n",
    "    import matplotlib.pyplot as plt\n",
    "    import random\n",
    "\n",
    "    random.seed(0)\n",
    "\n",
    "    plt.figure(figsize=(12, 12))\n",
    "    plt.scatter(x_vals, y_vals)\n",
    "\n",
    "    #\n",
    "    # Label randomly subsampled 25 data points\n",
    "    #\n",
    "    indices = list(range(len(labels)))\n",
    "    selected_indices = random.sample(indices, 25)\n",
    "    for i in selected_indices:\n",
    "        plt.annotate(labels[i], (x_vals[i], y_vals[i]))\n",
    "\n",
    "try:\n",
    "    get_ipython()\n",
    "except Exception:\n",
    "    plot_function = plot_with_matplotlib\n",
    "else:\n",
    "    plot_function = plot_with_plotly\n",
    "\n",
    "plot_function(x_vals, y_vals, labels)"
   ]
  },
  {
   "cell_type": "markdown",
   "id": "5f89f8c7",
   "metadata": {},
   "source": [
    "### Create sentence vectors:\n",
    "\n",
    "Below, I am attempting to create a sentence vector to be used in prediction. However, since the dataset is so small, and it isn't trained on outside information, many of the words are not found in the training model, and thus incapable of applying a mean to the vectors. Should I go back and use all of the terms for the model, and train-test-split after? Do I increase the epochs?"
   ]
  },
  {
   "cell_type": "code",
   "execution_count": null,
   "id": "e5f35193",
   "metadata": {},
   "outputs": [],
   "source": []
  },
  {
   "cell_type": "code",
   "execution_count": null,
   "id": "cca86447",
   "metadata": {},
   "outputs": [],
   "source": []
  },
  {
   "cell_type": "code",
   "execution_count": null,
   "id": "1b0b1cc6",
   "metadata": {},
   "outputs": [],
   "source": []
  },
  {
   "cell_type": "code",
   "execution_count": null,
   "id": "4f156efa",
   "metadata": {},
   "outputs": [],
   "source": []
  },
  {
   "cell_type": "code",
   "execution_count": null,
   "id": "2af632b2",
   "metadata": {},
   "outputs": [],
   "source": []
  },
  {
   "cell_type": "code",
   "execution_count": null,
   "id": "8d7c61f8",
   "metadata": {},
   "outputs": [],
   "source": [
    "## Below is old, new process started above."
   ]
  },
  {
   "cell_type": "code",
   "execution_count": null,
   "id": "9f43dba3",
   "metadata": {},
   "outputs": [],
   "source": []
  },
  {
   "cell_type": "code",
   "execution_count": null,
   "id": "6f27c6a0",
   "metadata": {},
   "outputs": [],
   "source": [
    "# Store the vectors for train data in following file\n",
    "word2vec_filename = './data' + 'train_review_word2vec.csv'\n",
    "with open(word2vec_filename, 'w+') as word2vec_file:\n",
    "    for index, row in X_train.iterrows():\n",
    "        model_vector = (np.mean([i for i in sg_w2v_model.wv.vectors], axis=0)).tolist()\n",
    "        if index == 0:\n",
    "            header = \",\".join(str(ele) for ele in range(1000))\n",
    "            word2vec_file.write(header)\n",
    "            word2vec_file.write(\"\\n\")\n",
    "        # Check if the line exists else it is vector of zeros\n",
    "        if type(model_vector) is list:  \n",
    "            line1 = \",\".join( [str(vector_element) for vector_element in model_vector] )\n",
    "        else:\n",
    "            line1 = \",\".join([str(0) for i in range(1000)])\n",
    "        word2vec_file.write(line1)\n",
    "        word2vec_file.write('\\n')"
   ]
  },
  {
   "cell_type": "code",
   "execution_count": null,
   "id": "a684f42e",
   "metadata": {},
   "outputs": [],
   "source": [
    "train_data = pd.read_csv('datatrain_review_word2vec.csv')"
   ]
  },
  {
   "cell_type": "code",
   "execution_count": null,
   "id": "fcb1e57c",
   "metadata": {},
   "outputs": [],
   "source": [
    "train_data.head()"
   ]
  },
  {
   "cell_type": "code",
   "execution_count": null,
   "id": "bed5967f",
   "metadata": {},
   "outputs": [],
   "source": [
    "# Store the vectors for test data in following file\n",
    "word2vec_filename = './data' + 'test_review_word2vec.csv'\n",
    "with open(word2vec_filename, 'w+') as word2vec_file:\n",
    "    for index, row in X_test.iterrows():\n",
    "        model_vector = (np.mean([i for i in sg_w2v_model.wv.vectors], axis=0)).tolist()\n",
    "        if index == 0:\n",
    "            header = \",\".join(str(ele) for ele in range(1000))\n",
    "            word2vec_file.write(header)\n",
    "            word2vec_file.write(\"\\n\")\n",
    "        # Check if the line exists else it is vector of zeros\n",
    "        if type(model_vector) is list:  \n",
    "            line1 = \",\".join( [str(vector_element) for vector_element in model_vector] )\n",
    "        else:\n",
    "            line1 = \",\".join([str(0) for i in range(1000)])\n",
    "        word2vec_file.write(line1)\n",
    "        word2vec_file.write('\\n')"
   ]
  },
  {
   "cell_type": "code",
   "execution_count": null,
   "id": "f124bc49",
   "metadata": {},
   "outputs": [],
   "source": [
    "Y_train.to_csv('y_train.csv')"
   ]
  },
  {
   "cell_type": "code",
   "execution_count": null,
   "id": "1cecdd6c",
   "metadata": {},
   "outputs": [],
   "source": [
    "Y_test.to_csv('y_test.csv')"
   ]
  },
  {
   "cell_type": "code",
   "execution_count": null,
   "id": "03fbb048",
   "metadata": {},
   "outputs": [],
   "source": [
    "X_train"
   ]
  },
  {
   "cell_type": "code",
   "execution_count": null,
   "id": "5e42d08b",
   "metadata": {},
   "outputs": [],
   "source": [
    "import time\n",
    "#Import the DecisionTreeeClassifier\n",
    "from sklearn.tree import DecisionTreeClassifier\n",
    "\n",
    "#Initialize the model\n",
    "clf_decision_word2vec = DecisionTreeClassifier()\n",
    "\n",
    "start_time = time.time()\n",
    "# Fit the model\n",
    "clf_decision_word2vec.fit(X_train, Y_train.labels.values)\n",
    "print(\"Time taken to fit the model with word2vec vectors: \" + str(time.time() - start_time))\n"
   ]
  },
  {
   "cell_type": "code",
   "execution_count": null,
   "id": "95f2155d",
   "metadata": {},
   "outputs": [],
   "source": [
    "from sklearn.metrics import classification_report\n",
    "X_test = pd.read_csv('datatest_review_word2vec.csv')\n",
    "X_test.dropna(axis=1, how='all', inplace=True)\n",
    "\n",
    "y_pred = clf_decision_word2vec.predict(X_test)\n",
    "print(classification_report(Y_test.labels.values,y_pred, zero_division=0))"
   ]
  },
  {
   "cell_type": "code",
   "execution_count": null,
   "id": "b4025afa",
   "metadata": {},
   "outputs": [],
   "source": [
    "from sklearn.metrics import confusion_matrix\n",
    "confusion_matrix(Y_test.labels.values,y_pred)"
   ]
  },
  {
   "cell_type": "markdown",
   "id": "2f5b72e0",
   "metadata": {},
   "source": [
    "Provisional results:\n",
    "\n",
    "There are likely one of three reasons that the model is exclusively predicting neutral:\n",
    "\n",
    "1. Imbalance: the data is too imbalanced, thus the model fit is skewed towards a neutral prediction\n",
    "2. Insufficient data: The data the model trained on is simply not robust enough to have predictive merit\n",
    "3. Unique language: The technical language in financial headlines is uniquely difficult to perform SA on, compared to \"this cheeseburger is delicious\".\n",
    "4. Bad choice of model. Something more robust than a decision tree is needed."
   ]
  },
  {
   "cell_type": "markdown",
   "id": "e1e31601",
   "metadata": {},
   "source": [
    "Text Preprocess: https://medium.com/swlh/sentiment-classification-using-word-embeddings-word2vec-aedf28fbb8ca\n",
    "Vectorization: https://www.youtube.com/watch?v=MtM9QrCjuK4 \n"
   ]
  },
  {
   "cell_type": "code",
   "execution_count": null,
   "id": "7bf053a8",
   "metadata": {},
   "outputs": [],
   "source": []
  }
 ],
 "metadata": {
  "kernelspec": {
   "display_name": "Python 3 (ipykernel)",
   "language": "python",
   "name": "python3"
  },
  "language_info": {
   "codemirror_mode": {
    "name": "ipython",
    "version": 3
   },
   "file_extension": ".py",
   "mimetype": "text/x-python",
   "name": "python",
   "nbconvert_exporter": "python",
   "pygments_lexer": "ipython3",
   "version": "3.10.4"
  }
 },
 "nbformat": 4,
 "nbformat_minor": 5
}
