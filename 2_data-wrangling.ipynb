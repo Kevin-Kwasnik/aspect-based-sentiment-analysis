{
 "cells": [
  {
   "cell_type": "code",
   "execution_count": 37,
   "id": "10f492be",
   "metadata": {},
   "outputs": [],
   "source": [
    "import spacy\n",
    "import pandas as pd\n",
    "import numpy as np\n",
    "import nltk\n",
    "from nltk.tokenize.toktok import ToktokTokenizer\n",
    "import re\n",
    "from bs4 import BeautifulSoup\n",
    "from contractions import CONTRACTION_MAP\n",
    "#import unicodedata\n",
    "import matplotlib.pyplot as plt\n",
    "from gensim.utils import simple_preprocess\n",
    "import gensim\n",
    "from sklearn.model_selection import train_test_split\n",
    "nlp = spacy.load(\"en_core_web_sm\")\n",
    "import time\n",
    "import json\n",
    "import string\n",
    "\n",
    "tokenizer = ToktokTokenizer()\n",
    "stopword_list = nltk.corpus.stopwords.words('english')\n",
    "stopword_list.remove('no')\n",
    "stopword_list.remove('not')\n",
    "stopword_list.remove('up')\n",
    "stopword_list.remove('down')"
   ]
  },
  {
   "cell_type": "code",
   "execution_count": 13,
   "id": "11be96ef",
   "metadata": {},
   "outputs": [],
   "source": [
    "df = pd.read_csv('./data/all-data.csv', names = ['labels','messages'],encoding='ISO-8859-1')"
   ]
  },
  {
   "cell_type": "code",
   "execution_count": 14,
   "id": "943d30f6",
   "metadata": {
    "scrolled": true
   },
   "outputs": [
    {
     "data": {
      "text/html": [
       "<div>\n",
       "<style scoped>\n",
       "    .dataframe tbody tr th:only-of-type {\n",
       "        vertical-align: middle;\n",
       "    }\n",
       "\n",
       "    .dataframe tbody tr th {\n",
       "        vertical-align: top;\n",
       "    }\n",
       "\n",
       "    .dataframe thead th {\n",
       "        text-align: right;\n",
       "    }\n",
       "</style>\n",
       "<table border=\"1\" class=\"dataframe\">\n",
       "  <thead>\n",
       "    <tr style=\"text-align: right;\">\n",
       "      <th></th>\n",
       "      <th>labels</th>\n",
       "      <th>messages</th>\n",
       "    </tr>\n",
       "  </thead>\n",
       "  <tbody>\n",
       "    <tr>\n",
       "      <th>0</th>\n",
       "      <td>neutral</td>\n",
       "      <td>According to Gran , the company has no plans t...</td>\n",
       "    </tr>\n",
       "    <tr>\n",
       "      <th>1</th>\n",
       "      <td>neutral</td>\n",
       "      <td>Technopolis plans to develop in stages an area...</td>\n",
       "    </tr>\n",
       "    <tr>\n",
       "      <th>2</th>\n",
       "      <td>negative</td>\n",
       "      <td>The international electronic industry company ...</td>\n",
       "    </tr>\n",
       "    <tr>\n",
       "      <th>3</th>\n",
       "      <td>positive</td>\n",
       "      <td>With the new production plant the company woul...</td>\n",
       "    </tr>\n",
       "    <tr>\n",
       "      <th>4</th>\n",
       "      <td>positive</td>\n",
       "      <td>According to the company 's updated strategy f...</td>\n",
       "    </tr>\n",
       "  </tbody>\n",
       "</table>\n",
       "</div>"
      ],
      "text/plain": [
       "     labels                                           messages\n",
       "0   neutral  According to Gran , the company has no plans t...\n",
       "1   neutral  Technopolis plans to develop in stages an area...\n",
       "2  negative  The international electronic industry company ...\n",
       "3  positive  With the new production plant the company woul...\n",
       "4  positive  According to the company 's updated strategy f..."
      ]
     },
     "execution_count": 14,
     "metadata": {},
     "output_type": "execute_result"
    }
   ],
   "source": [
    "df.head()"
   ]
  },
  {
   "cell_type": "code",
   "execution_count": 15,
   "id": "6a820284",
   "metadata": {},
   "outputs": [
    {
     "data": {
      "image/png": "[encoded data removed]",
      "text/plain": [
       "<Figure size 432x288 with 1 Axes>"
      ]
     },
     "metadata": {
      "needs_background": "light"
     },
     "output_type": "display_data"
    }
   ],
   "source": [
    "df.groupby(['labels']).count().plot.bar()\n",
    "plt.ylabel(\"Count\")\n",
    "plt.xlabel(\"Sentiment\")\n",
    "plt.title(\"Sentiment distribution in df\")\n",
    "plt.show()"
   ]
  },
  {
   "cell_type": "code",
   "execution_count": 16,
   "id": "4d54f7cb",
   "metadata": {},
   "outputs": [
    {
     "data": {
      "text/plain": [
       "', , stopwords , computer not'"
      ]
     },
     "execution_count": 16,
     "metadata": {},
     "output_type": "execute_result"
    }
   ],
   "source": [
    "### remove stopwords\n",
    "\n",
    "def remove_stopwords(text, is_lower_case=False):\n",
    "    tokens = tokenizer.tokenize(text)\n",
    "    tokens = [token.strip() for token in tokens]\n",
    "    if is_lower_case:\n",
    "        filtered_tokens = [token for token in tokens if token not in stopword_list]\n",
    "    else:\n",
    "        filtered_tokens = [token for token in tokens if token.lower() not in stopword_list]\n",
    "    filtered_text = ' '.join(filtered_tokens)    \n",
    "    return filtered_text\n",
    "\n",
    "remove_stopwords(\"The, and, if are stopwords, computer is not\")"
   ]
  },
  {
   "cell_type": "code",
   "execution_count": 17,
   "id": "95d313b6",
   "metadata": {},
   "outputs": [
    {
     "data": {
      "text/plain": [
       "'You all cannot expand contractions I would think'"
      ]
     },
     "execution_count": 17,
     "metadata": {},
     "output_type": "execute_result"
    }
   ],
   "source": [
    "def expand_contractions(text, contraction_mapping=CONTRACTION_MAP):\n",
    "    \n",
    "    contractions_pattern = re.compile('({})'.format('|'.join(contraction_mapping.keys())), \n",
    "                                      flags=re.IGNORECASE|re.DOTALL)\n",
    "    def expand_match(contraction):\n",
    "        match = contraction.group(0)\n",
    "        first_char = match[0]\n",
    "        expanded_contraction = contraction_mapping.get(match)\\\n",
    "                                if contraction_mapping.get(match)\\\n",
    "                                else contraction_mapping.get(match.lower())                       \n",
    "        expanded_contraction = first_char+expanded_contraction[1:]\n",
    "        return expanded_contraction\n",
    "        \n",
    "    expanded_text = contractions_pattern.sub(expand_match, text)\n",
    "    expanded_text = re.sub(\"'\", \"\", expanded_text)\n",
    "    return expanded_text\n",
    "\n",
    "expand_contractions(\"Y'all can't expand contractions I'd think\")"
   ]
  },
  {
   "cell_type": "code",
   "execution_count": 19,
   "id": "994a5e5f",
   "metadata": {},
   "outputs": [
    {
     "data": {
      "text/plain": [
       "'return book be something I remain think about'"
      ]
     },
     "execution_count": 19,
     "metadata": {},
     "output_type": "execute_result"
    }
   ],
   "source": [
    "def lemmatize_text(text):\n",
    "    text = nlp(text)\n",
    "    text = ' '.join([word.lemma_ if word.lemma_ != '-PRON-' else word.text for word in text])\n",
    "    return text\n",
    "\n",
    "lemmatize_text(\"Returning books is something I remain thinking about\") #odd sentence, I know"
   ]
  },
  {
   "cell_type": "code",
   "execution_count": 20,
   "id": "5c14a996",
   "metadata": {},
   "outputs": [],
   "source": [
    "def normalize_text(text):\n",
    "    exp = expand_contractions(text)\n",
    "    low = exp.lower()\n",
    "    lemm = lemmatize_text(low)\n",
    "    no_sw = remove_stopwords(lemm)\n",
    "    return simple_preprocess(no_sw)"
   ]
  },
  {
   "cell_type": "code",
   "execution_count": 21,
   "id": "d10b3598",
   "metadata": {},
   "outputs": [],
   "source": [
    "#### text preprocess:\n",
    "\n",
    "df['messages'] = [normalize_text(row) for row in df['messages']]"
   ]
  },
  {
   "cell_type": "code",
   "execution_count": 22,
   "id": "d9e4a4da",
   "metadata": {},
   "outputs": [
    {
     "data": {
      "text/plain": [
       "['accord', 'gran', 'company']"
      ]
     },
     "execution_count": 22,
     "metadata": {},
     "output_type": "execute_result"
    }
   ],
   "source": [
    "df.iloc[0]['messages'][:3]"
   ]
  },
  {
   "cell_type": "code",
   "execution_count": 23,
   "id": "ea4ed9b5",
   "metadata": {},
   "outputs": [],
   "source": [
    "### map sentiment to int:\n",
    "\n",
    "def map_sentiment(sentiment):\n",
    "    if sentiment == 'negative':\n",
    "        return 0\n",
    "    elif sentiment == 'neutral':\n",
    "        return 2\n",
    "    else:\n",
    "        return 4"
   ]
  },
  {
   "cell_type": "code",
   "execution_count": 24,
   "id": "357b9f67",
   "metadata": {},
   "outputs": [],
   "source": [
    "df['labels'] = [map_sentiment(row) for row in df['labels']]"
   ]
  },
  {
   "cell_type": "code",
   "execution_count": 25,
   "id": "290c2f00",
   "metadata": {},
   "outputs": [
    {
     "data": {
      "text/plain": [
       "0    2\n",
       "1    2\n",
       "2    0\n",
       "Name: labels, dtype: int64"
      ]
     },
     "execution_count": 25,
     "metadata": {},
     "output_type": "execute_result"
    }
   ],
   "source": [
    "df['labels'].head(3)"
   ]
  },
  {
   "cell_type": "code",
   "execution_count": 26,
   "id": "fffe01e1",
   "metadata": {},
   "outputs": [
    {
     "name": "stdout",
     "output_type": "stream",
     "text": [
      "Number of rows per sentiment:\n",
      "2    2879\n",
      "4    1363\n",
      "0     604\n",
      "Name: labels, dtype: int64\n"
     ]
    },
    {
     "data": {
      "image/png": "[encoded data removed]",
      "text/plain": [
       "<Figure size 432x288 with 1 Axes>"
      ]
     },
     "metadata": {
      "needs_background": "light"
     },
     "output_type": "display_data"
    }
   ],
   "source": [
    "print(\"Number of rows per sentiment:\")\n",
    "print(df['labels'].value_counts())\n",
    "\n",
    "plt.figure()\n",
    "pd.value_counts(df['labels']).plot.bar(title=\"Sentiment distribution in df\")\n",
    "plt.xlabel(\"Sentiment\")\n",
    "plt.ylabel(\"No. of rows in df\")\n",
    "plt.show()"
   ]
  },
  {
   "cell_type": "code",
   "execution_count": 27,
   "id": "834c6d48",
   "metadata": {},
   "outputs": [],
   "source": [
    "df.to_csv('preprocessed-text.csv', sep = ',')"
   ]
  },
  {
   "cell_type": "code",
   "execution_count": 28,
   "id": "b47ec81a",
   "metadata": {},
   "outputs": [
    {
     "name": "stdout",
     "output_type": "stream",
     "text": [
      "Value counts for Train sentiments\n",
      "2    2000\n",
      "4     956\n",
      "0     436\n",
      "Name: labels, dtype: int64\n",
      "Value counts for Test sentiments\n",
      "2    879\n",
      "4    407\n",
      "0    168\n",
      "Name: labels, dtype: int64\n",
      "<class 'pandas.core.series.Series'>\n",
      "<class 'pandas.core.series.Series'>\n",
      "   index                                           messages\n",
      "0   2988  [market, share, percent, accord, ac, nielsen, ...\n",
      "1   3236                   [ecb, mainly, target, inflation]\n",
      "2   2061  [scania, morgan, stanley, lift, share, target,...\n",
      "3   3002  [kirsi, rantanen, previously, development, dir...\n",
      "4   1417  [russian, government, contribute, necessary, f...\n"
     ]
    }
   ],
   "source": [
    "# Train-Test Split Function\n",
    "def split_train_test(df, test_size=0.3, shuffle_state=True):\n",
    "    X_train, X_test, Y_train, Y_test = train_test_split(df['messages'], \n",
    "                                                        df['labels'], \n",
    "                                                        shuffle=shuffle_state,\n",
    "                                                        test_size=test_size, \n",
    "                                                        random_state=15)\n",
    "    print(\"Value counts for Train sentiments\")\n",
    "    print(Y_train.value_counts())\n",
    "    print(\"Value counts for Test sentiments\")\n",
    "    print(Y_test.value_counts())\n",
    "    print(type(X_train))\n",
    "    print(type(Y_train))\n",
    "    X_train = X_train.reset_index()\n",
    "    X_test = X_test.reset_index()\n",
    "    Y_train = Y_train.to_frame()\n",
    "    Y_train = Y_train.reset_index()\n",
    "    Y_test = Y_test.to_frame()\n",
    "    Y_test = Y_test.reset_index()\n",
    "    print(X_train.head())\n",
    "    return X_train, X_test, Y_train, Y_test\n",
    "\n",
    "# Call the train_test_split\n",
    "X_train, X_test, Y_train, Y_test = split_train_test(df)"
   ]
  },
  {
   "cell_type": "code",
   "execution_count": 34,
   "id": "d0ec828e",
   "metadata": {},
   "outputs": [],
   "source": [
    "X_train.drop(\"index\", axis=1, inplace=True)\n",
    "X_test.drop(\"index\", axis=1, inplace=True)\n",
    "Y_train.drop(\"index\", axis=1, inplace=True)\n",
    "Y_test.drop(\"index\", axis=1, inplace=True)"
   ]
  },
  {
   "cell_type": "code",
   "execution_count": 29,
   "id": "65b3833d",
   "metadata": {},
   "outputs": [],
   "source": [
    "### above is fine\n",
    "### below needs to be redone"
   ]
  },
  {
   "cell_type": "code",
   "execution_count": 53,
   "id": "29b00d84",
   "metadata": {},
   "outputs": [],
   "source": [
    "X_train = pd.Series(X_train['messages'].values)"
   ]
  },
  {
   "cell_type": "markdown",
   "id": "c90090a2",
   "metadata": {},
   "source": [
    "code below from: https://stackoverflow.com/questions/52038651/loss-does-not-decrease-during-training-word2vec-gensim/52067942"
   ]
  },
  {
   "cell_type": "code",
   "execution_count": 30,
   "id": "f1701bbb",
   "metadata": {},
   "outputs": [],
   "source": [
    "from gensim.models.callbacks import CallbackAny2Vec\n",
    "from gensim.models import Word2Vec\n",
    "\n",
    "# init callback class\n",
    "class callback(CallbackAny2Vec):\n",
    "    \"\"\"\n",
    "    Callback to print loss after each epoch\n",
    "    \"\"\"\n",
    "    def __init__(self):\n",
    "        self.epoch = 0\n",
    "\n",
    "    def on_epoch_end(self, model):\n",
    "        loss = model.get_latest_training_loss() \n",
    "        if self.epoch == 0:\n",
    "            print('Loss after epoch {}: {}'.format(self.epoch, loss))\n",
    "        else:\n",
    "            print('Loss after epoch {}: {}'.format(self.epoch, loss- self.loss_previous_step))\n",
    "        self.epoch += 1\n",
    "        self.loss_previous_step = loss"
   ]
  },
  {
   "cell_type": "code",
   "execution_count": 56,
   "id": "d700a1e1",
   "metadata": {},
   "outputs": [
    {
     "name": "stdout",
     "output_type": "stream",
     "text": [
      "Loss after epoch 0: 14214.0126953125\n",
      "Loss after epoch 1: 14787.6044921875\n",
      "Loss after epoch 2: 14425.35546875\n",
      "Loss after epoch 3: 16357.63671875\n",
      "Loss after epoch 4: 15504.9296875\n",
      "elapsed time in seconds: 0.08844995498657227\n"
     ]
    }
   ],
   "source": [
    "# init word2vec class\n",
    "w2v_model = Word2Vec(vector_size=300, # 300 dimension vector\n",
    "                     window=15, # how many neighbors around a particular word\n",
    "                     min_count=2, # the word needs to appear at least two times in the corpus\n",
    "                     workers=20, # speed of training\n",
    "                     sg=1, # sg=1 means this is a skip-gram model\n",
    "                     negative=5, # num of negative samples\n",
    "                     sample=1e-5) # sampling rate\n",
    "\n",
    "\n",
    "# build vovab\n",
    "w2v_model.build_vocab(X_train)\n",
    "  \n",
    "# train the w2v model\n",
    "start = time.time()\n",
    "w2v_model.train(X_train, \n",
    "                total_examples=w2v_model.corpus_count, #num of training samples\n",
    "                epochs=5, \n",
    "                report_delay=1,\n",
    "                compute_loss = True, # set compute_loss = True\n",
    "                callbacks=[callback()]) # add the callback class\n",
    "end = time.time()\n",
    "\n",
    "print(\"elapsed time in seconds: \" + str(end-start))\n",
    "# save the word2vec model\n",
    "w2v_model.save('fin_word2vec5.model')"
   ]
  },
  {
   "cell_type": "code",
   "execution_count": 64,
   "id": "9cbaac3f",
   "metadata": {},
   "outputs": [
    {
     "name": "stdout",
     "output_type": "stream",
     "text": [
      "Word2Vec Model Exploration:\n",
      "Vocab size: 3056\n",
      "Top 3 words similar to buy: [('company', 0.9848516583442688), ('service', 0.9838883876800537), ('finnish', 0.983462393283844)]\n",
      "Top 3 words similar to sell: [('company', 0.9864970445632935), ('service', 0.9851124286651611), ('say', 0.9847131371498108)]\n",
      "Similarity between 'buy' and 'profit' 0.95790493\n",
      "Similarity between 'sell' and 'loss' 0.9577688\n",
      "Vector distance of 'buy' and 'sell' 0.02530360221862793\n",
      "Vector distance of 'profit' and 'loss' 0.05438357591629028\n",
      "Vector representation of 'asset': [-2.48648808e-04  6.76754070e-03  6.13760296e-03  1.20333480e-02\n",
      " -8.09674338e-03 -1.09480759e-02  2.38281721e-03  2.35084426e-02\n",
      "  1.67235117e-02 -1.03755835e-02 -1.28494930e-02 -9.88984853e-03\n",
      "  1.30320871e-02 -2.69775442e-03 -1.59106497e-02 -1.67744774e-02\n",
      "  1.88445044e-03 -2.14561750e-03  1.34274876e-02  5.06266812e-03\n",
      " -6.21647853e-03  1.19132797e-04  9.54275671e-03  6.12904970e-03\n",
      "  2.42953002e-02  9.74640774e-04 -4.20973497e-03  1.54747559e-05\n",
      " -8.19595903e-03 -1.09114451e-02  2.64739315e-03 -1.05108749e-02\n",
      " -2.88381940e-03 -1.00055896e-02  3.65258916e-03 -2.39311880e-03\n",
      "  5.24267042e-03 -2.93027190e-03  7.64728896e-03 -6.07316149e-03\n",
      " -1.04544954e-02  8.85324832e-03  6.97982206e-04 -1.36111425e-02\n",
      "  9.06390313e-04  1.19916080e-02  8.84397794e-03  8.46486446e-03\n",
      " -1.66502018e-02  2.08956227e-02 -1.29985565e-03  9.29687452e-03\n",
      " -4.58563352e-03 -9.66499094e-03  5.92740471e-05  1.15367416e-02\n",
      "  1.00253057e-02  6.35510916e-03  1.01387771e-02  5.08626364e-03\n",
      " -5.91716310e-03  5.36542013e-03  4.59250405e-05  3.91952787e-03\n",
      "  8.72180890e-03 -1.32254837e-02 -7.43720448e-03  2.66075856e-03\n",
      " -3.79725592e-03 -6.19877689e-03 -6.14285981e-03  1.17529128e-02\n",
      "  6.12511206e-03 -6.51338696e-03 -4.51622996e-03  7.18225492e-03\n",
      " -6.63079135e-03 -5.82941342e-04  2.07417621e-03  6.44475780e-03\n",
      "  2.65144231e-03 -2.04715952e-02  1.09974919e-02  1.09281987e-02\n",
      " -4.36250726e-03 -1.55083730e-03 -7.84609746e-03 -2.77984398e-03\n",
      " -1.31917710e-03  1.29562085e-02 -3.11947835e-04  1.99230155e-03\n",
      "  1.36865135e-02  4.29605041e-03  7.38528231e-03  7.77624780e-03\n",
      "  3.89755471e-03  2.89569376e-03 -1.28366221e-02  9.99508146e-03\n",
      "  4.24572593e-03  2.77133286e-03  1.16122849e-02 -1.01001281e-02\n",
      "  6.44400064e-03 -4.40434692e-03 -1.64767113e-02  6.75721699e-03\n",
      " -1.24257458e-02  2.79345689e-03 -2.11486965e-03 -1.36001501e-02\n",
      " -5.84691879e-04 -7.37087859e-04  1.70877911e-02  7.83957262e-03\n",
      "  8.40779161e-04 -1.04781729e-03  2.44026873e-02 -1.59550924e-02\n",
      "  6.63529802e-03 -2.90142652e-03  1.71230119e-02  5.34549961e-03\n",
      " -1.24954327e-03 -6.48808852e-03  1.29110804e-02 -1.29027180e-02\n",
      " -9.38440207e-03 -7.82661419e-03 -7.05619622e-03  1.81868672e-02\n",
      "  2.78463028e-03  5.13045117e-04  1.29493484e-02 -5.58120944e-03\n",
      "  6.37110649e-03 -3.54641583e-03 -7.15240557e-03 -8.63542408e-03\n",
      "  5.24066295e-03 -9.50980838e-03 -3.47093306e-03  7.74438214e-03\n",
      "  7.71076418e-03  4.23498359e-03 -1.58145875e-02  7.24347727e-03\n",
      "  8.40479322e-03 -5.10737766e-03 -7.74455536e-03 -1.69902630e-02\n",
      " -6.05913764e-03  1.15825539e-03 -3.54632665e-03 -2.93456786e-03\n",
      " -7.45695643e-03 -8.42620712e-03  5.18837618e-03  3.98159539e-03\n",
      "  8.38746969e-03  9.56754014e-03 -1.18371975e-02  1.76855922e-02\n",
      " -5.90435648e-03  4.92017297e-03  6.10622019e-03 -9.59203485e-03\n",
      "  1.15487734e-02  1.57160927e-02 -1.42104691e-03  1.70812989e-03\n",
      "  8.91161617e-03 -4.33415547e-03 -9.00136773e-03  8.03139061e-03\n",
      "  1.04434704e-02 -3.84661427e-04 -7.47124385e-03  1.53193146e-03\n",
      " -1.49453683e-02  1.50444522e-03  2.44867802e-03 -7.05859624e-03\n",
      " -1.23308355e-03  2.59164046e-03  1.44876612e-04  8.90181866e-03\n",
      "  8.56769271e-03 -5.74239017e-03 -8.55419319e-03 -8.88637174e-03\n",
      " -1.17077390e-02  2.92362785e-03  1.17490673e-02 -2.38228333e-03\n",
      " -9.92150046e-03 -5.37710404e-03  6.32722955e-03  4.13729763e-03\n",
      " -2.71410891e-03  8.14080611e-03 -4.68033657e-04  2.04873810e-04\n",
      " -4.10315860e-03 -4.02065646e-03 -7.59396562e-03  1.75280287e-03\n",
      "  1.23432197e-03 -1.52694760e-02  4.85899486e-03  9.38230776e-04\n",
      " -1.34794181e-02 -1.58747914e-03  1.49629614e-03 -1.09482072e-02\n",
      "  3.48840933e-03 -3.45905917e-03 -9.12923738e-03 -1.03219217e-02\n",
      "  1.40545592e-02  5.40187210e-03 -4.31963010e-03 -4.52958466e-03\n",
      " -4.14625742e-03 -1.05108153e-02  4.08967119e-03  4.40631481e-03\n",
      " -1.93852186e-02  4.18804446e-03  1.36476634e-02 -7.32477847e-03\n",
      " -9.62118618e-03  8.07628734e-04 -8.02514050e-03  4.31612786e-03\n",
      "  3.69959255e-03  1.13242893e-02  3.35624535e-03 -1.26492279e-02\n",
      " -2.20674300e-03  1.21584089e-04 -1.25599522e-02  5.03005693e-03\n",
      "  1.03772129e-03 -1.48625821e-02 -9.95327532e-03  1.51312817e-02\n",
      " -9.08157509e-03 -2.05876748e-03 -3.15793534e-03  2.75026704e-03\n",
      "  4.23539570e-03 -4.31625452e-03 -2.66748527e-03 -2.81783799e-03\n",
      "  1.51239811e-02  1.46451117e-02 -9.48310923e-03  1.70126744e-03\n",
      "  4.54688026e-03  1.26771433e-02 -1.27194365e-02 -9.38178133e-03\n",
      "  6.89478684e-03 -2.50969257e-04 -5.08517819e-03 -2.91854412e-05\n",
      " -8.01497605e-03 -3.47895920e-03 -8.69597867e-03 -9.43165086e-03\n",
      " -1.95559091e-03 -4.96820966e-03  1.19548719e-02 -6.46373769e-03\n",
      "  3.90730146e-03  7.01200264e-03 -3.15440237e-03  4.74583311e-03\n",
      "  6.58118632e-03  8.58610217e-03 -1.75402442e-03  7.54622603e-03\n",
      "  2.98490806e-04 -3.65872798e-03 -1.95469856e-02 -1.46435935e-03\n",
      "  3.43237910e-03  1.57555006e-02 -5.79435518e-03  9.60287452e-03\n",
      "  1.30024897e-02 -3.13697802e-03  7.36051146e-03  6.58495864e-03\n",
      "  2.65296688e-03 -5.98296756e-03  1.37158670e-02  1.10755805e-02]\n"
     ]
    }
   ],
   "source": [
    "fin_w2v_model = Word2Vec.load('fin_word2vec20.model')\n",
    "words = list(fin_w2v_model.wv.index_to_key)\n",
    "print('Word2Vec Model Exploration:')\n",
    "print(\"Vocab size: \" +str(len(words)))\n",
    "\n",
    "w1= 'buy'\n",
    "print(\"Top 3 words similar to buy:\",\\\n",
    "     fin_w2v_model.wv.most_similar(positive= w1, topn=3))\n",
    "\n",
    "w2= 'sell'\n",
    "print(\"Top 3 words similar to sell:\",\\\n",
    "     fin_w2v_model.wv.most_similar(positive= w2, topn=3))\n",
    "\n",
    "print(\"Similarity between 'buy' and 'profit'\",\\\n",
    "     str(fin_w2v_model.wv.similarity(\"buy\", \"profit\")))\n",
    "\n",
    "print(\"Similarity between 'sell' and 'loss'\",\\\n",
    "     str(fin_w2v_model.wv.similarity(\"sell\", \"loss\")))\n",
    "\n",
    "print(\"Vector distance of 'buy' and 'sell'\",\\\n",
    "     str(fin_w2v_model.wv.distance(\"buy\", \"sell\")))\n",
    "\n",
    "print(\"Vector distance of 'profit' and 'loss'\",\\\n",
    "     str(fin_w2v_model.wv.distance(\"profit\", \"loss\")))\n",
    "\n",
    "print(\"Vector representation of 'asset':\",\\\n",
    "      fin_w2v_model.wv.get_vector(\"asset\"))"
   ]
  },
  {
   "cell_type": "markdown",
   "id": "2df6c3cf",
   "metadata": {},
   "source": [
    "**Results:**\n",
    "\n",
    "Perhaps most notably is the size of the vocabulary. 3056 is not a large word count; chances are the results would be overfit to this specific set of sentences. As always, to have a truly predictive model, far more data would be required. \n",
    "\n",
    "To access a pretrained Word2Vec model, Google's can be accessed in the following manner:\n",
    "\n",
    "```python\n",
    "\n",
    "import gensim.downloader as api\n",
    "path = api.load(\"word2vec-google-news-300\", return_path=True)\n",
    "print(path)\n",
    "```"
   ]
  },
  {
   "cell_type": "code",
   "execution_count": null,
   "id": "715a3c7a",
   "metadata": {},
   "outputs": [],
   "source": []
  },
  {
   "cell_type": "code",
   "execution_count": null,
   "id": "838090ef",
   "metadata": {},
   "outputs": [],
   "source": []
  },
  {
   "cell_type": "code",
   "execution_count": null,
   "id": "b41f07f8",
   "metadata": {},
   "outputs": [],
   "source": []
  },
  {
   "cell_type": "code",
   "execution_count": null,
   "id": "c030e322",
   "metadata": {},
   "outputs": [],
   "source": []
  },
  {
   "cell_type": "code",
   "execution_count": null,
   "id": "01ab8ca9",
   "metadata": {},
   "outputs": [],
   "source": []
  },
  {
   "cell_type": "code",
   "execution_count": 26,
   "id": "6f27c6a0",
   "metadata": {},
   "outputs": [],
   "source": [
    "# Store the vectors for train data in following file\n",
    "word2vec_filename = './data' + 'train_review_word2vec.csv'\n",
    "with open(word2vec_filename, 'w+') as word2vec_file:\n",
    "    for index, row in X_train.iterrows():\n",
    "        model_vector = (np.mean([i for i in sg_w2v_model.wv.vectors], axis=0)).tolist()\n",
    "        if index == 0:\n",
    "            header = \",\".join(str(ele) for ele in range(1000))\n",
    "            word2vec_file.write(header)\n",
    "            word2vec_file.write(\"\\n\")\n",
    "        # Check if the line exists else it is vector of zeros\n",
    "        if type(model_vector) is list:  \n",
    "            line1 = \",\".join( [str(vector_element) for vector_element in model_vector] )\n",
    "        else:\n",
    "            line1 = \",\".join([str(0) for i in range(1000)])\n",
    "        word2vec_file.write(line1)\n",
    "        word2vec_file.write('\\n')"
   ]
  },
  {
   "cell_type": "code",
   "execution_count": 27,
   "id": "a684f42e",
   "metadata": {},
   "outputs": [],
   "source": [
    "train_data = pd.read_csv('datatrain_review_word2vec.csv')"
   ]
  },
  {
   "cell_type": "code",
   "execution_count": 28,
   "id": "fcb1e57c",
   "metadata": {},
   "outputs": [
    {
     "data": {
      "text/html": [
       "<div>\n",
       "<style scoped>\n",
       "    .dataframe tbody tr th:only-of-type {\n",
       "        vertical-align: middle;\n",
       "    }\n",
       "\n",
       "    .dataframe tbody tr th {\n",
       "        vertical-align: top;\n",
       "    }\n",
       "\n",
       "    .dataframe thead th {\n",
       "        text-align: right;\n",
       "    }\n",
       "</style>\n",
       "<table border=\"1\" class=\"dataframe\">\n",
       "  <thead>\n",
       "    <tr style=\"text-align: right;\">\n",
       "      <th></th>\n",
       "      <th>0</th>\n",
       "      <th>1</th>\n",
       "      <th>2</th>\n",
       "      <th>3</th>\n",
       "      <th>4</th>\n",
       "      <th>5</th>\n",
       "      <th>6</th>\n",
       "      <th>7</th>\n",
       "      <th>8</th>\n",
       "      <th>9</th>\n",
       "      <th>...</th>\n",
       "      <th>990</th>\n",
       "      <th>991</th>\n",
       "      <th>992</th>\n",
       "      <th>993</th>\n",
       "      <th>994</th>\n",
       "      <th>995</th>\n",
       "      <th>996</th>\n",
       "      <th>997</th>\n",
       "      <th>998</th>\n",
       "      <th>999</th>\n",
       "    </tr>\n",
       "  </thead>\n",
       "  <tbody>\n",
       "    <tr>\n",
       "      <th>0</th>\n",
       "      <td>-0.052688</td>\n",
       "      <td>0.033104</td>\n",
       "      <td>0.004593</td>\n",
       "      <td>-0.010094</td>\n",
       "      <td>-0.004568</td>\n",
       "      <td>-0.121286</td>\n",
       "      <td>0.044553</td>\n",
       "      <td>0.114717</td>\n",
       "      <td>-0.053044</td>\n",
       "      <td>-0.053647</td>\n",
       "      <td>...</td>\n",
       "      <td>NaN</td>\n",
       "      <td>NaN</td>\n",
       "      <td>NaN</td>\n",
       "      <td>NaN</td>\n",
       "      <td>NaN</td>\n",
       "      <td>NaN</td>\n",
       "      <td>NaN</td>\n",
       "      <td>NaN</td>\n",
       "      <td>NaN</td>\n",
       "      <td>NaN</td>\n",
       "    </tr>\n",
       "    <tr>\n",
       "      <th>1</th>\n",
       "      <td>-0.052688</td>\n",
       "      <td>0.033104</td>\n",
       "      <td>0.004593</td>\n",
       "      <td>-0.010094</td>\n",
       "      <td>-0.004568</td>\n",
       "      <td>-0.121286</td>\n",
       "      <td>0.044553</td>\n",
       "      <td>0.114717</td>\n",
       "      <td>-0.053044</td>\n",
       "      <td>-0.053647</td>\n",
       "      <td>...</td>\n",
       "      <td>NaN</td>\n",
       "      <td>NaN</td>\n",
       "      <td>NaN</td>\n",
       "      <td>NaN</td>\n",
       "      <td>NaN</td>\n",
       "      <td>NaN</td>\n",
       "      <td>NaN</td>\n",
       "      <td>NaN</td>\n",
       "      <td>NaN</td>\n",
       "      <td>NaN</td>\n",
       "    </tr>\n",
       "    <tr>\n",
       "      <th>2</th>\n",
       "      <td>-0.052688</td>\n",
       "      <td>0.033104</td>\n",
       "      <td>0.004593</td>\n",
       "      <td>-0.010094</td>\n",
       "      <td>-0.004568</td>\n",
       "      <td>-0.121286</td>\n",
       "      <td>0.044553</td>\n",
       "      <td>0.114717</td>\n",
       "      <td>-0.053044</td>\n",
       "      <td>-0.053647</td>\n",
       "      <td>...</td>\n",
       "      <td>NaN</td>\n",
       "      <td>NaN</td>\n",
       "      <td>NaN</td>\n",
       "      <td>NaN</td>\n",
       "      <td>NaN</td>\n",
       "      <td>NaN</td>\n",
       "      <td>NaN</td>\n",
       "      <td>NaN</td>\n",
       "      <td>NaN</td>\n",
       "      <td>NaN</td>\n",
       "    </tr>\n",
       "    <tr>\n",
       "      <th>3</th>\n",
       "      <td>-0.052688</td>\n",
       "      <td>0.033104</td>\n",
       "      <td>0.004593</td>\n",
       "      <td>-0.010094</td>\n",
       "      <td>-0.004568</td>\n",
       "      <td>-0.121286</td>\n",
       "      <td>0.044553</td>\n",
       "      <td>0.114717</td>\n",
       "      <td>-0.053044</td>\n",
       "      <td>-0.053647</td>\n",
       "      <td>...</td>\n",
       "      <td>NaN</td>\n",
       "      <td>NaN</td>\n",
       "      <td>NaN</td>\n",
       "      <td>NaN</td>\n",
       "      <td>NaN</td>\n",
       "      <td>NaN</td>\n",
       "      <td>NaN</td>\n",
       "      <td>NaN</td>\n",
       "      <td>NaN</td>\n",
       "      <td>NaN</td>\n",
       "    </tr>\n",
       "    <tr>\n",
       "      <th>4</th>\n",
       "      <td>-0.052688</td>\n",
       "      <td>0.033104</td>\n",
       "      <td>0.004593</td>\n",
       "      <td>-0.010094</td>\n",
       "      <td>-0.004568</td>\n",
       "      <td>-0.121286</td>\n",
       "      <td>0.044553</td>\n",
       "      <td>0.114717</td>\n",
       "      <td>-0.053044</td>\n",
       "      <td>-0.053647</td>\n",
       "      <td>...</td>\n",
       "      <td>NaN</td>\n",
       "      <td>NaN</td>\n",
       "      <td>NaN</td>\n",
       "      <td>NaN</td>\n",
       "      <td>NaN</td>\n",
       "      <td>NaN</td>\n",
       "      <td>NaN</td>\n",
       "      <td>NaN</td>\n",
       "      <td>NaN</td>\n",
       "      <td>NaN</td>\n",
       "    </tr>\n",
       "  </tbody>\n",
       "</table>\n",
       "<p>5 rows × 1000 columns</p>\n",
       "</div>"
      ],
      "text/plain": [
       "          0         1         2         3         4         5         6  \\\n",
       "0 -0.052688  0.033104  0.004593 -0.010094 -0.004568 -0.121286  0.044553   \n",
       "1 -0.052688  0.033104  0.004593 -0.010094 -0.004568 -0.121286  0.044553   \n",
       "2 -0.052688  0.033104  0.004593 -0.010094 -0.004568 -0.121286  0.044553   \n",
       "3 -0.052688  0.033104  0.004593 -0.010094 -0.004568 -0.121286  0.044553   \n",
       "4 -0.052688  0.033104  0.004593 -0.010094 -0.004568 -0.121286  0.044553   \n",
       "\n",
       "          7         8         9  ...  990  991  992  993  994  995  996  997  \\\n",
       "0  0.114717 -0.053044 -0.053647  ...  NaN  NaN  NaN  NaN  NaN  NaN  NaN  NaN   \n",
       "1  0.114717 -0.053044 -0.053647  ...  NaN  NaN  NaN  NaN  NaN  NaN  NaN  NaN   \n",
       "2  0.114717 -0.053044 -0.053647  ...  NaN  NaN  NaN  NaN  NaN  NaN  NaN  NaN   \n",
       "3  0.114717 -0.053044 -0.053647  ...  NaN  NaN  NaN  NaN  NaN  NaN  NaN  NaN   \n",
       "4  0.114717 -0.053044 -0.053647  ...  NaN  NaN  NaN  NaN  NaN  NaN  NaN  NaN   \n",
       "\n",
       "   998  999  \n",
       "0  NaN  NaN  \n",
       "1  NaN  NaN  \n",
       "2  NaN  NaN  \n",
       "3  NaN  NaN  \n",
       "4  NaN  NaN  \n",
       "\n",
       "[5 rows x 1000 columns]"
      ]
     },
     "execution_count": 28,
     "metadata": {},
     "output_type": "execute_result"
    }
   ],
   "source": [
    "train_data.head()"
   ]
  },
  {
   "cell_type": "code",
   "execution_count": 29,
   "id": "bed5967f",
   "metadata": {},
   "outputs": [],
   "source": [
    "# Store the vectors for test data in following file\n",
    "word2vec_filename = './data' + 'test_review_word2vec.csv'\n",
    "with open(word2vec_filename, 'w+') as word2vec_file:\n",
    "    for index, row in X_test.iterrows():\n",
    "        model_vector = (np.mean([i for i in sg_w2v_model.wv.vectors], axis=0)).tolist()\n",
    "        if index == 0:\n",
    "            header = \",\".join(str(ele) for ele in range(1000))\n",
    "            word2vec_file.write(header)\n",
    "            word2vec_file.write(\"\\n\")\n",
    "        # Check if the line exists else it is vector of zeros\n",
    "        if type(model_vector) is list:  \n",
    "            line1 = \",\".join( [str(vector_element) for vector_element in model_vector] )\n",
    "        else:\n",
    "            line1 = \",\".join([str(0) for i in range(1000)])\n",
    "        word2vec_file.write(line1)\n",
    "        word2vec_file.write('\\n')"
   ]
  },
  {
   "cell_type": "code",
   "execution_count": 32,
   "id": "f124bc49",
   "metadata": {},
   "outputs": [],
   "source": [
    "Y_train.to_csv('y_train.csv')"
   ]
  },
  {
   "cell_type": "code",
   "execution_count": 33,
   "id": "1cecdd6c",
   "metadata": {},
   "outputs": [],
   "source": [
    "Y_test.to_csv('y_test.csv')"
   ]
  },
  {
   "cell_type": "code",
   "execution_count": 37,
   "id": "03fbb048",
   "metadata": {},
   "outputs": [
    {
     "data": {
      "text/html": [
       "<div>\n",
       "<style scoped>\n",
       "    .dataframe tbody tr th:only-of-type {\n",
       "        vertical-align: middle;\n",
       "    }\n",
       "\n",
       "    .dataframe tbody tr th {\n",
       "        vertical-align: top;\n",
       "    }\n",
       "\n",
       "    .dataframe thead th {\n",
       "        text-align: right;\n",
       "    }\n",
       "</style>\n",
       "<table border=\"1\" class=\"dataframe\">\n",
       "  <thead>\n",
       "    <tr style=\"text-align: right;\">\n",
       "      <th></th>\n",
       "      <th>index</th>\n",
       "      <th>messages</th>\n",
       "    </tr>\n",
       "  </thead>\n",
       "  <tbody>\n",
       "    <tr>\n",
       "      <th>0</th>\n",
       "      <td>2988</td>\n",
       "      <td>[market, share, percent, accord, ac, nielsen, ...</td>\n",
       "    </tr>\n",
       "    <tr>\n",
       "      <th>1</th>\n",
       "      <td>3236</td>\n",
       "      <td>[ecb, mainly, target, inflation]</td>\n",
       "    </tr>\n",
       "    <tr>\n",
       "      <th>2</th>\n",
       "      <td>2061</td>\n",
       "      <td>[scania, morgan, stanley, lift, share, target,...</td>\n",
       "    </tr>\n",
       "    <tr>\n",
       "      <th>3</th>\n",
       "      <td>3002</td>\n",
       "      <td>[kirsi, rantanen, previously, development, dir...</td>\n",
       "    </tr>\n",
       "    <tr>\n",
       "      <th>4</th>\n",
       "      <td>1417</td>\n",
       "      <td>[russian, government, contribute, necessary, f...</td>\n",
       "    </tr>\n",
       "    <tr>\n",
       "      <th>...</th>\n",
       "      <td>...</td>\n",
       "      <td>...</td>\n",
       "    </tr>\n",
       "    <tr>\n",
       "      <th>3387</th>\n",
       "      <td>3271</td>\n",
       "      <td>[insolvency, act, regulate, amount, debt, borr...</td>\n",
       "    </tr>\n",
       "    <tr>\n",
       "      <th>3388</th>\n",
       "      <td>2715</td>\n",
       "      <td>[nordic, infrastructure, construction, one, st...</td>\n",
       "    </tr>\n",
       "    <tr>\n",
       "      <th>3389</th>\n",
       "      <td>2204</td>\n",
       "      <td>[company, also, expect, sell, product, russian...</td>\n",
       "    </tr>\n",
       "    <tr>\n",
       "      <th>3390</th>\n",
       "      <td>2693</td>\n",
       "      <td>[solution, extension, exist, online, mediation...</td>\n",
       "    </tr>\n",
       "    <tr>\n",
       "      <th>3391</th>\n",
       "      <td>3829</td>\n",
       "      <td>[ea, reng, group, post, sale, approximately, m...</td>\n",
       "    </tr>\n",
       "  </tbody>\n",
       "</table>\n",
       "<p>3392 rows × 2 columns</p>\n",
       "</div>"
      ],
      "text/plain": [
       "      index                                           messages\n",
       "0      2988  [market, share, percent, accord, ac, nielsen, ...\n",
       "1      3236                   [ecb, mainly, target, inflation]\n",
       "2      2061  [scania, morgan, stanley, lift, share, target,...\n",
       "3      3002  [kirsi, rantanen, previously, development, dir...\n",
       "4      1417  [russian, government, contribute, necessary, f...\n",
       "...     ...                                                ...\n",
       "3387   3271  [insolvency, act, regulate, amount, debt, borr...\n",
       "3388   2715  [nordic, infrastructure, construction, one, st...\n",
       "3389   2204  [company, also, expect, sell, product, russian...\n",
       "3390   2693  [solution, extension, exist, online, mediation...\n",
       "3391   3829  [ea, reng, group, post, sale, approximately, m...\n",
       "\n",
       "[3392 rows x 2 columns]"
      ]
     },
     "execution_count": 37,
     "metadata": {},
     "output_type": "execute_result"
    }
   ],
   "source": [
    "X_train"
   ]
  },
  {
   "cell_type": "code",
   "execution_count": 60,
   "id": "5e42d08b",
   "metadata": {},
   "outputs": [
    {
     "name": "stdout",
     "output_type": "stream",
     "text": [
      "Time taken to fit the model with word2vec vectors: 0.01562976837158203\n"
     ]
    }
   ],
   "source": [
    "import time\n",
    "#Import the DecisionTreeeClassifier\n",
    "from sklearn.tree import DecisionTreeClassifier\n",
    "\n",
    "#Initialize the model\n",
    "clf_decision_word2vec = DecisionTreeClassifier()\n",
    "\n",
    "start_time = time.time()\n",
    "# Fit the model\n",
    "clf_decision_word2vec.fit(X_train, Y_train.labels.values)\n",
    "print(\"Time taken to fit the model with word2vec vectors: \" + str(time.time() - start_time))\n"
   ]
  },
  {
   "cell_type": "code",
   "execution_count": 61,
   "id": "95f2155d",
   "metadata": {},
   "outputs": [
    {
     "name": "stdout",
     "output_type": "stream",
     "text": [
      "              precision    recall  f1-score   support\n",
      "\n",
      "          -1       0.00      0.00      0.00       168\n",
      "           0       0.60      1.00      0.75       879\n",
      "           1       0.00      0.00      0.00       407\n",
      "\n",
      "    accuracy                           0.60      1454\n",
      "   macro avg       0.20      0.33      0.25      1454\n",
      "weighted avg       0.37      0.60      0.46      1454\n",
      "\n"
     ]
    }
   ],
   "source": [
    "from sklearn.metrics import classification_report\n",
    "X_test = pd.read_csv('datatest_review_word2vec.csv')\n",
    "X_test.dropna(axis=1, how='all', inplace=True)\n",
    "\n",
    "y_pred = clf_decision_word2vec.predict(X_test)\n",
    "print(classification_report(Y_test.labels.values,y_pred, zero_division=0))"
   ]
  },
  {
   "cell_type": "code",
   "execution_count": 62,
   "id": "b4025afa",
   "metadata": {},
   "outputs": [
    {
     "data": {
      "text/plain": [
       "array([[  0, 168,   0],\n",
       "       [  0, 879,   0],\n",
       "       [  0, 407,   0]])"
      ]
     },
     "execution_count": 62,
     "metadata": {},
     "output_type": "execute_result"
    }
   ],
   "source": [
    "from sklearn.metrics import confusion_matrix\n",
    "confusion_matrix(Y_test.labels.values,y_pred)"
   ]
  },
  {
   "cell_type": "markdown",
   "id": "2f5b72e0",
   "metadata": {},
   "source": [
    "Provisional results:\n",
    "\n",
    "There are likely one of three reasons that the model is exclusively predicting neutral:\n",
    "\n",
    "1. Imbalance: the data is too imbalanced, thus the model fit is skewed towards a neutral prediction\n",
    "2. Insufficient data: The data the model trained on is simply not robust enough to have predictive merit\n",
    "3. Unique language: The technical language in financial headlines is uniquely difficult to perform SA on, compared to \"this cheeseburger is delicious\".\n",
    "4. Bad choice of model. Something more robust than a decision tree is needed."
   ]
  },
  {
   "cell_type": "code",
   "execution_count": null,
   "id": "98f55e84",
   "metadata": {},
   "outputs": [],
   "source": []
  }
 ],
 "metadata": {
  "kernelspec": {
   "display_name": "Python 3 (ipykernel)",
   "language": "python",
   "name": "python3"
  },
  "language_info": {
   "codemirror_mode": {
    "name": "ipython",
    "version": 3
   },
   "file_extension": ".py",
   "mimetype": "text/x-python",
   "name": "python",
   "nbconvert_exporter": "python",
   "pygments_lexer": "ipython3",
   "version": "3.9.7"
  }
 },
 "nbformat": 4,
 "nbformat_minor": 5
}
